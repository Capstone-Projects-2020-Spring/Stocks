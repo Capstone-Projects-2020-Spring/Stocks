{
 "cells": [
  {
   "cell_type": "code",
   "execution_count": 3,
   "metadata": {},
   "outputs": [],
   "source": [
    "#Install the dependencies\n",
    "import numpy as np \n",
    "from sklearn.linear_model import LinearRegression\n",
    "from sklearn.svm import SVR\n",
    "from sklearn.model_selection import train_test_split\n",
    "import pandas as pd"
   ]
  },
  {
   "cell_type": "code",
   "execution_count": 13,
   "metadata": {},
   "outputs": [],
   "source": [
    "df = pd.read_csv(\"Stock_CSV/AAPL.csv\") "
   ]
  },
  {
   "cell_type": "code",
   "execution_count": 14,
   "metadata": {},
   "outputs": [
    {
     "data": {
      "text/html": [
       "<div>\n",
       "<style scoped>\n",
       "    .dataframe tbody tr th:only-of-type {\n",
       "        vertical-align: middle;\n",
       "    }\n",
       "\n",
       "    .dataframe tbody tr th {\n",
       "        vertical-align: top;\n",
       "    }\n",
       "\n",
       "    .dataframe thead th {\n",
       "        text-align: right;\n",
       "    }\n",
       "</style>\n",
       "<table border=\"1\" class=\"dataframe\">\n",
       "  <thead>\n",
       "    <tr style=\"text-align: right;\">\n",
       "      <th></th>\n",
       "      <th>date</th>\n",
       "      <th>1. open</th>\n",
       "      <th>2. high</th>\n",
       "      <th>3. low</th>\n",
       "      <th>4. close</th>\n",
       "      <th>5. volume</th>\n",
       "    </tr>\n",
       "  </thead>\n",
       "  <tbody>\n",
       "    <tr>\n",
       "      <th>0</th>\n",
       "      <td>2020-03-23</td>\n",
       "      <td>228.080</td>\n",
       "      <td>228.4997</td>\n",
       "      <td>212.61</td>\n",
       "      <td>224.37</td>\n",
       "      <td>83134921.0</td>\n",
       "    </tr>\n",
       "    <tr>\n",
       "      <th>1</th>\n",
       "      <td>2020-03-20</td>\n",
       "      <td>247.180</td>\n",
       "      <td>251.8300</td>\n",
       "      <td>228.00</td>\n",
       "      <td>229.24</td>\n",
       "      <td>100423346.0</td>\n",
       "    </tr>\n",
       "    <tr>\n",
       "      <th>2</th>\n",
       "      <td>2020-03-19</td>\n",
       "      <td>247.385</td>\n",
       "      <td>252.8400</td>\n",
       "      <td>242.61</td>\n",
       "      <td>244.78</td>\n",
       "      <td>67964255.0</td>\n",
       "    </tr>\n",
       "    <tr>\n",
       "      <th>3</th>\n",
       "      <td>2020-03-18</td>\n",
       "      <td>239.770</td>\n",
       "      <td>250.0000</td>\n",
       "      <td>237.12</td>\n",
       "      <td>246.67</td>\n",
       "      <td>75058406.0</td>\n",
       "    </tr>\n",
       "    <tr>\n",
       "      <th>4</th>\n",
       "      <td>2020-03-17</td>\n",
       "      <td>247.510</td>\n",
       "      <td>257.6100</td>\n",
       "      <td>238.40</td>\n",
       "      <td>252.86</td>\n",
       "      <td>81013965.0</td>\n",
       "    </tr>\n",
       "  </tbody>\n",
       "</table>\n",
       "</div>"
      ],
      "text/plain": [
       "         date  1. open   2. high  3. low  4. close    5. volume\n",
       "0  2020-03-23  228.080  228.4997  212.61    224.37   83134921.0\n",
       "1  2020-03-20  247.180  251.8300  228.00    229.24  100423346.0\n",
       "2  2020-03-19  247.385  252.8400  242.61    244.78   67964255.0\n",
       "3  2020-03-18  239.770  250.0000  237.12    246.67   75058406.0\n",
       "4  2020-03-17  247.510  257.6100  238.40    252.86   81013965.0"
      ]
     },
     "execution_count": 14,
     "metadata": {},
     "output_type": "execute_result"
    }
   ],
   "source": [
    "df.head()"
   ]
  },
  {
   "cell_type": "code",
   "execution_count": 15,
   "metadata": {},
   "outputs": [],
   "source": [
    "dfclose = df[['4. close']] "
   ]
  },
  {
   "cell_type": "code",
   "execution_count": null,
   "metadata": {
    "collapsed": true
   },
   "outputs": [],
   "source": []
  }
 ],
 "metadata": {
  "kernelspec": {
   "display_name": "Python 3",
   "language": "python",
   "name": "python3"
  },
  "language_info": {
   "codemirror_mode": {
    "name": "ipython",
    "version": 3
   },
   "file_extension": ".py",
   "mimetype": "text/x-python",
   "name": "python",
   "nbconvert_exporter": "python",
   "pygments_lexer": "ipython3",
   "version": "3.7.5"
  }
 },
 "nbformat": 4,
 "nbformat_minor": 4
}
