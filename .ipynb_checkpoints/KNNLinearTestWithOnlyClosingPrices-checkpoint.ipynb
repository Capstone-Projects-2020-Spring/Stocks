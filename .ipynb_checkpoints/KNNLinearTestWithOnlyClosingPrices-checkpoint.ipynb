{
 "cells": [
  {
   "cell_type": "code",
   "execution_count": 2,
   "metadata": {},
   "outputs": [],
   "source": [
    "import numpy as np\n",
    "import matplotlib.pyplot as plt\n",
    "from matplotlib.colors import ListedColormap\n",
    "from sklearn import neighbors\n",
    "from sklearn.model_selection import train_test_split\n",
    "import matplotlib as mpl # this actually imports matplotlib\n",
    "import matplotlib.cm as cm #allows us easy access to colormaps\n",
    "import matplotlib.pyplot as plt #sets up plotting under plt\n",
    "import pandas as pd #lets us handle data as dataframes\n",
    "from sklearn.preprocessing import MinMaxScaler"
   ]
  },
  {
   "cell_type": "code",
   "execution_count": 6,
   "metadata": {},
   "outputs": [],
   "source": [
    "raw_df = pd.read_csv(\"../Stocks/StockCSV/CTSH.csv\")"
   ]
  },
  {
   "cell_type": "code",
   "execution_count": 7,
   "metadata": {},
   "outputs": [],
   "source": [
    "raw_seq = raw_df[\"4. close\"].tolist()"
   ]
  },
  {
   "cell_type": "code",
   "execution_count": 8,
   "metadata": {},
   "outputs": [],
   "source": [
    "seq = [ele for ele in reversed(raw_seq)] \n",
    "seq = np.array(seq)\n"
   ]
  },
  {
   "cell_type": "code",
   "execution_count": 9,
   "metadata": {},
   "outputs": [],
   "source": [
    "input_size = 1\n",
    "num_steps = 30"
   ]
  },
  {
   "cell_type": "code",
   "execution_count": 10,
   "metadata": {},
   "outputs": [],
   "source": [
    "seq = [np.array(seq[i * input_size: (i + 1) * input_size])\n",
    "               for i in range(len(seq) // input_size)]"
   ]
  },
  {
   "cell_type": "code",
   "execution_count": 11,
   "metadata": {},
   "outputs": [],
   "source": [
    "min_max_scaler = MinMaxScaler()\n",
    "seq = MinMaxScaler().fit_transform(seq)"
   ]
  },
  {
   "cell_type": "code",
   "execution_count": 12,
   "metadata": {},
   "outputs": [],
   "source": [
    "X = np.array([seq[i: i + num_steps] for i in range(len(seq) - num_steps)])\n",
    "y = np.array([seq[i + num_steps] for i in range(len(seq) - num_steps)])\n"
   ]
  },
  {
   "cell_type": "code",
   "execution_count": 13,
   "metadata": {},
   "outputs": [],
   "source": [
    "train_size = int(len(X)* (1-.1)) #saving 10% for test data\n",
    "X_train,X_test = X[:train_size] , X[train_size:]\n",
    "y_train, y_test = y[:train_size], y[train_size:]\n"
   ]
  },
  {
   "cell_type": "code",
   "execution_count": 14,
   "metadata": {},
   "outputs": [
    {
     "data": {
      "text/plain": [
       "(4502, 30)"
      ]
     },
     "execution_count": 14,
     "metadata": {},
     "output_type": "execute_result"
    }
   ],
   "source": [
    "X_train.shape\n",
    "X_train = X_train.reshape((X_train.shape[0], -1), order='F')\n",
    "X_train.shape"
   ]
  },
  {
   "cell_type": "code",
   "execution_count": 28,
   "metadata": {},
   "outputs": [
    {
     "data": {
      "text/plain": [
       "array([[0.69980186],\n",
       "       [0.70111177],\n",
       "       [0.69358695],\n",
       "       [0.69586065],\n",
       "       [0.6952866 ],\n",
       "       [0.69368532],\n",
       "       [0.6894072 ],\n",
       "       [0.68850296],\n",
       "       [0.69555221],\n",
       "       [0.70192041],\n",
       "       [0.69929028],\n",
       "       [0.70110511],\n",
       "       [0.6961283 ],\n",
       "       [0.69797192],\n",
       "       [0.70396517],\n",
       "       [0.70419571],\n",
       "       [0.7085246 ],\n",
       "       [0.70060509],\n",
       "       [0.70664778],\n",
       "       [0.69902645],\n",
       "       [0.68531936],\n",
       "       [0.68629075],\n",
       "       [0.67945334],\n",
       "       [0.67455067],\n",
       "       [0.67502963],\n",
       "       [0.6760161 ],\n",
       "       [0.67944033],\n",
       "       [0.67949347],\n",
       "       [0.67930371],\n",
       "       [0.67245544],\n",
       "       [0.67240295],\n",
       "       [0.6663142 ],\n",
       "       [0.66915034],\n",
       "       [0.6675935 ],\n",
       "       [0.66651486],\n",
       "       [0.67455742],\n",
       "       [0.67147318],\n",
       "       [0.66314421],\n",
       "       [0.66108799],\n",
       "       [0.64741203],\n",
       "       [0.64608064],\n",
       "       [0.64972794],\n",
       "       [0.65180791],\n",
       "       [0.65259582],\n",
       "       [0.65129923],\n",
       "       [0.64827616],\n",
       "       [0.65299856],\n",
       "       [0.66631839],\n",
       "       [0.67639069],\n",
       "       [0.69080617],\n",
       "       [0.71297229],\n",
       "       [0.71168043],\n",
       "       [0.68973501],\n",
       "       [0.6848543 ],\n",
       "       [0.67883314],\n",
       "       [0.68232834],\n",
       "       [0.67818073],\n",
       "       [0.67569465],\n",
       "       [0.67534753],\n",
       "       [0.67079553],\n",
       "       [0.66631329],\n",
       "       [0.67133918],\n",
       "       [0.66877676],\n",
       "       [0.67643814],\n",
       "       [0.68493962],\n",
       "       [0.69525686],\n",
       "       [0.7028385 ],\n",
       "       [0.70733571],\n",
       "       [0.7114418 ],\n",
       "       [0.70897535],\n",
       "       [0.71207091],\n",
       "       [0.72016064],\n",
       "       [0.72722412],\n",
       "       [0.73094882],\n",
       "       [0.74619591],\n",
       "       [0.75190411],\n",
       "       [0.75268132],\n",
       "       [0.76336629],\n",
       "       [0.76494139],\n",
       "       [0.76581724],\n",
       "       [0.75430414],\n",
       "       [0.74930649],\n",
       "       [0.7227351 ],\n",
       "       [0.688001  ],\n",
       "       [0.68719263],\n",
       "       [0.68535534],\n",
       "       [0.68389457],\n",
       "       [0.68367574],\n",
       "       [0.68483611],\n",
       "       [0.67716123],\n",
       "       [0.67167437],\n",
       "       [0.66377172],\n",
       "       [0.66346044],\n",
       "       [0.65792243],\n",
       "       [0.65688659],\n",
       "       [0.65768302],\n",
       "       [0.65958439],\n",
       "       [0.66330972],\n",
       "       [0.66491258],\n",
       "       [0.67091543],\n",
       "       [0.66769704],\n",
       "       [0.65872433],\n",
       "       [0.65974422],\n",
       "       [0.6492832 ],\n",
       "       [0.65205187],\n",
       "       [0.64700047],\n",
       "       [0.63626594],\n",
       "       [0.63083602],\n",
       "       [0.62882887],\n",
       "       [0.63057982],\n",
       "       [0.66508426],\n",
       "       [0.6750314 ],\n",
       "       [0.67394367],\n",
       "       [0.67102841],\n",
       "       [0.6747208 ],\n",
       "       [0.68426532],\n",
       "       [0.66911174],\n",
       "       [0.66327233],\n",
       "       [0.66614034],\n",
       "       [0.65916495],\n",
       "       [0.65693823],\n",
       "       [0.65773714],\n",
       "       [0.66246717],\n",
       "       [0.6658196 ],\n",
       "       [0.6714718 ],\n",
       "       [0.6763106 ],\n",
       "       [0.6671251 ],\n",
       "       [0.67125941],\n",
       "       [0.66059228],\n",
       "       [0.66011135],\n",
       "       [0.65783563],\n",
       "       [0.65937338],\n",
       "       [0.63989742],\n",
       "       [0.63852262],\n",
       "       [0.63472084],\n",
       "       [0.6341698 ],\n",
       "       [0.63161846],\n",
       "       [0.6338577 ],\n",
       "       [0.62546334],\n",
       "       [0.62482986],\n",
       "       [0.61107106],\n",
       "       [0.60221654],\n",
       "       [0.59845709],\n",
       "       [0.59471794],\n",
       "       [0.58843919],\n",
       "       [0.56717833],\n",
       "       [0.56662944],\n",
       "       [0.59552535],\n",
       "       [0.60117796],\n",
       "       [0.61359864],\n",
       "       [0.61808748],\n",
       "       [0.61926654],\n",
       "       [0.61811982],\n",
       "       [0.6177559 ],\n",
       "       [0.61741902],\n",
       "       [0.61665828],\n",
       "       [0.6153271 ],\n",
       "       [0.61200261],\n",
       "       [0.6136057 ],\n",
       "       [0.61625132],\n",
       "       [0.61725318],\n",
       "       [0.60629478],\n",
       "       [0.59295402],\n",
       "       [0.5883639 ],\n",
       "       [0.59605963],\n",
       "       [0.59795378],\n",
       "       [0.59507624],\n",
       "       [0.60030852],\n",
       "       [0.60701647],\n",
       "       [0.60839267],\n",
       "       [0.60775396],\n",
       "       [0.60131491],\n",
       "       [0.58302349],\n",
       "       [0.58352271],\n",
       "       [0.58546376],\n",
       "       [0.58691846],\n",
       "       [0.58761691],\n",
       "       [0.57922643],\n",
       "       [0.56515875],\n",
       "       [0.55070055],\n",
       "       [0.55097582],\n",
       "       [0.55064416],\n",
       "       [0.54665944],\n",
       "       [0.54518783],\n",
       "       [0.54519064],\n",
       "       [0.54240239],\n",
       "       [0.53176165],\n",
       "       [0.53448977],\n",
       "       [0.52301073],\n",
       "       [0.52157829],\n",
       "       [0.5160235 ],\n",
       "       [0.51585616],\n",
       "       [0.52785769],\n",
       "       [0.52452548],\n",
       "       [0.53298816],\n",
       "       [0.52708979],\n",
       "       [0.54691561],\n",
       "       [0.54571373],\n",
       "       [0.551142  ],\n",
       "       [0.56325829],\n",
       "       [0.57045893],\n",
       "       [0.57954771],\n",
       "       [0.58770948],\n",
       "       [0.59401048],\n",
       "       [0.59687238],\n",
       "       [0.59050454],\n",
       "       [0.58503324],\n",
       "       [0.58517219],\n",
       "       [0.58362369],\n",
       "       [0.58628866],\n",
       "       [0.59775932],\n",
       "       [0.61925932],\n",
       "       [0.62330333],\n",
       "       [0.62837366],\n",
       "       [0.62715697],\n",
       "       [0.63081784],\n",
       "       [0.63158894],\n",
       "       [0.63153983],\n",
       "       [0.63491548],\n",
       "       [0.63571476],\n",
       "       [0.63467902],\n",
       "       [0.63270355],\n",
       "       [0.63079827],\n",
       "       [0.63031955],\n",
       "       [0.629792  ],\n",
       "       [0.62188084],\n",
       "       [0.61417045],\n",
       "       [0.61784026],\n",
       "       [0.6208335 ],\n",
       "       [0.62158872],\n",
       "       [0.62187786],\n",
       "       [0.62951556],\n",
       "       [0.62770123],\n",
       "       [0.62813926],\n",
       "       [0.62779512],\n",
       "       [0.62267061],\n",
       "       [0.61940635],\n",
       "       [0.61994067],\n",
       "       [0.61701445],\n",
       "       [0.61755203],\n",
       "       [0.61709244],\n",
       "       [0.6187896 ],\n",
       "       [0.61760022],\n",
       "       [0.61725461],\n",
       "       [0.61876776],\n",
       "       [0.62049565],\n",
       "       [0.62100329],\n",
       "       [0.62687708],\n",
       "       [0.63504217],\n",
       "       [0.64121957],\n",
       "       [0.64517838],\n",
       "       [0.64672415],\n",
       "       [0.64462871],\n",
       "       [0.64834701],\n",
       "       [0.64875145],\n",
       "       [0.65214898],\n",
       "       [0.65517099],\n",
       "       [0.6532189 ],\n",
       "       [0.65059719],\n",
       "       [0.64568544],\n",
       "       [0.63946869],\n",
       "       [0.63715598],\n",
       "       [0.64224003],\n",
       "       [0.64117825],\n",
       "       [0.63856337],\n",
       "       [0.63860777],\n",
       "       [0.64000916],\n",
       "       [0.63635543],\n",
       "       [0.63646717],\n",
       "       [0.63675374],\n",
       "       [0.63223701],\n",
       "       [0.57096679],\n",
       "       [0.51365152],\n",
       "       [0.51242817],\n",
       "       [0.51283233],\n",
       "       [0.51245506],\n",
       "       [0.51086932],\n",
       "       [0.48493746],\n",
       "       [0.47687259],\n",
       "       [0.4721792 ],\n",
       "       [0.47853442],\n",
       "       [0.48064459],\n",
       "       [0.4813231 ],\n",
       "       [0.48582775],\n",
       "       [0.49490707],\n",
       "       [0.50084844],\n",
       "       [0.49955276],\n",
       "       [0.49535368],\n",
       "       [0.49359853],\n",
       "       [0.50081341],\n",
       "       [0.51175866],\n",
       "       [0.51714754],\n",
       "       [0.51515643],\n",
       "       [0.51477225],\n",
       "       [0.51255506],\n",
       "       [0.5185748 ],\n",
       "       [0.52184218],\n",
       "       [0.53909919],\n",
       "       [0.54071494],\n",
       "       [0.50663523],\n",
       "       [0.50989359],\n",
       "       [0.50765704],\n",
       "       [0.50970551],\n",
       "       [0.5117843 ],\n",
       "       [0.51903825],\n",
       "       [0.52062147],\n",
       "       [0.52014368],\n",
       "       [0.51965926],\n",
       "       [0.51808907],\n",
       "       [0.5173703 ],\n",
       "       [0.51525308],\n",
       "       [0.51854089],\n",
       "       [0.51783937],\n",
       "       [0.51434878],\n",
       "       [0.51354479],\n",
       "       [0.51703836],\n",
       "       [0.52373061],\n",
       "       [0.52820956],\n",
       "       [0.53769668],\n",
       "       [0.54469679],\n",
       "       [0.54706121],\n",
       "       [0.54961549],\n",
       "       [0.54984519],\n",
       "       [0.55462419],\n",
       "       [0.55919984],\n",
       "       [0.55917562],\n",
       "       [0.55899776],\n",
       "       [0.5587354 ],\n",
       "       [0.55934209],\n",
       "       [0.56165599],\n",
       "       [0.56026157],\n",
       "       [0.56081273],\n",
       "       [0.55872434],\n",
       "       [0.55769215],\n",
       "       [0.55200643],\n",
       "       [0.53321656],\n",
       "       [0.52441723],\n",
       "       [0.52349848],\n",
       "       [0.52592535],\n",
       "       [0.52273684],\n",
       "       [0.52065406],\n",
       "       [0.52501388],\n",
       "       [0.52529677],\n",
       "       [0.52643368],\n",
       "       [0.52803491],\n",
       "       [0.52221289],\n",
       "       [0.51785773],\n",
       "       [0.51156327],\n",
       "       [0.50286972],\n",
       "       [0.49386604],\n",
       "       [0.49271574],\n",
       "       [0.49176029],\n",
       "       [0.49404649],\n",
       "       [0.49385474],\n",
       "       [0.49458326],\n",
       "       [0.49226418],\n",
       "       [0.49312071],\n",
       "       [0.50570851],\n",
       "       [0.52155081],\n",
       "       [0.53061397],\n",
       "       [0.54566817],\n",
       "       [0.55038557],\n",
       "       [0.54711476],\n",
       "       [0.54532515],\n",
       "       [0.53860672],\n",
       "       [0.535453  ],\n",
       "       [0.53608058],\n",
       "       [0.53769211],\n",
       "       [0.53214231],\n",
       "       [0.52742708],\n",
       "       [0.52291347],\n",
       "       [0.52133663],\n",
       "       [0.51260535],\n",
       "       [0.51284436],\n",
       "       [0.50851583],\n",
       "       [0.50578485],\n",
       "       [0.5053763 ],\n",
       "       [0.50041899],\n",
       "       [0.49728262],\n",
       "       [0.49948548],\n",
       "       [0.50373334],\n",
       "       [0.50892543],\n",
       "       [0.50729457],\n",
       "       [0.50373775],\n",
       "       [0.50013125],\n",
       "       [0.4958692 ],\n",
       "       [0.49133777],\n",
       "       [0.49439574],\n",
       "       [0.49017755],\n",
       "       [0.49632368],\n",
       "       [0.49436064],\n",
       "       [0.50473224],\n",
       "       [0.51425527],\n",
       "       [0.51904214],\n",
       "       [0.51772777],\n",
       "       [0.51068908],\n",
       "       [0.50257216],\n",
       "       [0.50040849],\n",
       "       [0.4999791 ],\n",
       "       [0.50254067],\n",
       "       [0.50533641],\n",
       "       [0.50337106],\n",
       "       [0.50537433],\n",
       "       [0.50762425],\n",
       "       [0.50991441],\n",
       "       [0.50862356],\n",
       "       [0.51379701],\n",
       "       [0.51456882],\n",
       "       [0.51349802],\n",
       "       [0.51240353],\n",
       "       [0.52141343],\n",
       "       [0.53112955],\n",
       "       [0.53414036],\n",
       "       [0.53144988],\n",
       "       [0.53317002],\n",
       "       [0.53481236],\n",
       "       [0.53489178],\n",
       "       [0.53470702],\n",
       "       [0.53274571],\n",
       "       [0.52349244],\n",
       "       [0.51654285],\n",
       "       [0.51509617],\n",
       "       [0.51461293],\n",
       "       [0.50951732],\n",
       "       [0.50595775],\n",
       "       [0.50468609],\n",
       "       [0.50368655],\n",
       "       [0.50444255],\n",
       "       [0.50280503],\n",
       "       [0.4976344 ],\n",
       "       [0.49716664],\n",
       "       [0.49867204],\n",
       "       [0.51139689],\n",
       "       [0.50863458],\n",
       "       [0.50109161],\n",
       "       [0.49777929],\n",
       "       [0.49698716],\n",
       "       [0.5017003 ],\n",
       "       [0.50360952],\n",
       "       [0.50424848],\n",
       "       [0.50285251],\n",
       "       [0.50026589],\n",
       "       [0.50069635],\n",
       "       [0.49706954],\n",
       "       [0.50003603],\n",
       "       [0.49990561],\n",
       "       [0.49919378],\n",
       "       [0.5013273 ],\n",
       "       [0.50537714],\n",
       "       [0.50683921],\n",
       "       [0.50625731],\n",
       "       [0.50602058],\n",
       "       [0.50922359],\n",
       "       [0.5115099 ],\n",
       "       [0.5177574 ],\n",
       "       [0.51894524],\n",
       "       [0.52010684],\n",
       "       [0.52073177],\n",
       "       [0.52044549],\n",
       "       [0.52226051],\n",
       "       [0.52317568],\n",
       "       [0.52302873],\n",
       "       [0.52656495],\n",
       "       [0.56009834],\n",
       "       [0.56496035],\n",
       "       [0.56820597],\n",
       "       [0.56748146],\n",
       "       [0.56391904],\n",
       "       [0.56591294],\n",
       "       [0.56482036],\n",
       "       [0.55944089],\n",
       "       [0.5581639 ],\n",
       "       [0.55496111],\n",
       "       [0.57344183],\n",
       "       [0.56394193],\n",
       "       [0.54921053],\n",
       "       [0.54417516],\n",
       "       [0.5273313 ],\n",
       "       [0.51429498],\n",
       "       [0.51636105],\n",
       "       [0.50985166],\n",
       "       [0.51107347],\n",
       "       [0.51275698],\n",
       "       [0.51062378],\n",
       "       [0.50996771],\n",
       "       [0.51181145],\n",
       "       [0.51176837],\n",
       "       [0.50446606],\n",
       "       [0.49345621],\n",
       "       [0.48443823],\n",
       "       [0.49606023],\n",
       "       [0.49908102],\n",
       "       [0.49433216],\n",
       "       [0.48248265],\n",
       "       [0.38655221],\n",
       "       [0.36203192],\n",
       "       [0.34202562],\n",
       "       [0.34532734],\n",
       "       [0.3222901 ],\n",
       "       [0.29261354],\n",
       "       [0.29536815]])"
      ]
     },
     "execution_count": 28,
     "metadata": {},
     "output_type": "execute_result"
    },
    {
     "data": {
      "image/png": "[encoded data removed]",
      "text/plain": [
       "<Figure size 432x288 with 1 Axes>"
      ]
     },
     "metadata": {
      "needs_background": "light"
     },
     "output_type": "display_data"
    }
   ],
   "source": [
    "mdl = neighbors.KNeighborsRegressor(n_neighbors = 10, weights = \"distance\", algorithm = \"auto\")\n",
    "mdl.fit(X_train, y_train)\n",
    "pred = mdl.predict(X_test.reshape((X_test.shape[0], -1), order='F'))\n",
    "plt.plot(pred)\n",
    "plt.plot(y_test)\n",
    "pred"
   ]
  },
  {
   "cell_type": "code",
   "execution_count": 16,
   "metadata": {},
   "outputs": [],
   "source": [
    "#config\n",
    "lstm_size = 128\n",
    "num_layers = 1\n",
    "leep_prob = .8\n",
    "batch_size = 64\n",
    "init_learning_rate = .001\n",
    "learning_rate_decay = .99\n",
    "init_epoch = 5\n",
    "max_epoch = 50"
   ]
  },
  {
   "cell_type": "code",
   "execution_count": 17,
   "metadata": {},
   "outputs": [],
   "source": [
    "from sklearn.linear_model import LinearRegression\n",
    "mdl = LinearRegression()"
   ]
  },
  {
   "cell_type": "code",
   "execution_count": 50,
   "metadata": {},
   "outputs": [
    {
     "data": {
      "text/plain": [
       "501"
      ]
     },
     "execution_count": 50,
     "metadata": {},
     "output_type": "execute_result"
    }
   ],
   "source": [
    "X_train = X_train.reshape((X_train.shape[0], -1), order='F')\n",
    "mdl.fit(X_train, y_train)\n",
    "X_test = X_test.reshape((X_test.shape[0], -1), order='F')\n",
    "len(y_test)"
   ]
  },
  {
   "cell_type": "code",
   "execution_count": 47,
   "metadata": {},
   "outputs": [],
   "source": [
    "pred = mdl.predict(X_test[len(X_test)-20:])"
   ]
  },
  {
   "cell_type": "code",
   "execution_count": 48,
   "metadata": {},
   "outputs": [
    {
     "data": {
      "text/plain": [
       "array([[0.50985166],\n",
       "       [0.51107347],\n",
       "       [0.51275698],\n",
       "       [0.51062378],\n",
       "       [0.50996771],\n",
       "       [0.51181145],\n",
       "       [0.51176837],\n",
       "       [0.50446606],\n",
       "       [0.49345621],\n",
       "       [0.48443823],\n",
       "       [0.49606023],\n",
       "       [0.49908102],\n",
       "       [0.49433216],\n",
       "       [0.48248265],\n",
       "       [0.38655221],\n",
       "       [0.36203192],\n",
       "       [0.34202562],\n",
       "       [0.34532734],\n",
       "       [0.3222901 ],\n",
       "       [0.29261354],\n",
       "       [0.29536815]])"
      ]
     },
     "execution_count": 48,
     "metadata": {},
     "output_type": "execute_result"
    },
    {
     "data": {
      "image/png": "[encoded data removed]",
      "text/plain": [
       "<Figure size 720x720 with 1 Axes>"
      ]
     },
     "metadata": {
      "needs_background": "light"
     },
     "output_type": "display_data"
    }
   ],
   "source": [
    "plt.figure(figsize = (10,10))\n",
    "plt.plot(y_test[481:])\n",
    "plt.plot(pred)\n",
    "pred"
   ]
  },
  {
   "cell_type": "code",
   "execution_count": 303,
   "metadata": {},
   "outputs": [
    {
     "data": {
      "text/plain": [
       "14.606239975329933"
      ]
     },
     "execution_count": 303,
     "metadata": {},
     "output_type": "execute_result"
    }
   ],
   "source": [
    "from sklearn.metrics import mean_squared_error as mse\n",
    "mse(pred, y_test)"
   ]
  },
  {
   "cell_type": "code",
   "execution_count": 435,
   "metadata": {},
   "outputs": [],
   "source": [
    "from keras.callbacks import LambdaCallback\n",
    "from keras.models import Sequential\n",
    "from keras.layers import Dense, Activation\n",
    "from keras.layers import LSTM\n",
    "from keras.optimizers import RMSprop\n",
    "from keras.utils.data_utils import get_file\n",
    "import numpy as np\n",
    "import random\n",
    "import sys\n",
    "import io\n",
    "from keras.layers.core import Dense, Dropout, Activation, Flatten\n",
    "from keras import optimizers"
   ]
  },
  {
   "cell_type": "code",
   "execution_count": 468,
   "metadata": {},
   "outputs": [],
   "source": [
    "#config\n",
    "lstm_size = 128\n",
    "num_layers = 1\n",
    "leep_prob = .8\n",
    "batch_size = 32\n",
    "init_learning_rate = .001\n",
    "learning_rate_decay = .99\n",
    "init_epoch = 5\n",
    "max_epoch = 50"
   ]
  },
  {
   "cell_type": "code",
   "execution_count": 469,
   "metadata": {},
   "outputs": [],
   "source": [
    "lstm_model = Sequential()\n",
    "lstm_model.add(LSTM(100, batch_input_shape=(batch_size, num_steps, X_train.shape[2]), dropout=0.0, recurrent_dropout=0.0, stateful=True,     kernel_initializer='random_uniform'))\n",
    "lstm_model.add(Dropout(0.5))\n",
    "lstm_model.add(Dense(20,activation='relu'))\n",
    "lstm_model.add(Dense(1,activation='sigmoid'))\n",
    "optimizer = optimizers.RMSprop()\n",
    "lstm_model.compile(loss='mean_squared_error', optimizer=optimizer)"
   ]
  },
  {
   "cell_type": "code",
   "execution_count": 470,
   "metadata": {},
   "outputs": [
    {
     "ename": "ValueError",
     "evalue": "In a stateful network, you should only pass inputs with a number of samples that can be divided by the batch size. Found: 1743 samples",
     "output_type": "error",
     "traceback": [
      "\u001b[0;31m---------------------------------------------------------------------------\u001b[0m",
      "\u001b[0;31mValueError\u001b[0m                                Traceback (most recent call last)",
      "\u001b[0;32m<ipython-input-470-81135909b459>\u001b[0m in \u001b[0;36m<module>\u001b[0;34m\u001b[0m\n\u001b[0;32m----> 1\u001b[0;31m \u001b[0mhistory\u001b[0m \u001b[0;34m=\u001b[0m \u001b[0mlstm_model\u001b[0m\u001b[0;34m.\u001b[0m\u001b[0mfit\u001b[0m\u001b[0;34m(\u001b[0m\u001b[0mX_train\u001b[0m\u001b[0;34m,\u001b[0m \u001b[0my_train\u001b[0m\u001b[0;34m,\u001b[0m \u001b[0mepochs\u001b[0m\u001b[0;34m=\u001b[0m\u001b[0mmax_epoch\u001b[0m\u001b[0;34m,\u001b[0m \u001b[0mverbose\u001b[0m\u001b[0;34m=\u001b[0m\u001b[0;36m2\u001b[0m\u001b[0;34m,\u001b[0m \u001b[0mbatch_size\u001b[0m\u001b[0;34m=\u001b[0m\u001b[0mbatch_size\u001b[0m\u001b[0;34m,\u001b[0m\u001b[0mshuffle\u001b[0m\u001b[0;34m=\u001b[0m\u001b[0;32mFalse\u001b[0m\u001b[0;34m)\u001b[0m\u001b[0;34m\u001b[0m\u001b[0;34m\u001b[0m\u001b[0m\n\u001b[0m",
      "\u001b[0;32m/opt/anaconda3/lib/python3.7/site-packages/keras/engine/training.py\u001b[0m in \u001b[0;36mfit\u001b[0;34m(self, x, y, batch_size, epochs, verbose, callbacks, validation_split, validation_data, shuffle, class_weight, sample_weight, initial_epoch, steps_per_epoch, validation_steps, validation_freq, max_queue_size, workers, use_multiprocessing, **kwargs)\u001b[0m\n\u001b[1;32m   1152\u001b[0m             \u001b[0msample_weight\u001b[0m\u001b[0;34m=\u001b[0m\u001b[0msample_weight\u001b[0m\u001b[0;34m,\u001b[0m\u001b[0;34m\u001b[0m\u001b[0;34m\u001b[0m\u001b[0m\n\u001b[1;32m   1153\u001b[0m             \u001b[0mclass_weight\u001b[0m\u001b[0;34m=\u001b[0m\u001b[0mclass_weight\u001b[0m\u001b[0;34m,\u001b[0m\u001b[0;34m\u001b[0m\u001b[0;34m\u001b[0m\u001b[0m\n\u001b[0;32m-> 1154\u001b[0;31m             batch_size=batch_size)\n\u001b[0m\u001b[1;32m   1155\u001b[0m \u001b[0;34m\u001b[0m\u001b[0m\n\u001b[1;32m   1156\u001b[0m         \u001b[0;31m# Prepare validation data.\u001b[0m\u001b[0;34m\u001b[0m\u001b[0;34m\u001b[0m\u001b[0;34m\u001b[0m\u001b[0m\n",
      "\u001b[0;32m/opt/anaconda3/lib/python3.7/site-packages/keras/engine/training.py\u001b[0m in \u001b[0;36m_standardize_user_data\u001b[0;34m(self, x, y, sample_weight, class_weight, check_array_lengths, batch_size)\u001b[0m\n\u001b[1;32m    653\u001b[0m                                  \u001b[0;34m'a number of samples that can be '\u001b[0m\u001b[0;34m\u001b[0m\u001b[0;34m\u001b[0m\u001b[0m\n\u001b[1;32m    654\u001b[0m                                  \u001b[0;34m'divided by the batch size. Found: '\u001b[0m \u001b[0;34m+\u001b[0m\u001b[0;34m\u001b[0m\u001b[0;34m\u001b[0m\u001b[0m\n\u001b[0;32m--> 655\u001b[0;31m                                  str(x[0].shape[0]) + ' samples')\n\u001b[0m\u001b[1;32m    656\u001b[0m         \u001b[0;32mreturn\u001b[0m \u001b[0mx\u001b[0m\u001b[0;34m,\u001b[0m \u001b[0my\u001b[0m\u001b[0;34m,\u001b[0m \u001b[0msample_weights\u001b[0m\u001b[0;34m\u001b[0m\u001b[0;34m\u001b[0m\u001b[0m\n\u001b[1;32m    657\u001b[0m \u001b[0;34m\u001b[0m\u001b[0m\n",
      "\u001b[0;31mValueError\u001b[0m: In a stateful network, you should only pass inputs with a number of samples that can be divided by the batch size. Found: 1743 samples"
     ]
    }
   ],
   "source": [
    "history = lstm_model.fit(X_train, y_train, epochs=max_epoch, verbose=2, batch_size=batch_size,shuffle=False)"
   ]
  },
  {
   "cell_type": "code",
   "execution_count": 417,
   "metadata": {},
   "outputs": [
    {
     "data": {
      "text/plain": [
       "(1743, 30)"
      ]
     },
     "execution_count": 417,
     "metadata": {},
     "output_type": "execute_result"
    }
   ],
   "source": []
  },
  {
   "cell_type": "code",
   "execution_count": null,
   "metadata": {},
   "outputs": [],
   "source": []
  },
  {
   "cell_type": "code",
   "execution_count": 316,
   "metadata": {},
   "outputs": [
    {
     "data": {
      "text/plain": [
       "[<matplotlib.lines.Line2D at 0x1a26841210>]"
      ]
     },
     "execution_count": 316,
     "metadata": {},
     "output_type": "execute_result"
    },
    {
     "data": {
      "image/png": "[encoded data removed]",
      "text/plain": [
       "<Figure size 432x288 with 1 Axes>"
      ]
     },
     "metadata": {
      "needs_background": "light"
     },
     "output_type": "display_data"
    }
   ],
   "source": [
    "\n",
    "plt.plot(pred2)\n",
    "plt.plot(pred)\n",
    "\n"
   ]
  },
  {
   "cell_type": "code",
   "execution_count": null,
   "metadata": {},
   "outputs": [],
   "source": []
  },
  {
   "cell_type": "code",
   "execution_count": null,
   "metadata": {},
   "outputs": [],
   "source": []
  }
 ],
 "metadata": {
  "kernelspec": {
   "display_name": "Python 3",
   "language": "python",
   "name": "python3"
  },
  "language_info": {
   "codemirror_mode": {
    "name": "ipython",
    "version": 3
   },
   "file_extension": ".py",
   "mimetype": "text/x-python",
   "name": "python",
   "nbconvert_exporter": "python",
   "pygments_lexer": "ipython3",
   "version": "3.7.4"
  }
 },
 "nbformat": 4,
 "nbformat_minor": 2
}
