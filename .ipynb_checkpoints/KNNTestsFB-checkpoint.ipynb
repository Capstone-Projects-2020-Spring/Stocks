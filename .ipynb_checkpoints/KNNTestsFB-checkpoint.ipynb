{
 "cells": [
  {
   "cell_type": "markdown",
   "metadata": {},
   "source": [
    "____future____\n",
    "\n",
    "make the target the next day close \n",
    "the things we use to predict that close as the previous day close and open"
   ]
  },
  {
   "cell_type": "code",
   "execution_count": 1,
   "metadata": {},
   "outputs": [],
   "source": [
    "import numpy as np\n",
    "import matplotlib.pyplot as plt\n",
    "from matplotlib.colors import ListedColormap\n",
    "from sklearn import neighbors\n",
    "from sklearn.model_selection import train_test_split\n",
    "import matplotlib as mpl # this actually imports matplotlib\n",
    "import matplotlib.cm as cm #allows us easy access to colormaps\n",
    "import matplotlib.pyplot as plt #sets up plotting under plt\n",
    "import pandas as pd #lets us handle data as dataframes"
   ]
  },
  {
   "cell_type": "code",
   "execution_count": 12,
   "metadata": {},
   "outputs": [
    {
     "data": {
      "text/html": [
       "<div>\n",
       "<style scoped>\n",
       "    .dataframe tbody tr th:only-of-type {\n",
       "        vertical-align: middle;\n",
       "    }\n",
       "\n",
       "    .dataframe tbody tr th {\n",
       "        vertical-align: top;\n",
       "    }\n",
       "\n",
       "    .dataframe thead th {\n",
       "        text-align: right;\n",
       "    }\n",
       "</style>\n",
       "<table border=\"1\" class=\"dataframe\">\n",
       "  <thead>\n",
       "    <tr style=\"text-align: right;\">\n",
       "      <th></th>\n",
       "      <th>date</th>\n",
       "      <th>1. open</th>\n",
       "      <th>2. high</th>\n",
       "      <th>3. low</th>\n",
       "      <th>4. close</th>\n",
       "      <th>5. volume</th>\n",
       "    </tr>\n",
       "  </thead>\n",
       "  <tbody>\n",
       "    <tr>\n",
       "      <td>0</td>\n",
       "      <td>2020-03-13</td>\n",
       "      <td>25.50</td>\n",
       "      <td>25.5900</td>\n",
       "      <td>22.6356</td>\n",
       "      <td>24.17</td>\n",
       "      <td>12411797.0</td>\n",
       "    </tr>\n",
       "    <tr>\n",
       "      <td>1</td>\n",
       "      <td>2020-03-12</td>\n",
       "      <td>24.37</td>\n",
       "      <td>26.4000</td>\n",
       "      <td>23.8700</td>\n",
       "      <td>23.88</td>\n",
       "      <td>13630929.0</td>\n",
       "    </tr>\n",
       "    <tr>\n",
       "      <td>2</td>\n",
       "      <td>2020-03-11</td>\n",
       "      <td>31.49</td>\n",
       "      <td>31.8000</td>\n",
       "      <td>26.6829</td>\n",
       "      <td>29.01</td>\n",
       "      <td>19867098.0</td>\n",
       "    </tr>\n",
       "    <tr>\n",
       "      <td>3</td>\n",
       "      <td>2020-03-10</td>\n",
       "      <td>34.15</td>\n",
       "      <td>34.6422</td>\n",
       "      <td>30.6062</td>\n",
       "      <td>32.89</td>\n",
       "      <td>9774836.0</td>\n",
       "    </tr>\n",
       "    <tr>\n",
       "      <td>4</td>\n",
       "      <td>2020-03-09</td>\n",
       "      <td>32.49</td>\n",
       "      <td>34.6500</td>\n",
       "      <td>31.6400</td>\n",
       "      <td>32.81</td>\n",
       "      <td>8987182.0</td>\n",
       "    </tr>\n",
       "    <tr>\n",
       "      <td>...</td>\n",
       "      <td>...</td>\n",
       "      <td>...</td>\n",
       "      <td>...</td>\n",
       "      <td>...</td>\n",
       "      <td>...</td>\n",
       "      <td>...</td>\n",
       "    </tr>\n",
       "    <tr>\n",
       "      <td>237</td>\n",
       "      <td>2019-04-04</td>\n",
       "      <td>70.48</td>\n",
       "      <td>72.8900</td>\n",
       "      <td>70.2200</td>\n",
       "      <td>72.00</td>\n",
       "      <td>9233730.0</td>\n",
       "    </tr>\n",
       "    <tr>\n",
       "      <td>238</td>\n",
       "      <td>2019-04-03</td>\n",
       "      <td>70.06</td>\n",
       "      <td>72.0000</td>\n",
       "      <td>69.1200</td>\n",
       "      <td>70.00</td>\n",
       "      <td>15662287.0</td>\n",
       "    </tr>\n",
       "    <tr>\n",
       "      <td>239</td>\n",
       "      <td>2019-04-02</td>\n",
       "      <td>66.90</td>\n",
       "      <td>70.2000</td>\n",
       "      <td>66.1000</td>\n",
       "      <td>68.97</td>\n",
       "      <td>22483330.0</td>\n",
       "    </tr>\n",
       "    <tr>\n",
       "      <td>240</td>\n",
       "      <td>2019-04-01</td>\n",
       "      <td>74.90</td>\n",
       "      <td>75.0000</td>\n",
       "      <td>67.7800</td>\n",
       "      <td>69.01</td>\n",
       "      <td>41799258.0</td>\n",
       "    </tr>\n",
       "    <tr>\n",
       "      <td>241</td>\n",
       "      <td>2019-03-29</td>\n",
       "      <td>87.24</td>\n",
       "      <td>88.6000</td>\n",
       "      <td>78.0200</td>\n",
       "      <td>78.29</td>\n",
       "      <td>71485240.0</td>\n",
       "    </tr>\n",
       "  </tbody>\n",
       "</table>\n",
       "<p>242 rows × 6 columns</p>\n",
       "</div>"
      ],
      "text/plain": [
       "           date  1. open  2. high   3. low  4. close   5. volume\n",
       "0    2020-03-13    25.50  25.5900  22.6356     24.17  12411797.0\n",
       "1    2020-03-12    24.37  26.4000  23.8700     23.88  13630929.0\n",
       "2    2020-03-11    31.49  31.8000  26.6829     29.01  19867098.0\n",
       "3    2020-03-10    34.15  34.6422  30.6062     32.89   9774836.0\n",
       "4    2020-03-09    32.49  34.6500  31.6400     32.81   8987182.0\n",
       "..          ...      ...      ...      ...       ...         ...\n",
       "237  2019-04-04    70.48  72.8900  70.2200     72.00   9233730.0\n",
       "238  2019-04-03    70.06  72.0000  69.1200     70.00  15662287.0\n",
       "239  2019-04-02    66.90  70.2000  66.1000     68.97  22483330.0\n",
       "240  2019-04-01    74.90  75.0000  67.7800     69.01  41799258.0\n",
       "241  2019-03-29    87.24  88.6000  78.0200     78.29  71485240.0\n",
       "\n",
       "[242 rows x 6 columns]"
      ]
     },
     "execution_count": 12,
     "metadata": {},
     "output_type": "execute_result"
    }
   ],
   "source": [
    "df = pd.read_csv(\"/Users/zachadams/Stocks/stockCSV/LYFT.csv\")\n",
    "df"
   ]
  },
  {
   "cell_type": "code",
   "execution_count": 13,
   "metadata": {},
   "outputs": [],
   "source": [
    "df['date'] = pd.to_datetime(df['date'],format='%Y-%m-%d')"
   ]
  },
  {
   "cell_type": "code",
   "execution_count": 14,
   "metadata": {},
   "outputs": [
    {
     "data": {
      "text/plain": [
       "Text(0.5, 0, 'starting')"
      ]
     },
     "execution_count": 14,
     "metadata": {},
     "output_type": "execute_result"
    },
    {
     "data": {
      "image/png": "[encoded data removed]",
      "text/plain": [
       "<Figure size 432x288 with 1 Axes>"
      ]
     },
     "metadata": {
      "needs_background": "light"
     },
     "output_type": "display_data"
    }
   ],
   "source": [
    "plt.plot(df['date'][:1000],df['4. close'][:1000])\n",
    "plt.ylabel(\"price\")\n",
    "plt.xlabel(\"starting\")"
   ]
  },
  {
   "cell_type": "code",
   "execution_count": 15,
   "metadata": {},
   "outputs": [
    {
     "data": {
      "text/html": [
       "<div>\n",
       "<style scoped>\n",
       "    .dataframe tbody tr th:only-of-type {\n",
       "        vertical-align: middle;\n",
       "    }\n",
       "\n",
       "    .dataframe tbody tr th {\n",
       "        vertical-align: top;\n",
       "    }\n",
       "\n",
       "    .dataframe thead th {\n",
       "        text-align: right;\n",
       "    }\n",
       "</style>\n",
       "<table border=\"1\" class=\"dataframe\">\n",
       "  <thead>\n",
       "    <tr style=\"text-align: right;\">\n",
       "      <th></th>\n",
       "      <th>1. open</th>\n",
       "      <th>2. high</th>\n",
       "      <th>3. low</th>\n",
       "    </tr>\n",
       "  </thead>\n",
       "  <tbody>\n",
       "    <tr>\n",
       "      <td>0</td>\n",
       "      <td>25.50</td>\n",
       "      <td>25.5900</td>\n",
       "      <td>22.6356</td>\n",
       "    </tr>\n",
       "    <tr>\n",
       "      <td>1</td>\n",
       "      <td>24.37</td>\n",
       "      <td>26.4000</td>\n",
       "      <td>23.8700</td>\n",
       "    </tr>\n",
       "    <tr>\n",
       "      <td>2</td>\n",
       "      <td>31.49</td>\n",
       "      <td>31.8000</td>\n",
       "      <td>26.6829</td>\n",
       "    </tr>\n",
       "    <tr>\n",
       "      <td>3</td>\n",
       "      <td>34.15</td>\n",
       "      <td>34.6422</td>\n",
       "      <td>30.6062</td>\n",
       "    </tr>\n",
       "    <tr>\n",
       "      <td>4</td>\n",
       "      <td>32.49</td>\n",
       "      <td>34.6500</td>\n",
       "      <td>31.6400</td>\n",
       "    </tr>\n",
       "    <tr>\n",
       "      <td>...</td>\n",
       "      <td>...</td>\n",
       "      <td>...</td>\n",
       "      <td>...</td>\n",
       "    </tr>\n",
       "    <tr>\n",
       "      <td>237</td>\n",
       "      <td>70.48</td>\n",
       "      <td>72.8900</td>\n",
       "      <td>70.2200</td>\n",
       "    </tr>\n",
       "    <tr>\n",
       "      <td>238</td>\n",
       "      <td>70.06</td>\n",
       "      <td>72.0000</td>\n",
       "      <td>69.1200</td>\n",
       "    </tr>\n",
       "    <tr>\n",
       "      <td>239</td>\n",
       "      <td>66.90</td>\n",
       "      <td>70.2000</td>\n",
       "      <td>66.1000</td>\n",
       "    </tr>\n",
       "    <tr>\n",
       "      <td>240</td>\n",
       "      <td>74.90</td>\n",
       "      <td>75.0000</td>\n",
       "      <td>67.7800</td>\n",
       "    </tr>\n",
       "    <tr>\n",
       "      <td>241</td>\n",
       "      <td>87.24</td>\n",
       "      <td>88.6000</td>\n",
       "      <td>78.0200</td>\n",
       "    </tr>\n",
       "  </tbody>\n",
       "</table>\n",
       "<p>242 rows × 3 columns</p>\n",
       "</div>"
      ],
      "text/plain": [
       "     1. open  2. high   3. low\n",
       "0      25.50  25.5900  22.6356\n",
       "1      24.37  26.4000  23.8700\n",
       "2      31.49  31.8000  26.6829\n",
       "3      34.15  34.6422  30.6062\n",
       "4      32.49  34.6500  31.6400\n",
       "..       ...      ...      ...\n",
       "237    70.48  72.8900  70.2200\n",
       "238    70.06  72.0000  69.1200\n",
       "239    66.90  70.2000  66.1000\n",
       "240    74.90  75.0000  67.7800\n",
       "241    87.24  88.6000  78.0200\n",
       "\n",
       "[242 rows x 3 columns]"
      ]
     },
     "execution_count": 15,
     "metadata": {},
     "output_type": "execute_result"
    }
   ],
   "source": [
    "X = df.drop('4. close', axis = 1)\n",
    "X = X.drop('date', axis = 1)\n",
    "X = X.drop('5. volume', axis = 1)\n",
    "X"
   ]
  },
  {
   "cell_type": "code",
   "execution_count": 16,
   "metadata": {},
   "outputs": [
    {
     "data": {
      "text/plain": [
       "0      24.17\n",
       "1      23.88\n",
       "2      29.01\n",
       "3      32.89\n",
       "4      32.81\n",
       "       ...  \n",
       "237    72.00\n",
       "238    70.00\n",
       "239    68.97\n",
       "240    69.01\n",
       "241    78.29\n",
       "Name: 4. close, Length: 242, dtype: float64"
      ]
     },
     "execution_count": 16,
     "metadata": {},
     "output_type": "execute_result"
    }
   ],
   "source": [
    "y = df['4. close']\n",
    "y"
   ]
  },
  {
   "cell_type": "code",
   "execution_count": 19,
   "metadata": {},
   "outputs": [
    {
     "data": {
      "text/html": [
       "<div>\n",
       "<style scoped>\n",
       "    .dataframe tbody tr th:only-of-type {\n",
       "        vertical-align: middle;\n",
       "    }\n",
       "\n",
       "    .dataframe tbody tr th {\n",
       "        vertical-align: top;\n",
       "    }\n",
       "\n",
       "    .dataframe thead th {\n",
       "        text-align: right;\n",
       "    }\n",
       "</style>\n",
       "<table border=\"1\" class=\"dataframe\">\n",
       "  <thead>\n",
       "    <tr style=\"text-align: right;\">\n",
       "      <th></th>\n",
       "      <th>1. open</th>\n",
       "      <th>2. high</th>\n",
       "      <th>3. low</th>\n",
       "    </tr>\n",
       "  </thead>\n",
       "  <tbody>\n",
       "    <tr>\n",
       "      <td>50</td>\n",
       "      <td>43.00</td>\n",
       "      <td>43.6050</td>\n",
       "      <td>42.7755</td>\n",
       "    </tr>\n",
       "    <tr>\n",
       "      <td>51</td>\n",
       "      <td>45.60</td>\n",
       "      <td>45.6739</td>\n",
       "      <td>43.0500</td>\n",
       "    </tr>\n",
       "    <tr>\n",
       "      <td>52</td>\n",
       "      <td>45.90</td>\n",
       "      <td>46.2000</td>\n",
       "      <td>45.1700</td>\n",
       "    </tr>\n",
       "    <tr>\n",
       "      <td>53</td>\n",
       "      <td>45.70</td>\n",
       "      <td>45.8100</td>\n",
       "      <td>45.0100</td>\n",
       "    </tr>\n",
       "    <tr>\n",
       "      <td>54</td>\n",
       "      <td>45.62</td>\n",
       "      <td>46.2000</td>\n",
       "      <td>45.6100</td>\n",
       "    </tr>\n",
       "    <tr>\n",
       "      <td>...</td>\n",
       "      <td>...</td>\n",
       "      <td>...</td>\n",
       "      <td>...</td>\n",
       "    </tr>\n",
       "    <tr>\n",
       "      <td>237</td>\n",
       "      <td>70.48</td>\n",
       "      <td>72.8900</td>\n",
       "      <td>70.2200</td>\n",
       "    </tr>\n",
       "    <tr>\n",
       "      <td>238</td>\n",
       "      <td>70.06</td>\n",
       "      <td>72.0000</td>\n",
       "      <td>69.1200</td>\n",
       "    </tr>\n",
       "    <tr>\n",
       "      <td>239</td>\n",
       "      <td>66.90</td>\n",
       "      <td>70.2000</td>\n",
       "      <td>66.1000</td>\n",
       "    </tr>\n",
       "    <tr>\n",
       "      <td>240</td>\n",
       "      <td>74.90</td>\n",
       "      <td>75.0000</td>\n",
       "      <td>67.7800</td>\n",
       "    </tr>\n",
       "    <tr>\n",
       "      <td>241</td>\n",
       "      <td>87.24</td>\n",
       "      <td>88.6000</td>\n",
       "      <td>78.0200</td>\n",
       "    </tr>\n",
       "  </tbody>\n",
       "</table>\n",
       "<p>192 rows × 3 columns</p>\n",
       "</div>"
      ],
      "text/plain": [
       "     1. open  2. high   3. low\n",
       "50     43.00  43.6050  42.7755\n",
       "51     45.60  45.6739  43.0500\n",
       "52     45.90  46.2000  45.1700\n",
       "53     45.70  45.8100  45.0100\n",
       "54     45.62  46.2000  45.6100\n",
       "..       ...      ...      ...\n",
       "237    70.48  72.8900  70.2200\n",
       "238    70.06  72.0000  69.1200\n",
       "239    66.90  70.2000  66.1000\n",
       "240    74.90  75.0000  67.7800\n",
       "241    87.24  88.6000  78.0200\n",
       "\n",
       "[192 rows x 3 columns]"
      ]
     },
     "execution_count": 19,
     "metadata": {},
     "output_type": "execute_result"
    }
   ],
   "source": [
    "X_train = X[50:]\n",
    "X_test = X[:50]\n",
    "y_train = y[50:]\n",
    "y_test = y[:50]\n",
    "X_train"
   ]
  },
  {
   "cell_type": "code",
   "execution_count": 20,
   "metadata": {},
   "outputs": [
    {
     "data": {
      "text/plain": [
       "KNeighborsRegressor(algorithm='auto', leaf_size=30, metric='minkowski',\n",
       "                    metric_params=None, n_jobs=None, n_neighbors=5, p=2,\n",
       "                    weights='distance')"
      ]
     },
     "execution_count": 20,
     "metadata": {},
     "output_type": "execute_result"
    }
   ],
   "source": [
    "mdl = neighbors.KNeighborsRegressor(n_neighbors = 5, weights = \"distance\", algorithm = \"auto\")\n",
    "mdl.fit(X_train, y_train)"
   ]
  },
  {
   "cell_type": "code",
   "execution_count": 21,
   "metadata": {},
   "outputs": [],
   "source": [
    "y_pred = mdl.predict(X_test)"
   ]
  },
  {
   "cell_type": "code",
   "execution_count": 22,
   "metadata": {},
   "outputs": [],
   "source": [
    "from sklearn.metrics import mean_squared_error as mse"
   ]
  },
  {
   "cell_type": "code",
   "execution_count": 23,
   "metadata": {},
   "outputs": [
    {
     "data": {
      "text/plain": [
       "12.25882593849797"
      ]
     },
     "execution_count": 23,
     "metadata": {},
     "output_type": "execute_result"
    }
   ],
   "source": [
    "mse(y_pred,y_test)"
   ]
  },
  {
   "cell_type": "code",
   "execution_count": 24,
   "metadata": {},
   "outputs": [],
   "source": [
    "pred_df = df.copy(deep = True)"
   ]
  },
  {
   "cell_type": "code",
   "execution_count": 35,
   "metadata": {},
   "outputs": [
    {
     "name": "stderr",
     "output_type": "stream",
     "text": [
      "/opt/anaconda3/lib/python3.7/site-packages/ipykernel_launcher.py:2: SettingWithCopyWarning: \n",
      "A value is trying to be set on a copy of a slice from a DataFrame\n",
      "\n",
      "See the caveats in the documentation: http://pandas.pydata.org/pandas-docs/stable/user_guide/indexing.html#returning-a-view-versus-a-copy\n",
      "  \n"
     ]
    },
    {
     "data": {
      "text/plain": [
       "Text(0.5, 0, 'date')"
      ]
     },
     "execution_count": 35,
     "metadata": {},
     "output_type": "execute_result"
    },
    {
     "data": {
      "image/png": "[encoded data removed]",
      "text/plain": [
       "<Figure size 720x360 with 1 Axes>"
      ]
     },
     "metadata": {
      "needs_background": "light"
     },
     "output_type": "display_data"
    }
   ],
   "source": [
    "plt.figure(figsize = (10,5))\n",
    "pred_df['4. close'][:50] = y_pred\n",
    "plt.title(label = \"LYFT predicted vs actual\")\n",
    "plt.plot(df['date'][:50], df['4. close'][:50])\n",
    "plt.plot(pred_df['date'][:50], pred_df['4. close'][:50])\n",
    "plt.ylabel(\"price\")\n",
    "plt.xlabel(\"date\")"
   ]
  },
  {
   "cell_type": "code",
   "execution_count": 28,
   "metadata": {},
   "outputs": [
    {
     "data": {
      "text/plain": [
       "0      38.479946\n",
       "1      38.649876\n",
       "2      38.642854\n",
       "3      38.632914\n",
       "4      38.637951\n",
       "         ...    \n",
       "237    72.000000\n",
       "238    70.000000\n",
       "239    68.970000\n",
       "240    69.010000\n",
       "241    78.290000\n",
       "Name: 4. close, Length: 242, dtype: float64"
      ]
     },
     "execution_count": 28,
     "metadata": {},
     "output_type": "execute_result"
    }
   ],
   "source": [
    "pred_df['4. close'][:500]"
   ]
  },
  {
   "cell_type": "code",
   "execution_count": 29,
   "metadata": {},
   "outputs": [
    {
     "data": {
      "text/plain": [
       "0      24.17\n",
       "1      23.88\n",
       "2      29.01\n",
       "3      32.89\n",
       "4      32.81\n",
       "       ...  \n",
       "237    72.00\n",
       "238    70.00\n",
       "239    68.97\n",
       "240    69.01\n",
       "241    78.29\n",
       "Name: 4. close, Length: 242, dtype: float64"
      ]
     },
     "execution_count": 29,
     "metadata": {},
     "output_type": "execute_result"
    }
   ],
   "source": [
    "df['4. close'][:500]"
   ]
  },
  {
   "cell_type": "code",
   "execution_count": null,
   "metadata": {},
   "outputs": [],
   "source": []
  }
 ],
 "metadata": {
  "kernelspec": {
   "display_name": "Python 3",
   "language": "python",
   "name": "python3"
  },
  "language_info": {
   "codemirror_mode": {
    "name": "ipython",
    "version": 3
   },
   "file_extension": ".py",
   "mimetype": "text/x-python",
   "name": "python",
   "nbconvert_exporter": "python",
   "pygments_lexer": "ipython3",
   "version": "3.7.4"
  }
 },
 "nbformat": 4,
 "nbformat_minor": 2
}
