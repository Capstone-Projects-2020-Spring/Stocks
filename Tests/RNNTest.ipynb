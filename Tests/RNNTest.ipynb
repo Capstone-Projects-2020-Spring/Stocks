{
 "cells": [
  {
   "cell_type": "code",
   "execution_count": 118,
   "metadata": {},
   "outputs": [],
   "source": [
    "import numpy as np\n",
    "import matplotlib.pyplot as plt\n",
    "from matplotlib.colors import ListedColormap\n",
    "from sklearn import neighbors\n",
    "from sklearn.model_selection import train_test_split\n",
    "import matplotlib as mpl # this actually imports matplotlib\n",
    "import matplotlib.cm as cm #allows us easy access to colormaps\n",
    "import matplotlib.pyplot as plt #sets up plotting under plt\n",
    "import pandas as pd #lets us handle data as dataframes"
   ]
  },
  {
   "cell_type": "code",
   "execution_count": 119,
   "metadata": {},
   "outputs": [],
   "source": [
    "raw_df = pd.read_csv(\"../Stocks/stockCSV/FB.csv\")"
   ]
  },
  {
   "cell_type": "code",
   "execution_count": 120,
   "metadata": {},
   "outputs": [],
   "source": [
    "raw_seq = raw_df[\"4. close\"].tolist()"
   ]
  },
  {
   "cell_type": "code",
   "execution_count": 121,
   "metadata": {},
   "outputs": [
    {
     "data": {
      "text/plain": [
       "array([ 38.2318,  34.03  ,  31.    , ..., 170.24  , 154.47  , 170.28  ])"
      ]
     },
     "execution_count": 121,
     "metadata": {},
     "output_type": "execute_result"
    }
   ],
   "source": [
    "seq = [ele for ele in reversed(raw_seq)] \n",
    "seq = np.array(seq)\n",
    "seq"
   ]
  },
  {
   "cell_type": "code",
   "execution_count": 122,
   "metadata": {},
   "outputs": [],
   "source": [
    "input_size = 1\n",
    "num_steps = 30"
   ]
  },
  {
   "cell_type": "code",
   "execution_count": 123,
   "metadata": {},
   "outputs": [],
   "source": [
    "seq = [np.array(seq[i * input_size: (i + 1) * input_size])\n",
    "               for i in range(len(seq) // input_size)]"
   ]
  },
  {
   "cell_type": "code",
   "execution_count": 126,
   "metadata": {},
   "outputs": [],
   "source": [
    "\n",
    "seq = [seq[0] / seq[0][0] - 1.0] + [curr / seq[i][-1] - 1.0 for i, curr in enumerate(seq[1:])]"
   ]
  },
  {
   "cell_type": "code",
   "execution_count": 127,
   "metadata": {},
   "outputs": [],
   "source": [
    "X = np.array([seq[i: i + num_steps] for i in range(len(seq) - num_steps)])\n",
    "y = np.array([seq[i + num_steps] for i in range(len(seq) - num_steps)])"
   ]
  },
  {
   "cell_type": "code",
   "execution_count": 128,
   "metadata": {},
   "outputs": [],
   "source": [
    "train_size = int(len(X)* (1-.1)) #saving 10% for test data\n",
    "X_train,X_test = X[:train_size] , X[train_size:]\n",
    "y_train, y_test = y[:train_size], y[train_size:]"
   ]
  },
  {
   "cell_type": "code",
   "execution_count": 129,
   "metadata": {},
   "outputs": [
    {
     "data": {
      "text/plain": [
       "array([[[ 0.        ],\n",
       "        [-0.10990327],\n",
       "        [-0.08903908],\n",
       "        ...,\n",
       "        [-0.02628399],\n",
       "        [-0.02699348],\n",
       "        [-0.00845026]],\n",
       "\n",
       "       [[-0.10990327],\n",
       "        [-0.08903908],\n",
       "        [ 0.03225806],\n",
       "        ...,\n",
       "        [-0.02699348],\n",
       "        [-0.00845026],\n",
       "        [-0.01041968]],\n",
       "\n",
       "       [[-0.08903908],\n",
       "        [ 0.03225806],\n",
       "        [ 0.0321875 ],\n",
       "        ...,\n",
       "        [-0.00845026],\n",
       "        [-0.01041968],\n",
       "        [ 0.0139417 ]],\n",
       "\n",
       "       ...,\n",
       "\n",
       "       [[ 0.01772493],\n",
       "        [ 0.01289683],\n",
       "        [-0.00652955],\n",
       "        ...,\n",
       "        [ 0.0045008 ],\n",
       "        [-0.03027157],\n",
       "        [-0.07505494]],\n",
       "\n",
       "       [[ 0.01289683],\n",
       "        [-0.00652955],\n",
       "        [ 0.05849491],\n",
       "        ...,\n",
       "        [-0.03027157],\n",
       "        [-0.07505494],\n",
       "        [ 0.02040816]],\n",
       "\n",
       "       [[-0.00652955],\n",
       "        [ 0.05849491],\n",
       "        [-0.00915865],\n",
       "        ...,\n",
       "        [-0.07505494],\n",
       "        [ 0.02040816],\n",
       "        [ 0.004     ]]])"
      ]
     },
     "execution_count": 129,
     "metadata": {},
     "output_type": "execute_result"
    }
   ],
   "source": [
    "X_train"
   ]
  },
  {
   "cell_type": "code",
   "execution_count": 130,
   "metadata": {},
   "outputs": [],
   "source": [
    "#config\n",
    "lstm_size = 128\n",
    "num_layers = 1\n",
    "leep_prob = .8\n",
    "batch_size = 64\n",
    "init_learning_rate = .001\n",
    "learning_rate_decay = .99\n",
    "init_epoch = 5\n",
    "max_epoch = 50"
   ]
  },
  {
   "cell_type": "code",
   "execution_count": 131,
   "metadata": {},
   "outputs": [
    {
     "ename": "AttributeError",
     "evalue": "module 'tensorflow' has no attribute 'reset_default_graph'",
     "output_type": "error",
     "traceback": [
      "\u001b[1;31m---------------------------------------------------------------------------\u001b[0m",
      "\u001b[1;31mAttributeError\u001b[0m                            Traceback (most recent call last)",
      "\u001b[1;32m<ipython-input-131-8fa44bd2e353>\u001b[0m in \u001b[0;36m<module>\u001b[1;34m\u001b[0m\n\u001b[0;32m      1\u001b[0m \u001b[1;32mimport\u001b[0m \u001b[0mtensorflow\u001b[0m \u001b[1;32mas\u001b[0m \u001b[0mtf\u001b[0m\u001b[1;33m\u001b[0m\u001b[1;33m\u001b[0m\u001b[0m\n\u001b[1;32m----> 2\u001b[1;33m \u001b[0mtf\u001b[0m\u001b[1;33m.\u001b[0m\u001b[0mreset_default_graph\u001b[0m\u001b[1;33m(\u001b[0m\u001b[1;33m)\u001b[0m\u001b[1;33m\u001b[0m\u001b[1;33m\u001b[0m\u001b[0m\n\u001b[0m",
      "\u001b[1;31mAttributeError\u001b[0m: module 'tensorflow' has no attribute 'reset_default_graph'"
     ]
    }
   ],
   "source": [
    "import tensorflow as tf\n",
    "tf.reset_default_graph()\n"
   ]
  },
  {
   "cell_type": "code",
   "execution_count": null,
   "metadata": {},
   "outputs": [],
   "source": []
  }
 ],
 "metadata": {
  "kernelspec": {
   "display_name": "Python 3",
   "language": "python",
   "name": "python3"
  },
  "language_info": {
   "codemirror_mode": {
    "name": "ipython",
    "version": 3
   },
   "file_extension": ".py",
   "mimetype": "text/x-python",
   "name": "python",
   "nbconvert_exporter": "python",
   "pygments_lexer": "ipython3",
   "version": "3.7.4"
  }
 },
 "nbformat": 4,
 "nbformat_minor": 2
}
