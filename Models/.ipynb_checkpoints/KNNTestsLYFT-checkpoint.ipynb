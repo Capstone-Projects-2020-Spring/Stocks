{
 "cells": [
  {
   "cell_type": "markdown",
   "metadata": {},
   "source": [
    "____future____\n",
    "\n",
    "make the target the next day close \n",
    "the things we use to predict that close as the previous day close and open"
   ]
  },
  {
   "cell_type": "code",
   "execution_count": 281,
   "metadata": {},
   "outputs": [],
   "source": [
    "import numpy as np\n",
    "import matplotlib.pyplot as plt\n",
    "from matplotlib.colors import ListedColormap\n",
    "from sklearn import neighbors\n",
    "from sklearn.model_selection import train_test_split\n",
    "import matplotlib as mpl # this actually imports matplotlib\n",
    "import matplotlib.cm as cm #allows us easy access to colormaps\n",
    "import matplotlib.pyplot as plt #sets up plotting under plt\n",
    "import pandas as pd #lets us handle data as dataframes"
   ]
  },
  {
   "cell_type": "code",
   "execution_count": 282,
   "metadata": {},
   "outputs": [
    {
     "data": {
      "text/html": [
       "<div>\n",
       "<style scoped>\n",
       "    .dataframe tbody tr th:only-of-type {\n",
       "        vertical-align: middle;\n",
       "    }\n",
       "\n",
       "    .dataframe tbody tr th {\n",
       "        vertical-align: top;\n",
       "    }\n",
       "\n",
       "    .dataframe thead th {\n",
       "        text-align: right;\n",
       "    }\n",
       "</style>\n",
       "<table border=\"1\" class=\"dataframe\">\n",
       "  <thead>\n",
       "    <tr style=\"text-align: right;\">\n",
       "      <th></th>\n",
       "      <th>date</th>\n",
       "      <th>1. open</th>\n",
       "      <th>2. high</th>\n",
       "      <th>3. low</th>\n",
       "      <th>4. close</th>\n",
       "      <th>5. volume</th>\n",
       "    </tr>\n",
       "  </thead>\n",
       "  <tbody>\n",
       "    <tr>\n",
       "      <td>0</td>\n",
       "      <td>2020-03-13</td>\n",
       "      <td>264.89</td>\n",
       "      <td>279.92</td>\n",
       "      <td>252.95</td>\n",
       "      <td>277.97</td>\n",
       "      <td>89803440.0</td>\n",
       "    </tr>\n",
       "    <tr>\n",
       "      <td>1</td>\n",
       "      <td>2020-03-12</td>\n",
       "      <td>255.94</td>\n",
       "      <td>270.00</td>\n",
       "      <td>248.00</td>\n",
       "      <td>248.23</td>\n",
       "      <td>104618517.0</td>\n",
       "    </tr>\n",
       "    <tr>\n",
       "      <td>2</td>\n",
       "      <td>2020-03-11</td>\n",
       "      <td>277.39</td>\n",
       "      <td>281.22</td>\n",
       "      <td>271.86</td>\n",
       "      <td>275.43</td>\n",
       "      <td>64094970.0</td>\n",
       "    </tr>\n",
       "    <tr>\n",
       "      <td>3</td>\n",
       "      <td>2020-03-10</td>\n",
       "      <td>277.14</td>\n",
       "      <td>286.44</td>\n",
       "      <td>269.37</td>\n",
       "      <td>285.34</td>\n",
       "      <td>71322520.0</td>\n",
       "    </tr>\n",
       "    <tr>\n",
       "      <td>4</td>\n",
       "      <td>2020-03-09</td>\n",
       "      <td>263.75</td>\n",
       "      <td>278.09</td>\n",
       "      <td>263.00</td>\n",
       "      <td>266.17</td>\n",
       "      <td>71686208.0</td>\n",
       "    </tr>\n",
       "    <tr>\n",
       "      <td>...</td>\n",
       "      <td>...</td>\n",
       "      <td>...</td>\n",
       "      <td>...</td>\n",
       "      <td>...</td>\n",
       "      <td>...</td>\n",
       "      <td>...</td>\n",
       "    </tr>\n",
       "    <tr>\n",
       "      <td>5028</td>\n",
       "      <td>2000-03-17</td>\n",
       "      <td>120.12</td>\n",
       "      <td>125.00</td>\n",
       "      <td>119.62</td>\n",
       "      <td>125.00</td>\n",
       "      <td>2723600.0</td>\n",
       "    </tr>\n",
       "    <tr>\n",
       "      <td>5029</td>\n",
       "      <td>2000-03-16</td>\n",
       "      <td>117.31</td>\n",
       "      <td>122.00</td>\n",
       "      <td>114.50</td>\n",
       "      <td>121.56</td>\n",
       "      <td>3375900.0</td>\n",
       "    </tr>\n",
       "    <tr>\n",
       "      <td>5030</td>\n",
       "      <td>2000-03-15</td>\n",
       "      <td>115.62</td>\n",
       "      <td>120.25</td>\n",
       "      <td>114.12</td>\n",
       "      <td>116.25</td>\n",
       "      <td>3960800.0</td>\n",
       "    </tr>\n",
       "    <tr>\n",
       "      <td>5031</td>\n",
       "      <td>2000-03-14</td>\n",
       "      <td>121.22</td>\n",
       "      <td>124.25</td>\n",
       "      <td>114.00</td>\n",
       "      <td>114.25</td>\n",
       "      <td>3826600.0</td>\n",
       "    </tr>\n",
       "    <tr>\n",
       "      <td>5032</td>\n",
       "      <td>2000-03-13</td>\n",
       "      <td>122.12</td>\n",
       "      <td>126.50</td>\n",
       "      <td>119.50</td>\n",
       "      <td>121.31</td>\n",
       "      <td>2713900.0</td>\n",
       "    </tr>\n",
       "  </tbody>\n",
       "</table>\n",
       "<p>5033 rows × 6 columns</p>\n",
       "</div>"
      ],
      "text/plain": [
       "            date  1. open  2. high  3. low  4. close    5. volume\n",
       "0     2020-03-13   264.89   279.92  252.95    277.97   89803440.0\n",
       "1     2020-03-12   255.94   270.00  248.00    248.23  104618517.0\n",
       "2     2020-03-11   277.39   281.22  271.86    275.43   64094970.0\n",
       "3     2020-03-10   277.14   286.44  269.37    285.34   71322520.0\n",
       "4     2020-03-09   263.75   278.09  263.00    266.17   71686208.0\n",
       "...          ...      ...      ...     ...       ...          ...\n",
       "5028  2000-03-17   120.12   125.00  119.62    125.00    2723600.0\n",
       "5029  2000-03-16   117.31   122.00  114.50    121.56    3375900.0\n",
       "5030  2000-03-15   115.62   120.25  114.12    116.25    3960800.0\n",
       "5031  2000-03-14   121.22   124.25  114.00    114.25    3826600.0\n",
       "5032  2000-03-13   122.12   126.50  119.50    121.31    2713900.0\n",
       "\n",
       "[5033 rows x 6 columns]"
      ]
     },
     "execution_count": 282,
     "metadata": {},
     "output_type": "execute_result"
    }
   ],
   "source": [
    "df = pd.read_csv(\"/Users/zachadams/Stocks/stockCSV/AAPL.csv\")\n",
    "df"
   ]
  },
  {
   "cell_type": "code",
   "execution_count": 283,
   "metadata": {},
   "outputs": [],
   "source": [
    "df['date'] = pd.to_datetime(df['date'],format='%Y-%m-%d')"
   ]
  },
  {
   "cell_type": "code",
   "execution_count": 284,
   "metadata": {},
   "outputs": [
    {
     "data": {
      "text/plain": [
       "Text(0.5, 0, 'starting')"
      ]
     },
     "execution_count": 284,
     "metadata": {},
     "output_type": "execute_result"
    },
    {
     "data": {
      "image/png": "[encoded data removed]",
      "text/plain": [
       "<Figure size 432x288 with 1 Axes>"
      ]
     },
     "metadata": {
      "needs_background": "light"
     },
     "output_type": "display_data"
    }
   ],
   "source": [
    "plt.plot(df['date'][:1000],df['4. close'][:1000])\n",
    "plt.ylabel(\"price\")\n",
    "plt.xlabel(\"starting\")"
   ]
  },
  {
   "cell_type": "code",
   "execution_count": 285,
   "metadata": {},
   "outputs": [
    {
     "name": "stdout",
     "output_type": "stream",
     "text": [
      "APPL chart from  2016-03-23 00:00:00\n"
     ]
    }
   ],
   "source": [
    "print(\"APPL chart from \", df['date'][1000])"
   ]
  },
  {
   "cell_type": "code",
   "execution_count": 286,
   "metadata": {},
   "outputs": [
    {
     "data": {
      "text/html": [
       "<div>\n",
       "<style scoped>\n",
       "    .dataframe tbody tr th:only-of-type {\n",
       "        vertical-align: middle;\n",
       "    }\n",
       "\n",
       "    .dataframe tbody tr th {\n",
       "        vertical-align: top;\n",
       "    }\n",
       "\n",
       "    .dataframe thead th {\n",
       "        text-align: right;\n",
       "    }\n",
       "</style>\n",
       "<table border=\"1\" class=\"dataframe\">\n",
       "  <thead>\n",
       "    <tr style=\"text-align: right;\">\n",
       "      <th></th>\n",
       "      <th>1. open</th>\n",
       "      <th>2. high</th>\n",
       "      <th>3. low</th>\n",
       "    </tr>\n",
       "  </thead>\n",
       "  <tbody>\n",
       "    <tr>\n",
       "      <td>0</td>\n",
       "      <td>264.89</td>\n",
       "      <td>279.92</td>\n",
       "      <td>252.95</td>\n",
       "    </tr>\n",
       "    <tr>\n",
       "      <td>1</td>\n",
       "      <td>255.94</td>\n",
       "      <td>270.00</td>\n",
       "      <td>248.00</td>\n",
       "    </tr>\n",
       "    <tr>\n",
       "      <td>2</td>\n",
       "      <td>277.39</td>\n",
       "      <td>281.22</td>\n",
       "      <td>271.86</td>\n",
       "    </tr>\n",
       "    <tr>\n",
       "      <td>3</td>\n",
       "      <td>277.14</td>\n",
       "      <td>286.44</td>\n",
       "      <td>269.37</td>\n",
       "    </tr>\n",
       "    <tr>\n",
       "      <td>4</td>\n",
       "      <td>263.75</td>\n",
       "      <td>278.09</td>\n",
       "      <td>263.00</td>\n",
       "    </tr>\n",
       "    <tr>\n",
       "      <td>...</td>\n",
       "      <td>...</td>\n",
       "      <td>...</td>\n",
       "      <td>...</td>\n",
       "    </tr>\n",
       "    <tr>\n",
       "      <td>5028</td>\n",
       "      <td>120.12</td>\n",
       "      <td>125.00</td>\n",
       "      <td>119.62</td>\n",
       "    </tr>\n",
       "    <tr>\n",
       "      <td>5029</td>\n",
       "      <td>117.31</td>\n",
       "      <td>122.00</td>\n",
       "      <td>114.50</td>\n",
       "    </tr>\n",
       "    <tr>\n",
       "      <td>5030</td>\n",
       "      <td>115.62</td>\n",
       "      <td>120.25</td>\n",
       "      <td>114.12</td>\n",
       "    </tr>\n",
       "    <tr>\n",
       "      <td>5031</td>\n",
       "      <td>121.22</td>\n",
       "      <td>124.25</td>\n",
       "      <td>114.00</td>\n",
       "    </tr>\n",
       "    <tr>\n",
       "      <td>5032</td>\n",
       "      <td>122.12</td>\n",
       "      <td>126.50</td>\n",
       "      <td>119.50</td>\n",
       "    </tr>\n",
       "  </tbody>\n",
       "</table>\n",
       "<p>5033 rows × 3 columns</p>\n",
       "</div>"
      ],
      "text/plain": [
       "      1. open  2. high  3. low\n",
       "0      264.89   279.92  252.95\n",
       "1      255.94   270.00  248.00\n",
       "2      277.39   281.22  271.86\n",
       "3      277.14   286.44  269.37\n",
       "4      263.75   278.09  263.00\n",
       "...       ...      ...     ...\n",
       "5028   120.12   125.00  119.62\n",
       "5029   117.31   122.00  114.50\n",
       "5030   115.62   120.25  114.12\n",
       "5031   121.22   124.25  114.00\n",
       "5032   122.12   126.50  119.50\n",
       "\n",
       "[5033 rows x 3 columns]"
      ]
     },
     "execution_count": 286,
     "metadata": {},
     "output_type": "execute_result"
    }
   ],
   "source": [
    "X = df.drop('4. close', axis = 1)\n",
    "X = X.drop('date', axis = 1)\n",
    "X = X.drop('5. volume', axis = 1)v\n",
    "X"
   ]
  },
  {
   "cell_type": "code",
   "execution_count": 287,
   "metadata": {},
   "outputs": [
    {
     "data": {
      "text/plain": [
       "0       277.97\n",
       "1       248.23\n",
       "2       275.43\n",
       "3       285.34\n",
       "4       266.17\n",
       "         ...  \n",
       "5028    125.00\n",
       "5029    121.56\n",
       "5030    116.25\n",
       "5031    114.25\n",
       "5032    121.31\n",
       "Name: 4. close, Length: 5033, dtype: float64"
      ]
     },
     "execution_count": 287,
     "metadata": {},
     "output_type": "execute_result"
    }
   ],
   "source": [
    "y = df['4. close']\n",
    "y"
   ]
  },
  {
   "cell_type": "code",
   "execution_count": 288,
   "metadata": {},
   "outputs": [],
   "source": [
    "X_train = X[500:]\n",
    "X_test = X[:500]\n",
    "y_train = y[500:]\n",
    "y_test = y[:500]"
   ]
  },
  {
   "cell_type": "code",
   "execution_count": 363,
   "metadata": {},
   "outputs": [
    {
     "data": {
      "text/plain": [
       "KNeighborsRegressor(algorithm='auto', leaf_size=1, metric='minkowski',\n",
       "                    metric_params=None, n_jobs=None, n_neighbors=5, p=2,\n",
       "                    weights='distance')"
      ]
     },
     "execution_count": 363,
     "metadata": {},
     "output_type": "execute_result"
    }
   ],
   "source": [
    "mdl = neighbors.KNeighborsRegressor(n_neighbors = 5, weights = \"distance\", algorithm = \"auto\")\n",
    "mdl.fit(X_train, y_train)"
   ]
  },
  {
   "cell_type": "code",
   "execution_count": 364,
   "metadata": {},
   "outputs": [],
   "source": [
    "y_pred = mdl.predict(X_test)"
   ]
  },
  {
   "cell_type": "code",
   "execution_count": 365,
   "metadata": {},
   "outputs": [],
   "source": [
    "from sklearn.metrics import mean_squared_error as mse"
   ]
  },
  {
   "cell_type": "code",
   "execution_count": 366,
   "metadata": {},
   "outputs": [
    {
     "data": {
      "text/plain": [
       "4.119376362492409"
      ]
     },
     "execution_count": 366,
     "metadata": {},
     "output_type": "execute_result"
    }
   ],
   "source": [
    "mse(y_pred,y_test)"
   ]
  },
  {
   "cell_type": "code",
   "execution_count": 330,
   "metadata": {},
   "outputs": [],
   "source": [
    "pred_df = df.copy(deep = True)"
   ]
  },
  {
   "cell_type": "code",
   "execution_count": 368,
   "metadata": {},
   "outputs": [
    {
     "name": "stderr",
     "output_type": "stream",
     "text": [
      "/opt/anaconda3/lib/python3.7/site-packages/ipykernel_launcher.py:2: SettingWithCopyWarning: \n",
      "A value is trying to be set on a copy of a slice from a DataFrame\n",
      "\n",
      "See the caveats in the documentation: http://pandas.pydata.org/pandas-docs/stable/user_guide/indexing.html#returning-a-view-versus-a-copy\n",
      "  \n"
     ]
    },
    {
     "data": {
      "text/plain": [
       "Text(0.5, 0, 'date')"
      ]
     },
     "execution_count": 368,
     "metadata": {},
     "output_type": "execute_result"
    },
    {
     "data": {
      "image/png": "[encoded data removed]",
      "text/plain": [
       "<Figure size 720x360 with 1 Axes>"
      ]
     },
     "metadata": {
      "needs_background": "light"
     },
     "output_type": "display_data"
    }
   ],
   "source": [
    "plt.figure(figsize = (10,5))\n",
    "pred_df['4. close'][:500] = y_pred\n",
    "plt.plot(df['date'][:500], df['4. close'][:500])\n",
    "plt.plot(pred_df['date'][:500], pred_df['4. close'][:500])\n",
    "plt.ylabel(\"price\")\n",
    "plt.xlabel(\"date\")"
   ]
  },
  {
   "cell_type": "code",
   "execution_count": 349,
   "metadata": {},
   "outputs": [
    {
     "data": {
      "text/plain": [
       "0      262.710927\n",
       "1      257.834286\n",
       "2      275.849493\n",
       "3      276.448397\n",
       "4      269.153075\n",
       "          ...    \n",
       "495    169.970534\n",
       "496    166.414176\n",
       "497    172.602835\n",
       "498    172.693213\n",
       "499    176.671588\n",
       "Name: 4. close, Length: 500, dtype: float64"
      ]
     },
     "execution_count": 349,
     "metadata": {},
     "output_type": "execute_result"
    }
   ],
   "source": [
    "pred_df['4. close'][:500]"
   ]
  },
  {
   "cell_type": "code",
   "execution_count": 350,
   "metadata": {},
   "outputs": [
    {
     "data": {
      "text/plain": [
       "0      277.97\n",
       "1      248.23\n",
       "2      275.43\n",
       "3      285.34\n",
       "4      266.17\n",
       "        ...  \n",
       "495    172.77\n",
       "496    164.94\n",
       "497    168.85\n",
       "498    171.27\n",
       "499    175.24\n",
       "Name: 4. close, Length: 500, dtype: float64"
      ]
     },
     "execution_count": 350,
     "metadata": {},
     "output_type": "execute_result"
    }
   ],
   "source": [
    "df['4. close'][:500]"
   ]
  },
  {
   "cell_type": "code",
   "execution_count": null,
   "metadata": {},
   "outputs": [],
   "source": []
  }
 ],
 "metadata": {
  "kernelspec": {
   "display_name": "Python 3",
   "language": "python",
   "name": "python3"
  },
  "language_info": {
   "codemirror_mode": {
    "name": "ipython",
    "version": 3
   },
   "file_extension": ".py",
   "mimetype": "text/x-python",
   "name": "python",
   "nbconvert_exporter": "python",
   "pygments_lexer": "ipython3",
   "version": "3.7.4"
  }
 },
 "nbformat": 4,
 "nbformat_minor": 2
}
