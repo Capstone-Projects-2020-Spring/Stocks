{
 "cells": [
  {
   "cell_type": "code",
<<<<<<< HEAD
<<<<<<< HEAD
   "execution_count": null,
   "metadata": {},
   "outputs": [],
=======
   "execution_count": 1,
   "metadata": {},
   "outputs": [
    {
     "name": "stderr",
     "output_type": "stream",
     "text": [
      "Using TensorFlow backend.\n"
     ]
    }
   ],
>>>>>>> 3dde1771a805aa78332615a7400496abdf2e906f
=======
   "execution_count": null,
   "metadata": {},
   "outputs": [],
>>>>>>> av_vol
   "source": [
    "import numpy as np\n",
    "import matplotlib.pyplot as plt\n",
    "from matplotlib.colors import ListedColormap\n",
    "import matplotlib.cm as cm #allows us easy access to colormaps\n",
    "import matplotlib.pyplot as plt #sets up plotting under plt\n",
    "import pandas as pd #lets us handle data as dataframes\n",
    "from keras.layers.core import Dense, Activation, Dropout\n",
    "from keras.layers.recurrent import LSTM\n",
    "from keras.models import Sequential\n",
    "from numpy import newaxis\n",
    "import random as rand\n",
    "from sklearn import preprocessing\n",
    "import warnings\n",
    "warnings.filterwarnings(\"ignore\") #Hide messy Numpy warnings\n",
    "from sklearn.metrics import mean_squared_error as mse\n",
    "import seaborn as sns"
   ]
  },
  {
   "cell_type": "code",
   "execution_count": null,
   "metadata": {},
   "outputs": [],
   "source": []
  },
  {
   "cell_type": "code",
   "execution_count": null,
   "metadata": {},
   "outputs": [],
   "source": [
    "## Method for moving averages\n",
    "\n",
    "# if you want to change the number of values you want then change this line: closing_prices = df.iloc[0:30].values\n",
    "# say you want more data points: closing_prices = df.iloc[0:50].values\n",
    "# if you want a larger interval to average ie price(t) + price(delta + t) / interval --> then change the interval\n",
    "# interval is just the days you are dividing by the changes in price\n",
    "\n",
    "# parameters you might want to put in\n",
    "def movingaverage(number_of_days, stock_list):\n",
    "    \n",
    "    moving_avg = []\n",
    "    interval = number_of_days\n",
    "    \n",
    "    for stock in stock_list:\n",
    "        print(stock)\n",
    "        df = pd.read_csv(\"../Stock_CSV/\" +stock + \".csv\")\n",
    "        df= df['4. close']\n",
    "        closing_prices = df.values\n",
    "        len_prices = len(closing_prices)\n",
    "        print(len_prices)\n",
    "        for i in range(len_prices-1):  \n",
    "            if i==(len_prices-interval-1):\n",
    "                break\n",
    "            \n",
    "            sum_prices = 0 \n",
    "            for j in range(interval): \n",
    "                #print(closing_prices[i+j])\n",
    "                sum_prices += closing_prices[i+j]\n",
    "\n",
    "                \n",
    "            moving_avg.append(sum_prices/interval) \n",
    "            \n",
    "            #you dont need this, it is just a visual\n",
    "            #print('sum:',sum_prices)\n",
    "            #print('\\n') \n",
    "            #print('moving avg:',moving_avg)\n",
    "            #print('\\n')\n",
    "        \n",
    "        moving_avg.reverse()\n",
    "        return moving_avg\n",
    "            \n",
    "        #clearing moving averages list - you might not need this\n",
    "nums = movingaverage(10, [\"AAPL\"])\n",
    "len(nums)"
   ]
  },
  {
   "cell_type": "code",
   "execution_count": null,
   "metadata": {},
   "outputs": [],
   "source": [
    "def convertData(leng, stock):\n",
    "    #leng = leng-1\n",
    "    df = pd.DataFrame()\n",
    "    raw_seq = pd.read_csv(\"../Stock_CSV/\" +stock + \".csv\")\n",
    "    raw_seq = raw_seq.set_index('date')\n",
    "    raw_seq = raw_seq.iloc[::-1]\n",
    "    seq = np.array(raw_seq['4. close'])\n",
    "    date = round(len(seq)*.5)\n",
    "    seq = seq[date:]\n",
    "    #scaler = preprocessing.StandardScaler()\n",
    "    #seq = scaler.fit_transform(seq.reshape(-1,1))\n",
    "    rolling_mean = raw_seq['4. close'][date:].rolling(window=leng).mean()\n",
    "    #rolling_mean = np.array(rolling_mean)\n",
    "    #rolling_mean = scaler.fit_transform(rolling_mean.reshape(-1,1))\n",
    "    #seq = seq.reshape(seq.shape[0])\n",
    "    #rolling_mean = rolling_mean.reshape(rolling_mean.shape[0])\n",
    "    df['pred'] = seq[leng:]\n",
    "    for i in range(0,leng):\n",
    "        df['val'+str(i)] = seq[i:len(seq)-leng+i]\n",
    "    df['move_avg'] = rolling_mean.values[leng:]\n",
    "    return df"
   ]
  },
  {
   "cell_type": "code",
   "execution_count": null,
   "metadata": {},
   "outputs": [],
   "source": [
    "df = convertData(10,'AAPL')\n",
    "y = df['pred'].values\n",
    "x = df.drop('pred', axis= 1)\n",
    "x = x.values\n",
    "scalerX = preprocessing.StandardScaler()\n",
    "scalerY = preprocessing.StandardScaler()\n",
    "x = scalerX.fit_transform(x)\n",
    "y = scalerY.fit_transform(y.reshape(-1,1))\n",
    "x.shape"
   ]
  },
  {
   "cell_type": "code",
   "execution_count": null,
   "metadata": {},
   "outputs": [],
   "source": [
    "df"
   ]
  },
  {
   "cell_type": "code",
   "execution_count": null,
   "metadata": {},
   "outputs": [],
   "source": [
    "df = pd.read_csv(\"../Stock_CSV/\" +'AAPL' + \".csv\")\n",
    "rolling_mean = df['4. close'].rolling(window=10).mean()"
   ]
  },
  {
   "cell_type": "code",
   "execution_count": null,
   "metadata": {},
   "outputs": [],
   "source": [
    "rolling_mean"
   ]
  },
  {
   "cell_type": "code",
<<<<<<< HEAD
<<<<<<< HEAD
   "execution_count": null,
   "metadata": {},
   "outputs": [],
   "source": []
=======
   "execution_count": null,
   "metadata": {},
   "outputs": [],
   "source": [
    "df.shape"
   ]
>>>>>>> av_vol
  },
  {
   "cell_type": "code",
   "execution_count": null,
<<<<<<< HEAD
=======
   "execution_count": 2,
>>>>>>> 3dde1771a805aa78332615a7400496abdf2e906f
=======
>>>>>>> av_vol
   "metadata": {},
   "outputs": [],
   "source": [
    "def normalise_windows(window_data):\n",
    "    normalised_data = []\n",
    "    normalised_window_0 = []\n",
    "    for window in window_data:\n",
    "        normalised_window = [((float(p) / float(window[0])) - 1) for p in window]\n",
    "        normalised_data.append(normalised_window)\n",
    "        normalised_window_0.append(window[0])\n",
    "    return (normalised_data,normalised_window_0)\n",
    "#divides each value "
   ]
  },
  {
   "cell_type": "code",
<<<<<<< HEAD
<<<<<<< HEAD
   "execution_count": null,
=======
   "execution_count": 3,
>>>>>>> 3dde1771a805aa78332615a7400496abdf2e906f
=======
   "execution_count": null,
>>>>>>> av_vol
   "metadata": {},
   "outputs": [],
   "source": [
    "def reverse_normalise(y, reverse, start_val):\n",
    "    normalised_data = []\n",
    "    i = start_val\n",
    "    for valuey in y:\n",
    "        value = ((float(valuey)+1) * float(reverse[i])) \n",
    "        normalised_data.append(value)\n",
    "        i = i+1\n",
    "    return normalised_data"
   ]
  },
  {
   "cell_type": "code",
<<<<<<< HEAD
<<<<<<< HEAD
   "execution_count": null,
=======
   "execution_count": 4,
>>>>>>> 3dde1771a805aa78332615a7400496abdf2e906f
=======
   "execution_count": null,
>>>>>>> av_vol
   "metadata": {},
   "outputs": [],
   "source": [
    "def set_data(stock, seq_len):\n",
    "        raw_seq = pd.read_csv(\"../Stock_CSV/\"+ stock +'.csv')['4. close']\n",
    "        sequence_length = seq_len + 1\n",
    "        seq = [ele for ele in reversed(raw_seq)] \n",
    "        seq = np.array(seq)\n",
    "        result = []\n",
    "        for index in range(len(seq) - sequence_length ):\n",
    "            result.append(seq[index: index + sequence_length])\n",
    "        \n",
    "        result, result_reverse = normalise_windows(result)\n",
    "        \n",
    "        result = np.array(result)\n",
    "        print(result.shape)\n",
    "        #result_reverse = []\n",
    "        row = round(0.95 * len(result))\n",
    "        train = result[:int(row), :]\n",
    "        #np.random.shuffle(train)\n",
    "        x_train = train[:, :-1]\n",
    "        y_train = train[:, -1]\n",
    "        x_test = result[int(row):, :-1]\n",
    "        y_test = result[int(row):, -1]\n",
    "\n",
    "        x_train = np.reshape(x_train, (x_train.shape[0], x_train.shape[1], 1))\n",
    "        x_test = np.reshape(x_test, (x_test.shape[0], x_test.shape[1], 1))  \n",
    "        return (x_train, x_test, y_train, y_test, result_reverse, row)\n",
    "    #except:\n",
    "        #print(\"file\" + stock + \".csv not found\")\n"
   ]
  },
  {
   "cell_type": "code",
<<<<<<< HEAD
<<<<<<< HEAD
   "execution_count": null,
=======
   "execution_count": 5,
>>>>>>> 3dde1771a805aa78332615a7400496abdf2e906f
=======
   "execution_count": null,
>>>>>>> av_vol
   "metadata": {},
   "outputs": [],
   "source": []
  },
  {
   "cell_type": "code",
<<<<<<< HEAD
<<<<<<< HEAD
   "execution_count": null,
=======
   "execution_count": 6,
>>>>>>> 3dde1771a805aa78332615a7400496abdf2e906f
=======
   "execution_count": null,
>>>>>>> av_vol
   "metadata": {},
   "outputs": [],
   "source": [
    "def set_stock_list():\n",
    "    arr = []\n",
    "    with open(\"../NASDAQ.txt\", \"r\") as filestream:\n",
    "        for line in filestream:\n",
    "            currentline = line.split(',')\n",
    "            arr.append(currentline)\n",
    "    newarr = np.array(arr[0])\n",
    "    return newarr"
   ]
  },
  {
   "cell_type": "code",
<<<<<<< HEAD
<<<<<<< HEAD
   "execution_count": null,
=======
   "execution_count": 7,
>>>>>>> 3dde1771a805aa78332615a7400496abdf2e906f
=======
   "execution_count": null,
>>>>>>> av_vol
   "metadata": {},
   "outputs": [],
   "source": [
    "def predict_point_by_point(model, data):\n",
    "    #Predict each timestep given the last sequence of true data, in effect only predicting 1 step ahead each time\n",
    "    predicted = model.predict(data)\n",
    "    predicted = np.reshape(predicted, (predicted.size,))\n",
    "    return predicted"
   ]
  },
  {
   "cell_type": "code",
<<<<<<< HEAD
<<<<<<< HEAD
   "execution_count": null,
=======
   "execution_count": 8,
>>>>>>> 3dde1771a805aa78332615a7400496abdf2e906f
=======
   "execution_count": null,
>>>>>>> av_vol
   "metadata": {},
   "outputs": [],
   "source": [
    "def predict_sequence_full(model, data, window_size):\n",
    "    #Shift the window by 1 new prediction each time, re-run predictions on new window\n",
    "    curr_frame = data[0]\n",
    "    predicted = []\n",
    "    for i in range(len(data)):\n",
    "        predicted.append(model.predict(curr_frame[newaxis,:,:])[0,0])\n",
    "        curr_frame = curr_frame[1:]\n",
    "        curr_frame = np.insert(curr_frame, [window_size-1], predicted[-1], axis=0)\n",
    "    return predicted\n"
   ]
  },
  {
   "cell_type": "code",
<<<<<<< HEAD
<<<<<<< HEAD
   "execution_count": null,
=======
   "execution_count": 9,
>>>>>>> 3dde1771a805aa78332615a7400496abdf2e906f
=======
   "execution_count": null,
>>>>>>> av_vol
   "metadata": {},
   "outputs": [],
   "source": [
    "def predict_sequences_multiple(model, data, window_size, prediction_len):\n",
    "    #Predict sequence of 50 steps before shifting prediction run forward by 50 steps\n",
    "    prediction_seqs = []\n",
    "    for i in range(int(len(data)/prediction_len)):\n",
    "        curr_frame = data[i*prediction_len]\n",
    "        predicted = []\n",
    "        for j in range(prediction_len):\n",
    "            predicted.append(model.predict(curr_frame[newaxis,:,:])[0,0])\n",
    "            curr_frame = curr_frame[1:]\n",
    "            curr_frame = np.insert(curr_frame, [window_size-1], predicted[-1], axis=0)\n",
    "        prediction_seqs.append(predicted)\n",
    "    return prediction_seqs\n"
   ]
  },
  {
   "cell_type": "code",
<<<<<<< HEAD
<<<<<<< HEAD
   "execution_count": null,
=======
   "execution_count": 10,
>>>>>>> 3dde1771a805aa78332615a7400496abdf2e906f
=======
   "execution_count": null,
>>>>>>> av_vol
   "metadata": {},
   "outputs": [],
   "source": [
    "def plot_results_multiple(predicted_data, true_data, prediction_len, stock):\n",
    "    fig = plt.figure(facecolor='white',figsize = (10,5))\n",
    "    ax = fig.add_subplot(111)\n",
    "    ax.plot(true_data, label='True Data')\n",
    "    #Pad the list of predictions to shift it in the graph to it's correct start\n",
    "    for i, data in enumerate(predicted_data):\n",
    "        padding = [None for p in range(i * prediction_len)]\n",
    "        plt.plot(padding + data)\n",
    "        plt.title(stock + \" Closing Stock Price\")\n",
    "        plt.legend()\n",
    "    plt.show()"
   ]
  },
  {
   "cell_type": "code",
<<<<<<< HEAD
<<<<<<< HEAD
   "execution_count": null,
=======
   "execution_count": 11,
>>>>>>> 3dde1771a805aa78332615a7400496abdf2e906f
=======
   "execution_count": null,
>>>>>>> av_vol
   "metadata": {},
   "outputs": [],
   "source": [
    "from keras.models import load_model\n",
    "#model.save('stock_NN.h5')"
   ]
  },
  {
   "cell_type": "code",
<<<<<<< HEAD
<<<<<<< HEAD
   "execution_count": null,
=======
   "execution_count": 12,
>>>>>>> 3dde1771a805aa78332615a7400496abdf2e906f
=======
   "execution_count": null,
>>>>>>> av_vol
   "metadata": {},
   "outputs": [],
   "source": [
    "def accuracy(y_true, y_pred):\n",
    "    prev_true = y_true[0]\n",
    "    prev_pred = y_pred[0]\n",
    "    correct = 0\n",
    "    incorrect = 0\n",
    "    for i in range(1,len(y_pred)):\n",
    "        if prev_true < y_true[i] and prev_true < y_pred[i]:\n",
    "            correct = correct+1\n",
    "        elif prev_true > y_true[i] and prev_true > y_pred[i]:\n",
    "            correct = correct+1\n",
    "        else:\n",
    "            incorrect = incorrect+1\n",
    "        prev_true = y_true[i]\n",
    "        prev_pred = y_pred[i]        \n",
    "    return (correct, incorrect)"
   ]
  },
  {
   "cell_type": "code",
<<<<<<< HEAD
<<<<<<< HEAD
   "execution_count": null,
=======
   "execution_count": 13,
>>>>>>> 3dde1771a805aa78332615a7400496abdf2e906f
=======
   "execution_count": null,
>>>>>>> av_vol
   "metadata": {},
   "outputs": [],
   "source": [
    "def n_day_accuracy(days, y_true, pred):\n",
    "    y_pred = []\n",
    "    for nums in pred:\n",
    "        y_pred.append(nums[-1])\n",
    "    prev_true = y_true[0]\n",
    "    correct = 0\n",
    "    incorrect = 0\n",
    "    j = days-1\n",
    "    for i in range(0, len(y_pred)-1):\n",
    "        if (prev_true < y_true[j] and prev_true < y_pred[i]) or (prev_true > y_true[j] and prev_true > y_pred[i]):\n",
    "            correct = correct+1\n",
    "        else:\n",
    "            incorrect = incorrect+1\n",
    "        \n",
    "        if j > len(y_true)-1:\n",
    "            break\n",
    "        prev_true = y_true[j]\n",
    "        j = j + days\n",
    "        if j > len(y_true)-1:\n",
    "            break\n",
    "    return (correct, incorrect)\n",
    "    "
   ]
  },
  {
   "cell_type": "code",
<<<<<<< HEAD
<<<<<<< HEAD
   "execution_count": null,
=======
   "execution_count": 14,
>>>>>>> 3dde1771a805aa78332615a7400496abdf2e906f
=======
   "execution_count": null,
>>>>>>> av_vol
   "metadata": {},
   "outputs": [],
   "source": [
    "def build_model(shape):\n",
    "    #act = keras.layers.advanced_activations.PReLU(init='zero', weights=None)\n",
    "    # The LSTM architecture\n",
    "    regressor = Sequential()\n",
    "    # First LSTM layer with Dropout regularisation\n",
    "    regressor.add(LSTM(units=50, return_sequences=True, input_shape=(shape,1)))\n",
    "    regressor.add(Dropout(0.6))\n",
    "    # Second LSTM layer\n",
    "    #regressor.add(LSTM(units=50, return_sequences=True))\n",
    "    #regressor.add(Dropout(0.6))\n",
    "    # Third LSTM layer\n",
    "    #regressor.add(LSTM(units=50, return_sequences=True))\n",
    "    #regressor.add(Dropout(0.7))\n",
    "    #model.add(Activation('sigmoid'))\n",
    "    # Fourth LSTM layer \n",
    "    regressor.add(LSTM(units=50))\n",
    "    regressor.add(Dropout(0.7))\n",
    "    # The output layer\n",
    "   \n",
    "    regressor.add(Dense(units=1))\n",
    "\n",
    "    # Compiling the RNN\n",
    "    regressor.compile(optimizer='rmsprop', loss='mean_squared_error')\n",
    "    return regressor"
   ]
  },
  {
   "cell_type": "code",
   "execution_count": null,
   "metadata": {},
   "outputs": [],
   "source": [
    "def scale(x_train, x_test, y_train,y_test, scalerX, scalerY):\n",
    "    x_train = x_train.reshape(x_train.shape[0],x_train.shape[1])\n",
    "    x_train = scalerX.fit_transform(x_train)\n",
    "    x_test = x_test.reshape(x_test.shape[0],x_test.shape[1])\n",
    "    x_test = scalerX.fit_transform(x_test)\n",
    "    y_train = y_train.reshape(-1,1)\n",
    "    y_train = scalerX.fit_transform(y_train)\n",
    "    y_test = y_test.reshape(-1,1)\n",
    "    y_test = scalerX.fit_transform(y_test)\n",
    "    x_test = x_test.reshape(x_test.shape[0],x_test.shape[1], 1)\n",
    "    x_train = x_train.reshape(x_train.shape[0],x_train.shape[1], 1)\n",
    "    y_train = y_train.reshape(y_train.shape[0])\n",
    "    y_test = y_test.reshape(y_test.shape[0])\n",
    "    \n",
    "\n",
    "def prepare_data(stock, length, scalerX, scalerY):\n",
    "    df = convertData(length,stock)\n",
    "    y = df['pred'].values\n",
    "    x = df.drop('pred', axis= 1)\n",
    "    x = x.values\n",
    "    x = scalerX.fit_transform(x)\n",
    "    y = scalerY.fit_transform(y.reshape(-1,1))\n",
    "    num = round(len(x)*.90)\n",
    "    x = x.reshape(x.shape[0],x.shape[1],1)\n",
    "    x_train = x[:num]\n",
    "    x_test = x[num:]\n",
    "    y_train = y[:num]\n",
    "    y_test = y[num:]\n",
    "    \n",
    "    return (x_train, x_test, y_train,y_test, scalerX, scalerY)"
   ]
  },
  {
   "cell_type": "code",
<<<<<<< HEAD
<<<<<<< HEAD
   "execution_count": null,
=======
   "execution_count": 15,
>>>>>>> 3dde1771a805aa78332615a7400496abdf2e906f
=======
   "execution_count": null,
>>>>>>> av_vol
   "metadata": {},
   "outputs": [],
   "source": [
    "seq_length = 5\n"
   ]
  },
  {
   "cell_type": "code",
   "execution_count": null,
   "metadata": {},
   "outputs": [],
   "source": [
    "model = build_model(seq_length+1)"
   ]
  },
  {
   "cell_type": "code",
   "execution_count": null,
   "metadata": {
    "scrolled": true
   },
   "outputs": [],
   "source": [
    "epochs = 3\n",
    "stock_list = set_stock_list()\n",
    "#for i in range(0,400):\n",
    "for stock in stock_list:\n",
    "    j = rand.randrange(0, len(stock_list)-1)\n",
    "    #print(i)\n",
    "    #print(stock_list[j])\n",
    "    print(stock)\n",
    "    try:\n",
    "        x_train,x_test,y_train,y_test, scalerX, scalerY = prepare_data(stock , seq_length, scalerX, scalerY)\n",
    "        #x_train,x_test,y_train,y_test, scalerX, scalerY = prepare_data(stock_list[j] , seq_length, scalerX, scalerY)\n",
    "\n",
    "        hist = model.fit(\n",
    "                x_train,\n",
    "                y_train,\n",
    "                batch_size = 128,\n",
    "                nb_epoch=epochs,\n",
    "                validation_data=(x_test, y_test))\n",
    "    except:\n",
    "        print(\"not found\")\n"
   ]
  },
  {
   "cell_type": "code",
   "execution_count": null,
   "metadata": {},
   "outputs": [],
   "source": [
    "predict_future_(5,seq_length,'AACG', scalerX, scalerY)"
   ]
  },
  {
   "cell_type": "code",
   "execution_count": null,
   "metadata": {},
   "outputs": [],
   "source": []
  },
  {
   "cell_type": "code",
   "execution_count": null,
   "metadata": {
    "scrolled": true
   },
   "outputs": [],
   "source": [
    "x_train, x_test, y_train,y_test, scalerX,scalerY= prepare_data('AACG',seq_length, scalerX, scalerY )\n",
    "predicted = predict_point_by_point(model, x_test)\n",
    "mse(y_test,predicted)\n",
    "#y_test = scalerY.inverse_transform(y_test)\n",
    "#predicted = scalerY.inverse_transform(predicted)\n",
    "plt.plot(y_test, label = \"test\")\n",
    "plt.plot(predicted, label = \"predicted\")\n",
    "plt.legend()\n",
    "plt.show()\n",
    "correct , incorrect= accuracy(y_test, predicted)\n",
    "print(\"number correct:\", correct)\n",
    "print(\"number incorrect\", incorrect)\n",
    "print(\"percetage correct:\", float(correct/(correct+incorrect)))\n",
    "y_train"
   ]
  },
  {
   "cell_type": "code",
   "execution_count": null,
   "metadata": {},
   "outputs": [],
   "source": [
    "stock_list1 = ['AMZN', 'MSFT', 'GOOGL', 'CTSH', 'VIVO', 'IBM', 'CSCO', 'NVDA','AMD', 'NKTR', 'WMT']"
   ]
  },
  {
   "cell_type": "code",
   "execution_count": null,
   "metadata": {},
   "outputs": [],
   "source": []
  },
  {
   "cell_type": "code",
   "execution_count": null,
   "metadata": {},
   "outputs": [],
   "source": [
    "model = load_model('bestlog.h5')"
   ]
  },
  {
   "cell_type": "code",
   "execution_count": null,
   "metadata": {},
   "outputs": [],
   "source": [
    "model.save('bestlog.h5')"
   ]
  },
  {
   "cell_type": "code",
   "execution_count": null,
   "metadata": {},
   "outputs": [],
   "source": [
    "best = 0.0000001\n",
    "average = 0\n",
    "length = 0\n",
    "cor=0\n",
    "inc = 0"
   ]
  },
  {
   "cell_type": "code",
   "execution_count": null,
   "metadata": {
    "scrolled": true
   },
   "outputs": [],
   "source": [
    "stock_list1 = set_stock_list()\n",
    "for stock in stock_list1:\n",
    "    try:\n",
    "        print(stock)\n",
    "        x_train, x_test, y_train,y_test, scalerX,scalerY= prepare_data(stock,seq_length, scalerX, scalerY )\n",
    "        y_new = scalerY.inverse_transform(y_test.reshape(-1,1))\n",
    "        predicted = predict_point_by_point(model, x_test)\n",
    "        pred = scalerY.inverse_transform(predicted.reshape(-1,1))\n",
    "        y_new=y_new.reshape(y_new.shape[0])\n",
    "        pred = pred.reshape(pred.shape[0])\n",
    "        mse(y_test,predicted)\n",
    "        #y_test = scalerY.inverse_transform(y_test)\n",
    "        #predicted = scalerY.inverse_transform(predicted)\n",
    "        #plt.plot(y_new[850:], label = \"test\")\n",
    "        #plt.plot(pred[850:], label = \"predicted\")\n",
    "        #plt.title(stock)\n",
    "        #plt.legend()\n",
    "        #plt.show()\n",
    "        correct , incorrect= accuracy(y_test, predicted)\n",
    "        cor = cor+correct\n",
    "        inc = inc+incorrect\n",
    "    \n",
    "        if float(correct/(correct+incorrect)) > best:\n",
    "            best = float(correct/(correct+incorrect))\n",
    "            best_stock = stock\n",
    "            \n",
    "    except:\n",
    "        print(\"not found\")\n",
    "print(\"best stock:\",best_stock)\n",
    "print(\"score: \",best)\n",
    "print(\"average: \", float(cor/(cor+inc)))\n",
    "\n",
    "    "
   ]
  },
  {
   "cell_type": "code",
   "execution_count": null,
   "metadata": {},
   "outputs": [],
   "source": [
    "x_train, x_test, y_train,y_test, scalerX,scalerY= prepare_data('NVDA',seq_length, scalerX, scalerY )\n",
    "#predicted = predict_point_by_point(model, x_test)\n"
   ]
  },
  {
   "cell_type": "code",
   "execution_count": null,
   "metadata": {},
   "outputs": [],
   "source": []
  },
  {
   "cell_type": "code",
   "execution_count": null,
   "metadata": {},
   "outputs": [],
   "source": [
    "x_train, x_test, y_train,y_test, scalerX,scalerY= prepare_data('NVDA',seq_length, scalerX, scalerY )\n",
    "predictions = predict_sequences_multiple(model, x_test, seq_length,20)\n",
    "plot_results_multiple(predictions, y_test, 20, 'TSLA') \n",
    "correct , incorrect = n_day_accuracy(20, y_test, predictions)\n",
    "print(\"number correct:\", correct)\n",
    "print(\"number incorrect\", incorrect)\n",
    "print(\"percetage correct:\", float(correct/(correct+incorrect)))"
   ]
  },
  {
   "cell_type": "code",
   "execution_count": null,
   "metadata": {},
   "outputs": [],
   "source": [
    "stock_list = ['AMZN', 'MSFT', 'GOOGL', 'CTSH', 'VIVO', 'IBM', 'CSCO', 'NVDA','AMD', 'NKTR', 'WMT','AAPL','ABT','ACN','ADBE','AGN','AIG','ALL','AMGN','AXP','BA','BAC','BIIB','BK','BKNG',\n",
    "                'BLK','BMY','BRK.B','C','CAT','CL','CMCSA','COF','COST','CVS','CVX','DD','DHR','DIS',\n",
    "                'DUK','EMR','EXC','F','FB','FDX','GD','GE','GILD','GM','GOOG','GS','HD','HON',\n",
    "                'INTC','JNJ','JPM','KHC','KMI','KO','LLY','LMT','LOW','MA','MCD','MDLZ','MDT','MET','MMM','MO','MRK',\n",
    "                'MS','NEE','NFLX','NKE','ORCL','OXY','PEP','PFE','PG','PM','PYPL','QCOM','RTN','SBUX','SLB',\n",
    "              'SO','SPG','T','TGT','TMO','TXN','UNH','UNP','UPS','USB','UTX','V','VZ','WBA','WFC','XOM']"
   ]
  },
  {
   "cell_type": "code",
   "execution_count": null,
   "metadata": {},
   "outputs": [],
   "source": [
    "stock_list2 = set_stock_list()\n",
    "scalerX = preprocessing.PowerTransformer()\n",
    "scalerY = preprocessing.PowerTransformer()"
   ]
  },
  {
   "cell_type": "code",
   "execution_count": null,
   "metadata": {
    "scrolled": true
   },
   "outputs": [],
   "source": [
    "epochs = 4\n",
    "stock_list = set_stock_list()\n",
    "for i in range(0,100):\n",
    "#for stock in stock_list:\n",
    "    j = rand.randrange(0, len(stock_list)-1)\n",
    "    print(stock_list[j])\n",
    "    #print(stock)\n",
    "    try:\n",
    "        x_train,x_test,y_train,y_test, reverse, row = set_data(stock_list[j] , seq_length)\n",
    "        #x_train,x_test,y_train,y_test, reverse, row = set_data(stock , seq_length)\n",
    "        hist = model.fit(\n",
    "                x_train,\n",
    "                y_train,\n",
    "                batch_size = 256,\n",
    "                nb_epoch=epochs,\n",
    "                validation_data=(x_test, y_test))\n",
    "    except:\n",
    "        print(\"not found\")\n",
    "\n"
   ]
  },
  {
   "cell_type": "code",
   "execution_count": null,
   "metadata": {},
   "outputs": [],
   "source": [
    "x_train, x_test, y_train,y_test, for_reverse, row = set_data('TCCO',seq_length)\n",
    "#x_train,x_test,y_train,y_test, scalerX, scalerY = scale( x_train,x_test,y_train,y_test, scalerX, scalerY)\n",
    "#x_train,x_test,y_train,y_test, scalerX, scalerY = prepare_data( stock_list[j], seq_length, scalerX, scalerY)"
   ]
  },
  {
   "cell_type": "code",
   "execution_count": null,
   "metadata": {},
   "outputs": [],
   "source": [
    "predicted = predict_point_by_point(model, x_test)\n",
    "true_graph = reverse_normalise(y_test, for_reverse,row)\n",
    "predicted_graph = reverse_normalise(predicted, for_reverse, row)\n",
    "mse(y_test,predicted)\n"
   ]
  },
  {
   "cell_type": "code",
   "execution_count": null,
   "metadata": {},
   "outputs": [],
   "source": [
    "plt.plot(true_graph[200:], label = \"test\")\n",
    "plt.plot(predicted_graph[200:], label = \"predicted\")\n",
    "plt.legend()\n",
    "plt.show()"
   ]
  },
  {
   "cell_type": "code",
   "execution_count": null,
   "metadata": {},
   "outputs": [],
   "source": [
    "plt.plot(y_test[200:], label = \"test\")\n",
    "plt.plot(predicted[200:], label = \"predicted\")\n",
    "plt.legend()\n",
    "plt.show()"
   ]
  },
  {
   "cell_type": "code",
   "execution_count": null,
   "metadata": {},
   "outputs": [],
   "source": [
    "correct , incorrect= accuracy(y_test, predicted)\n",
    "print(\"number correct:\", correct)\n",
    "print(\"number incorrect\", incorrect)\n",
    "print(\"percetage correct:\", float(correct/(correct+incorrect)))"
   ]
  },
  {
   "cell_type": "code",
   "execution_count": null,
   "metadata": {},
   "outputs": [],
   "source": [
    "predictions = predict_sequences_multiple(model, x_test, seq_length,10)\n",
    "plot_results_multiple(predictions, y_test, 10, 'TCCO') "
   ]
  },
  {
   "cell_type": "code",
   "execution_count": null,
   "metadata": {},
   "outputs": [],
   "source": [
    "correct , incorrect = n_day_accuracy(10, y_test, predictions)\n",
    "print(\"number correct:\", correct)\n",
    "print(\"number incorrect\", incorrect)\n",
    "print(\"percetage correct:\", float(correct/(correct+incorrect)))"
   ]
  },
  {
   "cell_type": "code",
   "execution_count": null,
   "metadata": {},
   "outputs": [],
   "source": [
    "stock_list1 = ['AMZN', 'MSFT', 'GOOGL', 'CTSH', 'VIVO', 'IBM', 'CSCO', 'NVDA','AMD', 'NKTR', 'WMT','AAPL','ABT','ACN','ADBE','AGN','AIG','ALL','AMGN','AXP','BA','BAC','BIIB','BK','BKNG',\n",
    "                'BLK','BMY','BRK.B','C','CAT','CL','CMCSA','COF','COST','CVS','CVX','DD','DHR','DIS',\n",
    "                'DUK','EMR','EXC','F','FB','FDX','GD','GE','GILD','GM','GOOG','GS','HD','HON',\n",
    "                'INTC','JNJ','JPM','KHC','KMI','KO','LLY','LMT','LOW','MA','MCD','MDLZ','MDT','MET','MMM','MO','MRK',\n",
    "                'MS','NEE','NFLX','NKE','ORCL','OXY','PEP','PFE','PG','PM','PYPL','QCOM','RTN','SBUX','SLB',\n",
    "              'SO','SPG','T','TGT','TMO','TXN','UNH','UNP','UPS','USB','UTX','V','VZ','WBA','WFC','XOM']"
   ]
  },
  {
   "cell_type": "code",
   "execution_count": null,
   "metadata": {},
   "outputs": [],
   "source": [
    "best = 0.0000001\n",
    "average = 0\n",
    "length = 0\n",
    "cor=0\n",
    "inc = 0"
   ]
  },
  {
   "cell_type": "code",
   "execution_count": null,
   "metadata": {
    "scrolled": true
   },
   "outputs": [],
   "source": [
    "#10 works best\n",
    "stock_list1 = set_stock_list()\n",
    "for stock in stock_list1:\n",
    "    try:\n",
    "        x_train,x_test,y_train,y_test, for_reverse, row = set_data(stock , seq_length)\n",
    "        #x_train,x_test,y_train,y_test, scalerX, scalerY = scale( x_train,x_test,y_train,y_test, scalerX, scalerY)\n",
    "        predicted = predict_point_by_point(model, x_test)        \n",
    "        correct , incorrect = accuracy(y_test, predicted)\n",
    "        new = []\n",
    "        new = x_test[-1][1:]\n",
    "        new = np.append(new, y_test[-1])\n",
    "        new = new.reshape(1,-1,1)\n",
    "        newPredicted = model.predict(new)\n",
    "        predicted = np.append(predicted,newPredicted)\n",
    "        shown_val = round(len(y_test) *.5)  \n",
    "        stock_acc = round(float(correct/(correct+incorrect))*100) \n",
    "        #plt.figure(figsize = (10,5))\n",
    "        #plt.plot(y_test[shown_val:], label = 'true')\n",
    "        #plt.plot(predicted[shown_val:], label = 'predicted')\n",
    "        #plt.axvline(len(y_test[shown_val:])-1, 0, 1, linestyle = '-.' , color ='black', label = 'april 9')\n",
    "        #plt.xlabel('days')\n",
    "        #plt.ylabel('normalized values')\n",
    "        #plt.title(stock + \" Normalized Stock Price\\n Day to Day Accuracy: \" + str(stock_acc)+ \"%\")\n",
    "        #plt.legend()\n",
    "        #plt.savefig(\"../1dayPredictions/\" + stock +\".png\")\n",
    "        #plt.show()\n",
    "        #plt.clf()\n",
    "        #correct , incorrect= accuracy(y_test, predicted)\n",
    "        cor = cor+correct\n",
    "        inc = inc+incorrect\n",
    "    \n",
    "        if float(correct/(correct+incorrect)) > best:\n",
    "            best = float(correct/(correct+incorrect))\n",
    "            best_stock = stock\n",
    "            \n",
    "    except:\n",
    "        print(\"not found\")\n",
    "print(\"best stock:\",best_stock)\n",
    "print(\"score: \",best)\n",
    "print(\"average: \", float(correct/(correct+incorrect)))"
   ]
  },
  {
   "cell_type": "code",
   "execution_count": null,
   "metadata": {},
   "outputs": [],
   "source": []
  },
  {
   "cell_type": "code",
   "execution_count": null,
   "metadata": {},
   "outputs": [],
   "source": [
    "stock_list1 = ['AMZN', 'MSFT', 'GOOGL', 'CTSH',\n",
    "               'VIVO', 'IBM', 'CSCO', 'NVDA','AMD', 'NKTR', 'WMT']"
   ]
  },
  {
   "cell_type": "code",
   "execution_count": null,
   "metadata": {},
   "outputs": [],
   "source": [
    "days = 10"
   ]
  },
  {
   "cell_type": "code",
   "execution_count": null,
   "metadata": {
    "scrolled": false
   },
   "outputs": [],
   "source": [
    "for stock in stock_list1:\n",
    "    try:\n",
    "        x_train,x_test,y_train,y_test, result, row = set_data(stock , seq_length)\n",
    "        #x_train,x_test,y_train,y_test, scalerX, scalerY = scale( x_train,x_test,y_train,y_test, scalerX, scalerY)\n",
    "        predictions = predict_sequences_multiple(model, x_test, seq_length,days)\n",
    "        plot_results_multiple(predictions, y_test,days, stock) \n",
    "        correct , incorrect= n_day_accuracy(days, y_test, predictions)\n",
    "        print(stock)\n",
    "        print(\"number correct:\", correct)\n",
    "        print(\"number incorrect\", incorrect)\n",
    "        print(\"percetage correct:\", float(correct/(correct+incorrect)))\n",
    "    except:\n",
    "        print(\"not found\")"
   ]
  },
  {
   "cell_type": "code",
   "execution_count": null,
   "metadata": {},
   "outputs": [],
   "source": []
  },
  {
   "cell_type": "code",
<<<<<<< HEAD
<<<<<<< HEAD
   "execution_count": null,
   "metadata": {},
   "outputs": [],
=======
   "execution_count": 16,
   "metadata": {},
   "outputs": [
    {
     "ename": "NameError",
     "evalue": "name 'model' is not defined",
     "output_type": "error",
     "traceback": [
      "\u001b[1;31m---------------------------------------------------------------------------\u001b[0m",
      "\u001b[1;31mNameError\u001b[0m                                 Traceback (most recent call last)",
      "\u001b[1;32m<ipython-input-16-36b2e538ed14>\u001b[0m in \u001b[0;36m<module>\u001b[1;34m\u001b[0m\n\u001b[1;32m----> 1\u001b[1;33m \u001b[0mmodel\u001b[0m\u001b[1;33m.\u001b[0m\u001b[0msave\u001b[0m\u001b[1;33m(\u001b[0m\u001b[1;34m'stock_nn_'\u001b[0m\u001b[1;33m+\u001b[0m \u001b[0mstr\u001b[0m\u001b[1;33m(\u001b[0m\u001b[0mepochs\u001b[0m\u001b[1;33m)\u001b[0m\u001b[1;33m+\u001b[0m\u001b[1;34m'epochs_'\u001b[0m\u001b[1;33m+\u001b[0m\u001b[0mstr\u001b[0m\u001b[1;33m(\u001b[0m\u001b[0mseq_length\u001b[0m\u001b[1;33m)\u001b[0m\u001b[1;33m+\u001b[0m\u001b[1;34m'best4.h5'\u001b[0m\u001b[1;33m)\u001b[0m\u001b[1;33m\u001b[0m\u001b[1;33m\u001b[0m\u001b[0m\n\u001b[0m",
      "\u001b[1;31mNameError\u001b[0m: name 'model' is not defined"
     ]
    }
   ],
>>>>>>> 3dde1771a805aa78332615a7400496abdf2e906f
=======
   "execution_count": null,
   "metadata": {},
   "outputs": [],
>>>>>>> av_vol
   "source": [
    "model.save('goodlog.h5')"
   ]
  },
  {
   "cell_type": "code",
<<<<<<< HEAD
<<<<<<< HEAD
   "execution_count": null,
=======
   "execution_count": 17,
>>>>>>> 3dde1771a805aa78332615a7400496abdf2e906f
=======
   "execution_count": null,
>>>>>>> av_vol
   "metadata": {},
   "outputs": [],
   "source": [
    "model = load_model('bestlog.h5')\n"
   ]
  },
  {
   "cell_type": "code",
<<<<<<< HEAD
<<<<<<< HEAD
   "execution_count": null,
=======
   "execution_count": 18,
>>>>>>> 3dde1771a805aa78332615a7400496abdf2e906f
=======
   "execution_count": null,
>>>>>>> av_vol
   "metadata": {},
   "outputs": [],
   "source": [
    "x_train, x_test, y_train,y_test, scalerX,scalerY= prepare_data('NVDA',seq_length, scalerX, scalerY )\n",
    "predicted = predict_point_by_point(model, x_test)\n",
    "\n",
    "for i in range(0,5):\n",
    "    new= x_test[-1][1:-1]\n",
    "    new = np.append(new,y_test[-1])\n",
    "    new = np.append(new,new.mean())\n",
    "    x_test = np.vstack((x_test, new.reshape(1,11,1)))\n",
    "    pred = model.predict(x_test)\n",
    "    y_test =np.append(y_test,pred[-1])\n",
    "    \n",
    "plt.plot(y_test[350:])\n",
    "plt.plot(predicted[350:])"
   ]
  },
  {
   "cell_type": "code",
<<<<<<< HEAD
<<<<<<< HEAD
   "execution_count": null,
=======
   "execution_count": 19,
>>>>>>> 3dde1771a805aa78332615a7400496abdf2e906f
=======
   "execution_count": null,
>>>>>>> av_vol
   "metadata": {},
   "outputs": [],
   "source": [
    "def predict_future_(days, seq_length, stock, scalerX, scalerY, model):\n",
    "    x_train, x_test, y_train,y_test, scalerX,scalerY= prepare_data(stock,seq_length, scalerX, scalerY )\n",
    "    predicted = predict_point_by_point(model, x_test)\n",
    "    correct, incorrect = accuracy(y_test,predicted)\n",
    "    stock_acc = round(float(correct/(correct+incorrect)*100))\n",
    "    spot = round(len(y_test) *.5)\n",
    "    for i in range(0,days):\n",
    "        new= x_test[-1][1:-1]\n",
    "        new = np.append(new,y_test[-1])\n",
    "        new = np.append(new,new.mean())\n",
    "        x_test = np.vstack((x_test, new.reshape(1,seq_length+1,1)))\n",
    "        pred = model.predict(x_test)\n",
    "        y_test =np.append(y_test,pred[-1])\n",
    "    plt.figure(figsize = (10,6))\n",
    "    plt.plot(scalerY.inverse_transform(predicted[len(predicted)-spot+days:]), color = 'r', label = 'predicted')\n",
    "    plt.plot(scalerY.inverse_transform(y_test[len(y_test)-spot:]), color = 'g', label = 'true')\n",
    "    plt.axvline(spot-days-1, 0, 1, linestyle = '-.' , color ='black', label = 'april 27')\n",
    "    plt.legend()\n",
    "    plt.title(stock + \" Stock Price\\n5 Day Prediction\\nDay to Day accuracy: \"+str(stock_acc)+\"%\")\n",
    "    plt.savefig(\"../mod2/\" + stock +\".png\")"
   ]
  },
  {
   "cell_type": "code",
<<<<<<< HEAD
<<<<<<< HEAD
   "execution_count": null,
=======
   "execution_count": 23,
>>>>>>> 3dde1771a805aa78332615a7400496abdf2e906f
=======
   "execution_count": null,
   "metadata": {},
   "outputs": [],
   "source": [
    "stock_list = set_stock_list()\n",
    "days = 5\n",
    "for stock in stock_list:\n",
    "    try:\n",
    "        predict_future_(days, seq_length, stock, scalerX, scalerY, model)\n",
    "    except:\n",
    "        print(\"not found\")"
   ]
  },
  {
   "cell_type": "code",
   "execution_count": null,
   "metadata": {},
   "outputs": [],
   "source": [
    "def predict_future(days, model , x_test, y_test, seq_len, stock):\n",
    "    #x_train, x_test, y_train,y_test, scalerX,scalerY= prepare_data(stock,seq_length, scalerX, scalerY )\n",
    "    predicted = predict_point_by_point(model, x_test)\n",
    "    correct, incorrect = accuracy(y_test,predicted)\n",
    "    stock_acc = round(float(correct/(correct+incorrect)*100))\n",
    "    predictions = predict_sequences_multiple(model, x_test, seq_length,days)\n",
    "    correct , incorrect= n_day_accuracy(days, y_test, predictions)\n",
    "    stock_acc_days = round(float(correct/(correct+incorrect)*100))\n",
    "    spot = round(len(y_test) *.5)\n",
    "    for i in range(0,days):\n",
    "        new= x_test[-1][1:]\n",
    "        new = np.append(new,y_test[-1])\n",
    "        #new = np.append(new,new.mean())\n",
    "        x_test = np.vstack((x_test, new.reshape(1,seq_length,1)))\n",
    "        pred = model.predict(x_test)\n",
    "        y_test =np.append(y_test,pred[-1])\n",
    "    plt.figure(figsize = (10,6))\n",
    "    plt.plot(scalerY.inverse_transform(predicted[len(predicted)-spot+days:]), color = 'r', label = 'predicted')\n",
    "    plt.plot(scalerY.inverse_transform(y_test[len(y_test)-spot:]), color = 'g', label = 'true')\n",
    "    plt.axvline(spot-days-1, 0, 1, linestyle = '-.' , color ='black', label = 'april 27')\n",
    "    plt.legend()\n",
    "    plt.title(stock + \" Normalized Stock Price 10 Day Prediction\\n Day to Day accuracy: \"+str(stock_acc)+\"%\\n\"+ str(days)+\" day accuracy: \"+str(stock_acc_days)+\"%\")\n",
    "    plt.savefig(\"../mod1/\" + stock +\".png\")"
   ]
  },
  {
   "cell_type": "code",
   "execution_count": null,
   "metadata": {},
   "outputs": [],
   "source": [
    "days = 10\n",
    "seq_length = 10"
   ]
  },
  {
   "cell_type": "code",
   "execution_count": null,
>>>>>>> av_vol
   "metadata": {},
   "outputs": [],
   "source": [
    "x_train, x_test, y_train,y_test, for_reverse, row = set_data('NVDA',seq_length)\n",
    "#x_train,x_test,y_train,y_test, scalerX, scalerY = scale( x_train,x_test,y_train,y_test, scalerX, scalerY)\n",
    "predictions = predict_sequences_multiple(model, x_test, seq_length,days)\n",
    "correct , incorrect= n_day_accuracy(days, y_test, predictions)\n",
    "stock_acc = round(float(correct/(correct+incorrect)*100))\n",
    "predict_future(days, model, x_test, y_test, seq_length, 'NVDA')"
   ]
  },
  {
   "cell_type": "code",
<<<<<<< HEAD
<<<<<<< HEAD
   "execution_count": null,
   "metadata": {},
   "outputs": [],
=======
   "execution_count": 24,
   "metadata": {},
   "outputs": [
    {
     "data": {
      "image/png": "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\n",
      "text/plain": [
       "<Figure size 720x360 with 1 Axes>"
      ]
     },
     "metadata": {
      "needs_background": "light"
     },
     "output_type": "display_data"
    }
   ],
>>>>>>> 3dde1771a805aa78332615a7400496abdf2e906f
=======
   "execution_count": null,
   "metadata": {},
   "outputs": [],
   "source": []
  },
  {
   "cell_type": "code",
   "execution_count": null,
   "metadata": {},
   "outputs": [],
>>>>>>> av_vol
   "source": [
    "spot = round(len(predicted) * .5)\n",
    "plt.figure(figsize = (10,5))\n",
    "plt.plot(predicted[len(predicted)-spot:], color = 'red', label = 'predicted')\n",
    "plt.plot(y_test[len(y_test)-spot+days:], color = 'g', label = 'true')\n",
    "plt.xlabel('days')\n",
    "plt.ylabel('normalized values')\n",
    "plt.title(\" NVDA Normalized Stock Price\\n 30 Day Prediction Accuracy: \" + str(stock_acc)+ \"%\\n 7 day prediction\")\n",
    "plt.axvline(spot-days-1, 0, 1, linestyle = '-.' , color ='black', label = 'april 9')\n",
    "plt.legend()\n",
    "plt.show()"
   ]
  },
  {
   "cell_type": "code",
   "execution_count": null,
   "metadata": {},
   "outputs": [],
   "source": [
    "stock_list2 = set_stock_list()"
   ]
  },
  {
   "cell_type": "code",
   "execution_count": null,
   "metadata": {},
   "outputs": [],
   "source": [
    "stock_list = ['AACG']\n"
   ]
  },
  {
   "cell_type": "code",
   "execution_count": null,
   "metadata": {
    "scrolled": true
   },
   "outputs": [],
   "source": [
    "for stock in stock_list2:\n",
    "    try:\n",
    "        x_train, x_test, y_train,y_test, for_reverse, row = set_data(stock,seq_length)\n",
    "        predict_future(days, model, x_test, y_test, seq_length, stock)\n",
    "    except:\n",
    "        print(\"not found\")"
   ]
  },
  {
   "cell_type": "code",
   "execution_count": null,
   "metadata": {},
   "outputs": [],
   "source": []
  }
 ],
 "metadata": {
  "kernelspec": {
   "display_name": "Python 3",
   "language": "python",
   "name": "python3"
  },
  "language_info": {
   "codemirror_mode": {
    "name": "ipython",
    "version": 3
   },
   "file_extension": ".py",
   "mimetype": "text/x-python",
   "name": "python",
   "nbconvert_exporter": "python",
   "pygments_lexer": "ipython3",
<<<<<<< HEAD
   "version": "3.7.5"
=======
   "version": "3.7.4"
>>>>>>> 3dde1771a805aa78332615a7400496abdf2e906f
  }
 },
 "nbformat": 4,
 "nbformat_minor": 2
}
