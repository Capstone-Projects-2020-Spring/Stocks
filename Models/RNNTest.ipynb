{
 "cells": [
  {
   "cell_type": "code",
   "execution_count": null,
   "metadata": {},
   "outputs": [],
   "source": [
    "import numpy as np\n",
    "import matplotlib.pyplot as plt\n",
    "from matplotlib.colors import ListedColormap\n",
    "import matplotlib.cm as cm #allows us easy access to colormaps\n",
    "import matplotlib.pyplot as plt #sets up plotting under plt\n",
    "import pandas as pd #lets us handle data as dataframes\n",
    "from keras.layers.core import Dense, Activation, Dropout\n",
    "from keras.layers.recurrent import LSTM\n",
    "from keras.models import Sequential\n",
    "from numpy import newaxis\n",
    "import random as rand\n",
    "from sklearn import preprocessing\n",
    "import warnings\n",
    "warnings.filterwarnings(\"ignore\") #Hide messy Numpy warnings\n",
    "from sklearn.metrics import mean_squared_error as mse\n",
    "import seaborn as sns"
   ]
  },
  {
   "cell_type": "code",
   "execution_count": null,
   "metadata": {},
   "outputs": [],
   "source": []
  },
  {
   "cell_type": "code",
   "execution_count": null,
   "metadata": {},
   "outputs": [],
   "source": [
    "## Method for moving averages\n",
    "\n",
    "# if you want to change the number of values you want then change this line: closing_prices = df.iloc[0:30].values\n",
    "# say you want more data points: closing_prices = df.iloc[0:50].values\n",
    "# if you want a larger interval to average ie price(t) + price(delta + t) / interval --> then change the interval\n",
    "# interval is just the days you are dividing by the changes in price\n",
    "\n",
    "# parameters you might want to put in\n",
    "def movingaverage(number_of_days, stock_list):\n",
    "    \n",
    "    moving_avg = []\n",
    "    interval = number_of_days\n",
    "    \n",
    "    for stock in stock_list:\n",
    "        print(stock)\n",
    "        df = pd.read_csv(\"../Stock_CSV/\" +stock + \".csv\")\n",
    "        df= df['4. close']\n",
    "        closing_prices = df.values\n",
    "        len_prices = len(closing_prices)\n",
    "        print(len_prices)\n",
    "        for i in range(len_prices-1):  \n",
    "            if i==(len_prices-interval-1):\n",
    "                break\n",
    "            \n",
    "            sum_prices = 0 \n",
    "            for j in range(interval): \n",
    "                #print(closing_prices[i+j])\n",
    "                sum_prices += closing_prices[i+j]\n",
    "\n",
    "                \n",
    "            moving_avg.append(sum_prices/interval) \n",
    "            \n",
    "            #you dont need this, it is just a visual\n",
    "            #print('sum:',sum_prices)\n",
    "            #print('\\n') \n",
    "            #print('moving avg:',moving_avg)\n",
    "            #print('\\n')\n",
    "        \n",
    "        moving_avg.reverse()\n",
    "        return moving_avg\n",
    "            \n",
    "        #clearing moving averages list - you might not need this\n",
    "nums = movingaverage(10, [\"AAPL\"])\n",
    "len(nums)"
   ]
  },
  {
   "cell_type": "code",
   "execution_count": null,
   "metadata": {},
   "outputs": [],
   "source": [
    "def convertData(leng, stock):\n",
    "    #leng = leng-1\n",
    "    df = pd.DataFrame()\n",
    "    raw_seq = pd.read_csv(\"../Stock_CSV/\" +stock + \".csv\")\n",
    "    raw_seq = raw_seq.set_index('date')\n",
    "    raw_seq = raw_seq.iloc[::-1]\n",
    "    seq = np.array(raw_seq['4. close'])\n",
    "    date = round(len(seq)*.5)\n",
    "    seq = seq[date:]\n",
    "    #scaler = preprocessing.StandardScaler()\n",
    "    #seq = scaler.fit_transform(seq.reshape(-1,1))\n",
    "    rolling_mean = raw_seq['4. close'][date:].rolling(window=leng).mean()\n",
    "    #rolling_mean = np.array(rolling_mean)\n",
    "    #rolling_mean = scaler.fit_transform(rolling_mean.reshape(-1,1))\n",
    "    #seq = seq.reshape(seq.shape[0])\n",
    "    #rolling_mean = rolling_mean.reshape(rolling_mean.shape[0])\n",
    "    df['pred'] = seq[leng:]\n",
    "    for i in range(0,leng):\n",
    "        df['val'+str(i)] = seq[i:len(seq)-leng+i]\n",
    "    df['move_avg'] = rolling_mean.values[leng:]\n",
    "    return df"
   ]
  },
  {
   "cell_type": "code",
   "execution_count": null,
   "metadata": {},
   "outputs": [],
   "source": [
    "df = convertData(10,'AAPL')\n",
    "y = df['pred'].values\n",
    "x = df.drop('pred', axis= 1)\n",
    "x = x.values\n",
    "scalerX = preprocessing.StandardScaler()\n",
    "scalerY = preprocessing.StandardScaler()\n",
    "x = scalerX.fit_transform(x)\n",
    "y = scalerY.fit_transform(y.reshape(-1,1))\n",
    "x.shape"
   ]
  },
  {
   "cell_type": "code",
   "execution_count": null,
   "metadata": {},
   "outputs": [],
   "source": [
    "df"
   ]
  },
  {
   "cell_type": "code",
   "execution_count": null,
   "metadata": {},
   "outputs": [],
   "source": [
    "df = pd.read_csv(\"../Stock_CSV/\" +'AAPL' + \".csv\")\n",
    "rolling_mean = df['4. close'].rolling(window=10).mean()"
   ]
  },
  {
   "cell_type": "code",
   "execution_count": null,
   "metadata": {},
   "outputs": [],
   "source": [
    "rolling_mean"
   ]
  },
  {
   "cell_type": "code",
   "execution_count": null,
   "metadata": {},
   "outputs": [],
   "source": [
    "df.shape"
   ]
  },
  {
   "cell_type": "code",
   "execution_count": null,
   "metadata": {},
   "outputs": [],
   "source": [
    "def normalise_windows(window_data):\n",
    "    normalised_data = []\n",
    "    normalised_window_0 = []\n",
    "    for window in window_data:\n",
    "        normalised_window = [((float(p) / float(window[0])) - 1) for p in window]\n",
    "        normalised_data.append(normalised_window)\n",
    "        normalised_window_0.append(window[0])\n",
    "    return (normalised_data,normalised_window_0)\n",
    "#divides each value "
   ]
  },
  {
   "cell_type": "code",
   "execution_count": null,
   "metadata": {},
   "outputs": [],
   "source": [
    "def reverse_normalise(y, reverse, start_val):\n",
    "    normalised_data = []\n",
    "    i = start_val\n",
    "    for valuey in y:\n",
    "        value = ((float(valuey)+1) * float(reverse[i])) \n",
    "        normalised_data.append(value)\n",
    "        i = i+1\n",
    "    return normalised_data"
   ]
  },
  {
   "cell_type": "code",
   "execution_count": null,
   "metadata": {},
   "outputs": [],
   "source": [
    "def set_data(stock, seq_len):\n",
    "        raw_seq = pd.read_csv(\"../Stock_CSV/\"+ stock +'.csv')['4. close']\n",
    "        sequence_length = seq_len + 1\n",
    "        seq = [ele for ele in reversed(raw_seq)] \n",
    "        seq = np.array(seq)\n",
    "        result = []\n",
    "        for index in range(len(seq) - sequence_length ):\n",
    "            result.append(seq[index: index + sequence_length])\n",
    "        \n",
    "        result, result_reverse = normalise_windows(result)\n",
    "        \n",
    "        result = np.array(result)\n",
    "        print(result.shape)\n",
    "        #result_reverse = []\n",
    "        row = round(0.95 * len(result))\n",
    "        train = result[:int(row), :]\n",
    "        #np.random.shuffle(train)\n",
    "        x_train = train[:, :-1]\n",
    "        y_train = train[:, -1]\n",
    "        x_test = result[int(row):, :-1]\n",
    "        y_test = result[int(row):, -1]\n",
    "\n",
    "        x_train = np.reshape(x_train, (x_train.shape[0], x_train.shape[1], 1))\n",
    "        x_test = np.reshape(x_test, (x_test.shape[0], x_test.shape[1], 1))  \n",
    "        return (x_train, x_test, y_train, y_test, result_reverse, row)\n",
    "    #except:\n",
    "        #print(\"file\" + stock + \".csv not found\")\n"
   ]
  },
  {
   "cell_type": "code",
   "execution_count": null,
   "metadata": {},
   "outputs": [],
   "source": []
  },
  {
   "cell_type": "code",
   "execution_count": null,
   "metadata": {},
   "outputs": [],
   "source": [
    "def set_stock_list():\n",
    "    arr = []\n",
    "    with open(\"../NASDAQ.txt\", \"r\") as filestream:\n",
    "        for line in filestream:\n",
    "            currentline = line.split(',')\n",
    "            arr.append(currentline)\n",
    "    newarr = np.array(arr[0])\n",
    "    return newarr"
   ]
  },
  {
   "cell_type": "code",
   "execution_count": null,
   "metadata": {},
   "outputs": [],
   "source": [
    "def predict_point_by_point(model, data):\n",
    "    #Predict each timestep given the last sequence of true data, in effect only predicting 1 step ahead each time\n",
    "    predicted = model.predict(data)\n",
    "    predicted = np.reshape(predicted, (predicted.size,))\n",
    "    return predicted"
   ]
  },
  {
   "cell_type": "code",
   "execution_count": null,
   "metadata": {},
   "outputs": [],
   "source": [
    "def predict_sequence_full(model, data, window_size):\n",
    "    #Shift the window by 1 new prediction each time, re-run predictions on new window\n",
    "    curr_frame = data[0]\n",
    "    predicted = []\n",
    "    for i in range(len(data)):\n",
    "        predicted.append(model.predict(curr_frame[newaxis,:,:])[0,0])\n",
    "        curr_frame = curr_frame[1:]\n",
    "        curr_frame = np.insert(curr_frame, [window_size-1], predicted[-1], axis=0)\n",
    "    return predicted\n"
   ]
  },
  {
   "cell_type": "code",
   "execution_count": null,
   "metadata": {},
   "outputs": [],
   "source": [
    "def predict_sequences_multiple(model, data, window_size, prediction_len):\n",
    "    #Predict sequence of 50 steps before shifting prediction run forward by 50 steps\n",
    "    prediction_seqs = []\n",
    "    for i in range(int(len(data)/prediction_len)):\n",
    "        curr_frame = data[i*prediction_len]\n",
    "        predicted = []\n",
    "        for j in range(prediction_len):\n",
    "            predicted.append(model.predict(curr_frame[newaxis,:,:])[0,0])\n",
    "            curr_frame = curr_frame[1:]\n",
    "            curr_frame = np.insert(curr_frame, [window_size-1], predicted[-1], axis=0)\n",
    "        prediction_seqs.append(predicted)\n",
    "    return prediction_seqs\n"
   ]
  },
  {
   "cell_type": "code",
   "execution_count": null,
   "metadata": {},
   "outputs": [],
   "source": [
    "def plot_results_multiple(predicted_data, true_data, prediction_len, stock):\n",
    "    fig = plt.figure(facecolor='white',figsize = (10,5))\n",
    "    ax = fig.add_subplot(111)\n",
    "    ax.plot(true_data, label='True Data')\n",
    "    #Pad the list of predictions to shift it in the graph to it's correct start\n",
    "    for i, data in enumerate(predicted_data):\n",
    "        padding = [None for p in range(i * prediction_len)]\n",
    "        plt.plot(padding + data)\n",
    "        plt.title(stock + \" Closing Stock Price\")\n",
    "        plt.legend()\n",
    "    plt.show()"
   ]
  },
  {
   "cell_type": "code",
   "execution_count": null,
   "metadata": {},
   "outputs": [],
   "source": [
    "from keras.models import load_model\n",
    "#model.save('stock_NN.h5')"
   ]
  },
  {
   "cell_type": "code",
   "execution_count": null,
   "metadata": {},
   "outputs": [],
   "source": [
    "def accuracy(y_true, y_pred):\n",
    "    prev_true = y_true[0]\n",
    "    prev_pred = y_pred[0]\n",
    "    correct = 0\n",
    "    incorrect = 0\n",
    "    for i in range(1,len(y_pred)):\n",
    "        if prev_true < y_true[i] and prev_true < y_pred[i]:\n",
    "            correct = correct+1\n",
    "        elif prev_true > y_true[i] and prev_true > y_pred[i]:\n",
    "            correct = correct+1\n",
    "        else:\n",
    "            incorrect = incorrect+1\n",
    "        prev_true = y_true[i]\n",
    "        prev_pred = y_pred[i]        \n",
    "    return (correct, incorrect)"
   ]
  },
  {
   "cell_type": "code",
   "execution_count": null,
   "metadata": {},
   "outputs": [],
   "source": [
    "def n_day_accuracy(days, y_true, pred):\n",
    "    y_pred = []\n",
    "    for nums in pred:\n",
    "        y_pred.append(nums[-1])\n",
    "    prev_true = y_true[0]\n",
    "    correct = 0\n",
    "    incorrect = 0\n",
    "    j = days-1\n",
    "    for i in range(0, len(y_pred)-1):\n",
    "        if (prev_true < y_true[j] and prev_true < y_pred[i]) or (prev_true > y_true[j] and prev_true > y_pred[i]):\n",
    "            correct = correct+1\n",
    "        else:\n",
    "            incorrect = incorrect+1\n",
    "        \n",
    "        if j > len(y_true)-1:\n",
    "            break\n",
    "        prev_true = y_true[j]\n",
    "        j = j + days\n",
    "        if j > len(y_true)-1:\n",
    "            break\n",
    "    return (correct, incorrect)\n",
    "    "
   ]
  },
  {
   "cell_type": "code",
   "execution_count": null,
   "metadata": {},
   "outputs": [],
   "source": [
    "def build_model(shape):\n",
    "    #act = keras.layers.advanced_activations.PReLU(init='zero', weights=None)\n",
    "    # The LSTM architecture\n",
    "    regressor = Sequential()\n",
    "    # First LSTM layer with Dropout regularisation\n",
    "    regressor.add(LSTM(units=50, return_sequences=True, input_shape=(shape,1)))\n",
    "    regressor.add(Dropout(0.6))\n",
    "    # Second LSTM layer\n",
    "    #regressor.add(LSTM(units=50, return_sequences=True))\n",
    "    #regressor.add(Dropout(0.6))\n",
    "    # Third LSTM layer\n",
    "    #regressor.add(LSTM(units=50, return_sequences=True))\n",
    "    #regressor.add(Dropout(0.7))\n",
    "    #model.add(Activation('sigmoid'))\n",
    "    # Fourth LSTM layer \n",
    "    regressor.add(LSTM(units=50))\n",
    "    regressor.add(Dropout(0.7))\n",
    "    # The output layer\n",
    "   \n",
    "    regressor.add(Dense(units=1))\n",
    "\n",
    "    # Compiling the RNN\n",
    "    regressor.compile(optimizer='rmsprop', loss='mean_squared_error')\n",
    "    return regressor"
   ]
  },
  {
   "cell_type": "code",
   "execution_count": null,
   "metadata": {},
   "outputs": [],
   "source": [
    "def scale(x_train, x_test, y_train,y_test, scalerX, scalerY):\n",
    "    x_train = x_train.reshape(x_train.shape[0],x_train.shape[1])\n",
    "    x_train = scalerX.fit_transform(x_train)\n",
    "    x_test = x_test.reshape(x_test.shape[0],x_test.shape[1])\n",
    "    x_test = scalerX.fit_transform(x_test)\n",
    "    y_train = y_train.reshape(-1,1)\n",
    "    y_train = scalerX.fit_transform(y_train)\n",
    "    y_test = y_test.reshape(-1,1)\n",
    "    y_test = scalerX.fit_transform(y_test)\n",
    "    x_test = x_test.reshape(x_test.shape[0],x_test.shape[1], 1)\n",
    "    x_train = x_train.reshape(x_train.shape[0],x_train.shape[1], 1)\n",
    "    y_train = y_train.reshape(y_train.shape[0])\n",
    "    y_test = y_test.reshape(y_test.shape[0])\n",
    "    \n",
    "\n",
    "def prepare_data(stock, length, scalerX, scalerY):\n",
    "    df = convertData(length,stock)\n",
    "    y = df['pred'].values\n",
    "    x = df.drop('pred', axis= 1)\n",
    "    x = x.values\n",
    "    x = scalerX.fit_transform(x)\n",
    "    y = scalerY.fit_transform(y.reshape(-1,1))\n",
    "    num = round(len(x)*.90)\n",
    "    x = x.reshape(x.shape[0],x.shape[1],1)\n",
    "    x_train = x[:num]\n",
    "    x_test = x[num:]\n",
    "    y_train = y[:num]\n",
    "    y_test = y[num:]\n",
    "    \n",
    "    return (x_train, x_test, y_train,y_test, scalerX, scalerY)"
   ]
  },
  {
   "cell_type": "code",
   "execution_count": null,
   "metadata": {},
   "outputs": [],
   "source": [
    "seq_length = 5\n"
   ]
  },
  {
   "cell_type": "code",
   "execution_count": null,
   "metadata": {},
   "outputs": [],
   "source": [
    "model = build_model(seq_length+1)"
   ]
  },
  {
   "cell_type": "code",
   "execution_count": null,
   "metadata": {
    "scrolled": true
   },
   "outputs": [],
   "source": [
    "epochs = 3\n",
    "stock_list = set_stock_list()\n",
    "#for i in range(0,400):\n",
    "for stock in stock_list:\n",
    "    j = rand.randrange(0, len(stock_list)-1)\n",
    "    #print(i)\n",
    "    #print(stock_list[j])\n",
    "    print(stock)\n",
    "    try:\n",
    "        x_train,x_test,y_train,y_test, scalerX, scalerY = prepare_data(stock , seq_length, scalerX, scalerY)\n",
    "        #x_train,x_test,y_train,y_test, scalerX, scalerY = prepare_data(stock_list[j] , seq_length, scalerX, scalerY)\n",
    "\n",
    "        hist = model.fit(\n",
    "                x_train,\n",
    "                y_train,\n",
    "                batch_size = 128,\n",
    "                nb_epoch=epochs,\n",
    "                validation_data=(x_test, y_test))\n",
    "    except:\n",
    "        print(\"not found\")\n"
   ]
  },
  {
   "cell_type": "code",
   "execution_count": null,
   "metadata": {},
   "outputs": [],
   "source": [
    "predict_future_(5,seq_length,'AACG', scalerX, scalerY)"
   ]
  },
  {
   "cell_type": "code",
   "execution_count": null,
   "metadata": {},
   "outputs": [],
   "source": []
  },
  {
   "cell_type": "code",
   "execution_count": null,
   "metadata": {
    "scrolled": true
   },
   "outputs": [],
   "source": [
    "x_train, x_test, y_train,y_test, scalerX,scalerY= prepare_data('AACG',seq_length, scalerX, scalerY )\n",
    "predicted = predict_point_by_point(model, x_test)\n",
    "mse(y_test,predicted)\n",
    "#y_test = scalerY.inverse_transform(y_test)\n",
    "#predicted = scalerY.inverse_transform(predicted)\n",
    "plt.plot(y_test, label = \"test\")\n",
    "plt.plot(predicted, label = \"predicted\")\n",
    "plt.legend()\n",
    "plt.show()\n",
    "correct , incorrect= accuracy(y_test, predicted)\n",
    "print(\"number correct:\", correct)\n",
    "print(\"number incorrect\", incorrect)\n",
    "print(\"percetage correct:\", float(correct/(correct+incorrect)))\n",
    "y_train"
   ]
  },
  {
   "cell_type": "code",
   "execution_count": null,
   "metadata": {},
   "outputs": [],
   "source": [
    "stock_list1 = ['AMZN', 'MSFT', 'GOOGL', 'CTSH', 'VIVO', 'IBM', 'CSCO', 'NVDA','AMD', 'NKTR', 'WMT']"
   ]
  },
  {
   "cell_type": "code",
   "execution_count": null,
   "metadata": {},
   "outputs": [],
   "source": []
  },
  {
   "cell_type": "code",
   "execution_count": null,
   "metadata": {},
   "outputs": [],
   "source": [
    "model = load_model('bestlog.h5')"
   ]
  },
  {
   "cell_type": "code",
   "execution_count": null,
   "metadata": {},
   "outputs": [],
   "source": [
    "model.save('bestlog.h5')"
   ]
  },
  {
   "cell_type": "code",
   "execution_count": null,
   "metadata": {},
   "outputs": [],
   "source": [
    "best = 0.0000001\n",
    "average = 0\n",
    "length = 0\n",
    "cor=0\n",
    "inc = 0"
   ]
  },
  {
   "cell_type": "code",
   "execution_count": null,
   "metadata": {
    "scrolled": true
   },
   "outputs": [],
   "source": [
    "stock_list1 = set_stock_list()\n",
    "for stock in stock_list1:\n",
    "    try:\n",
    "        print(stock)\n",
    "        x_train, x_test, y_train,y_test, scalerX,scalerY= prepare_data(stock,seq_length, scalerX, scalerY )\n",
    "        y_new = scalerY.inverse_transform(y_test.reshape(-1,1))\n",
    "        predicted = predict_point_by_point(model, x_test)\n",
    "        pred = scalerY.inverse_transform(predicted.reshape(-1,1))\n",
    "        y_new=y_new.reshape(y_new.shape[0])\n",
    "        pred = pred.reshape(pred.shape[0])\n",
    "        mse(y_test,predicted)\n",
    "        #y_test = scalerY.inverse_transform(y_test)\n",
    "        #predicted = scalerY.inverse_transform(predicted)\n",
    "        #plt.plot(y_new[850:], label = \"test\")\n",
    "        #plt.plot(pred[850:], label = \"predicted\")\n",
    "        #plt.title(stock)\n",
    "        #plt.legend()\n",
    "        #plt.show()\n",
    "        correct , incorrect= accuracy(y_test, predicted)\n",
    "        cor = cor+correct\n",
    "        inc = inc+incorrect\n",
    "    \n",
    "        if float(correct/(correct+incorrect)) > best:\n",
    "            best = float(correct/(correct+incorrect))\n",
    "            best_stock = stock\n",
    "            \n",
    "    except:\n",
    "        print(\"not found\")\n",
    "print(\"best stock:\",best_stock)\n",
    "print(\"score: \",best)\n",
    "print(\"average: \", float(cor/(cor+inc)))\n",
    "\n",
    "    "
   ]
  },
  {
   "cell_type": "code",
   "execution_count": null,
   "metadata": {},
   "outputs": [],
   "source": [
    "x_train, x_test, y_train,y_test, scalerX,scalerY= prepare_data('NVDA',seq_length, scalerX, scalerY )\n",
    "#predicted = predict_point_by_point(model, x_test)\n"
   ]
  },
  {
   "cell_type": "code",
   "execution_count": null,
   "metadata": {},
   "outputs": [],
   "source": []
  },
  {
   "cell_type": "code",
   "execution_count": null,
   "metadata": {},
   "outputs": [],
   "source": [
    "x_train, x_test, y_train,y_test, scalerX,scalerY= prepare_data('NVDA',seq_length, scalerX, scalerY )\n",
    "predictions = predict_sequences_multiple(model, x_test, seq_length,20)\n",
    "plot_results_multiple(predictions, y_test, 20, 'TSLA') \n",
    "correct , incorrect = n_day_accuracy(20, y_test, predictions)\n",
    "print(\"number correct:\", correct)\n",
    "print(\"number incorrect\", incorrect)\n",
    "print(\"percetage correct:\", float(correct/(correct+incorrect)))"
   ]
  },
  {
   "cell_type": "code",
   "execution_count": null,
   "metadata": {},
   "outputs": [],
   "source": [
    "stock_list = ['AMZN', 'MSFT', 'GOOGL', 'CTSH', 'VIVO', 'IBM', 'CSCO', 'NVDA','AMD', 'NKTR', 'WMT','AAPL','ABT','ACN','ADBE','AGN','AIG','ALL','AMGN','AXP','BA','BAC','BIIB','BK','BKNG',\n",
    "                'BLK','BMY','BRK.B','C','CAT','CL','CMCSA','COF','COST','CVS','CVX','DD','DHR','DIS',\n",
    "                'DUK','EMR','EXC','F','FB','FDX','GD','GE','GILD','GM','GOOG','GS','HD','HON',\n",
    "                'INTC','JNJ','JPM','KHC','KMI','KO','LLY','LMT','LOW','MA','MCD','MDLZ','MDT','MET','MMM','MO','MRK',\n",
    "                'MS','NEE','NFLX','NKE','ORCL','OXY','PEP','PFE','PG','PM','PYPL','QCOM','RTN','SBUX','SLB',\n",
    "              'SO','SPG','T','TGT','TMO','TXN','UNH','UNP','UPS','USB','UTX','V','VZ','WBA','WFC','XOM']"
   ]
  },
  {
   "cell_type": "code",
   "execution_count": null,
   "metadata": {},
   "outputs": [],
   "source": [
    "stock_list2 = set_stock_list()\n",
    "scalerX = preprocessing.PowerTransformer()\n",
    "scalerY = preprocessing.PowerTransformer()"
   ]
  },
  {
   "cell_type": "code",
   "execution_count": null,
   "metadata": {
    "scrolled": true
   },
   "outputs": [],
   "source": [
    "epochs = 4\n",
    "stock_list = set_stock_list()\n",
    "for i in range(0,100):\n",
    "#for stock in stock_list:\n",
    "    j = rand.randrange(0, len(stock_list)-1)\n",
    "    print(stock_list[j])\n",
    "    #print(stock)\n",
    "    try:\n",
    "        x_train,x_test,y_train,y_test, reverse, row = set_data(stock_list[j] , seq_length)\n",
    "        #x_train,x_test,y_train,y_test, reverse, row = set_data(stock , seq_length)\n",
    "        hist = model.fit(\n",
    "                x_train,\n",
    "                y_train,\n",
    "                batch_size = 256,\n",
    "                nb_epoch=epochs,\n",
    "                validation_data=(x_test, y_test))\n",
    "    except:\n",
    "        print(\"not found\")\n",
    "\n"
   ]
  },
  {
   "cell_type": "code",
   "execution_count": null,
   "metadata": {},
   "outputs": [],
   "source": [
    "x_train, x_test, y_train,y_test, for_reverse, row = set_data('TCCO',seq_length)\n",
    "#x_train,x_test,y_train,y_test, scalerX, scalerY = scale( x_train,x_test,y_train,y_test, scalerX, scalerY)\n",
    "#x_train,x_test,y_train,y_test, scalerX, scalerY = prepare_data( stock_list[j], seq_length, scalerX, scalerY)"
   ]
  },
  {
   "cell_type": "code",
   "execution_count": null,
   "metadata": {},
   "outputs": [],
   "source": [
    "predicted = predict_point_by_point(model, x_test)\n",
    "true_graph = reverse_normalise(y_test, for_reverse,row)\n",
    "predicted_graph = reverse_normalise(predicted, for_reverse, row)\n",
    "mse(y_test,predicted)\n"
   ]
  },
  {
   "cell_type": "code",
   "execution_count": null,
   "metadata": {},
   "outputs": [],
   "source": [
    "plt.plot(true_graph[200:], label = \"test\")\n",
    "plt.plot(predicted_graph[200:], label = \"predicted\")\n",
    "plt.legend()\n",
    "plt.show()"
   ]
  },
  {
   "cell_type": "code",
   "execution_count": null,
   "metadata": {},
   "outputs": [],
   "source": [
    "plt.plot(y_test[200:], label = \"test\")\n",
    "plt.plot(predicted[200:], label = \"predicted\")\n",
    "plt.legend()\n",
    "plt.show()"
   ]
  },
  {
   "cell_type": "code",
   "execution_count": null,
   "metadata": {},
   "outputs": [],
   "source": [
    "correct , incorrect= accuracy(y_test, predicted)\n",
    "print(\"number correct:\", correct)\n",
    "print(\"number incorrect\", incorrect)\n",
    "print(\"percetage correct:\", float(correct/(correct+incorrect)))"
   ]
  },
  {
   "cell_type": "code",
   "execution_count": null,
   "metadata": {},
   "outputs": [],
   "source": [
    "predictions = predict_sequences_multiple(model, x_test, seq_length,10)\n",
    "plot_results_multiple(predictions, y_test, 10, 'TCCO') "
   ]
  },
  {
   "cell_type": "code",
   "execution_count": null,
   "metadata": {},
   "outputs": [],
   "source": [
    "correct , incorrect = n_day_accuracy(10, y_test, predictions)\n",
    "print(\"number correct:\", correct)\n",
    "print(\"number incorrect\", incorrect)\n",
    "print(\"percetage correct:\", float(correct/(correct+incorrect)))"
   ]
  },
  {
   "cell_type": "code",
   "execution_count": null,
   "metadata": {},
   "outputs": [],
   "source": [
    "stock_list1 = ['AMZN', 'MSFT', 'GOOGL', 'CTSH', 'VIVO', 'IBM', 'CSCO', 'NVDA','AMD', 'NKTR', 'WMT','AAPL','ABT','ACN','ADBE','AGN','AIG','ALL','AMGN','AXP','BA','BAC','BIIB','BK','BKNG',\n",
    "                'BLK','BMY','BRK.B','C','CAT','CL','CMCSA','COF','COST','CVS','CVX','DD','DHR','DIS',\n",
    "                'DUK','EMR','EXC','F','FB','FDX','GD','GE','GILD','GM','GOOG','GS','HD','HON',\n",
    "                'INTC','JNJ','JPM','KHC','KMI','KO','LLY','LMT','LOW','MA','MCD','MDLZ','MDT','MET','MMM','MO','MRK',\n",
    "                'MS','NEE','NFLX','NKE','ORCL','OXY','PEP','PFE','PG','PM','PYPL','QCOM','RTN','SBUX','SLB',\n",
    "              'SO','SPG','T','TGT','TMO','TXN','UNH','UNP','UPS','USB','UTX','V','VZ','WBA','WFC','XOM']"
   ]
  },
  {
   "cell_type": "code",
   "execution_count": null,
   "metadata": {},
   "outputs": [],
   "source": [
    "best = 0.0000001\n",
    "average = 0\n",
    "length = 0\n",
    "cor=0\n",
    "inc = 0"
   ]
  },
  {
   "cell_type": "code",
   "execution_count": null,
   "metadata": {
    "scrolled": true
   },
   "outputs": [],
   "source": [
    "#10 works best\n",
    "stock_list1 = set_stock_list()\n",
    "for stock in stock_list1:\n",
    "    try:\n",
    "        x_train,x_test,y_train,y_test, for_reverse, row = set_data(stock , seq_length)\n",
    "        #x_train,x_test,y_train,y_test, scalerX, scalerY = scale( x_train,x_test,y_train,y_test, scalerX, scalerY)\n",
    "        predicted = predict_point_by_point(model, x_test)        \n",
    "        correct , incorrect = accuracy(y_test, predicted)\n",
    "        new = []\n",
    "        new = x_test[-1][1:]\n",
    "        new = np.append(new, y_test[-1])\n",
    "        new = new.reshape(1,-1,1)\n",
    "        newPredicted = model.predict(new)\n",
    "        predicted = np.append(predicted,newPredicted)\n",
    "        shown_val = round(len(y_test) *.5)  \n",
    "        stock_acc = round(float(correct/(correct+incorrect))*100) \n",
    "        #plt.figure(figsize = (10,5))\n",
    "        #plt.plot(y_test[shown_val:], label = 'true')\n",
    "        #plt.plot(predicted[shown_val:], label = 'predicted')\n",
    "        #plt.axvline(len(y_test[shown_val:])-1, 0, 1, linestyle = '-.' , color ='black', label = 'april 9')\n",
    "        #plt.xlabel('days')\n",
    "        #plt.ylabel('normalized values')\n",
    "        #plt.title(stock + \" Normalized Stock Price\\n Day to Day Accuracy: \" + str(stock_acc)+ \"%\")\n",
    "        #plt.legend()\n",
    "        #plt.savefig(\"../1dayPredictions/\" + stock +\".png\")\n",
    "        #plt.show()\n",
    "        #plt.clf()\n",
    "        #correct , incorrect= accuracy(y_test, predicted)\n",
    "        cor = cor+correct\n",
    "        inc = inc+incorrect\n",
    "    \n",
    "        if float(correct/(correct+incorrect)) > best:\n",
    "            best = float(correct/(correct+incorrect))\n",
    "            best_stock = stock\n",
    "            \n",
    "    except:\n",
    "        print(\"not found\")\n",
    "print(\"best stock:\",best_stock)\n",
    "print(\"score: \",best)\n",
    "print(\"average: \", float(correct/(correct+incorrect)))"
   ]
  },
  {
   "cell_type": "code",
   "execution_count": null,
   "metadata": {},
   "outputs": [],
   "source": []
  },
  {
   "cell_type": "code",
   "execution_count": null,
   "metadata": {},
   "outputs": [],
   "source": [
    "stock_list1 = ['AMZN', 'MSFT', 'GOOGL', 'CTSH',\n",
    "               'VIVO', 'IBM', 'CSCO', 'NVDA','AMD', 'NKTR', 'WMT']"
   ]
  },
  {
   "cell_type": "code",
   "execution_count": null,
   "metadata": {},
   "outputs": [],
   "source": [
    "days = 10"
   ]
  },
  {
   "cell_type": "code",
   "execution_count": null,
   "metadata": {
    "scrolled": false
   },
   "outputs": [],
   "source": [
    "for stock in stock_list1:\n",
    "    try:\n",
    "        x_train,x_test,y_train,y_test, result, row = set_data(stock , seq_length)\n",
    "        #x_train,x_test,y_train,y_test, scalerX, scalerY = scale( x_train,x_test,y_train,y_test, scalerX, scalerY)\n",
    "        predictions = predict_sequences_multiple(model, x_test, seq_length,days)\n",
    "        plot_results_multiple(predictions, y_test,days, stock) \n",
    "        correct , incorrect= n_day_accuracy(days, y_test, predictions)\n",
    "        print(stock)\n",
    "        print(\"number correct:\", correct)\n",
    "        print(\"number incorrect\", incorrect)\n",
    "        print(\"percetage correct:\", float(correct/(correct+incorrect)))\n",
    "    except:\n",
    "        print(\"not found\")"
   ]
  },
  {
   "cell_type": "code",
   "execution_count": null,
   "metadata": {},
   "outputs": [],
   "source": []
  },
  {
   "cell_type": "code",
   "execution_count": null,
   "metadata": {},
   "outputs": [],
   "source": [
    "model.save('goodlog.h5')"
   ]
  },
  {
   "cell_type": "code",
   "execution_count": null,
   "metadata": {},
   "outputs": [],
   "source": [
    "model = load_model('bestlog.h5')\n"
   ]
  },
  {
   "cell_type": "code",
   "execution_count": null,
   "metadata": {},
   "outputs": [],
   "source": [
    "x_train, x_test, y_train,y_test, scalerX,scalerY= prepare_data('NVDA',seq_length, scalerX, scalerY )\n",
    "predicted = predict_point_by_point(model, x_test)\n",
    "\n",
    "for i in range(0,5):\n",
    "    new= x_test[-1][1:-1]\n",
    "    new = np.append(new,y_test[-1])\n",
    "    new = np.append(new,new.mean())\n",
    "    x_test = np.vstack((x_test, new.reshape(1,11,1)))\n",
    "    pred = model.predict(x_test)\n",
    "    y_test =np.append(y_test,pred[-1])\n",
    "    \n",
    "plt.plot(y_test[350:])\n",
    "plt.plot(predicted[350:])"
   ]
  },
  {
   "cell_type": "code",
   "execution_count": null,
   "metadata": {},
   "outputs": [],
   "source": [
    "def predict_future_(days, seq_length, stock, scalerX, scalerY, model):\n",
    "    x_train, x_test, y_train,y_test, scalerX,scalerY= prepare_data(stock,seq_length, scalerX, scalerY )\n",
    "    predicted = predict_point_by_point(model, x_test)\n",
    "    correct, incorrect = accuracy(y_test,predicted)\n",
    "    stock_acc = round(float(correct/(correct+incorrect)*100))\n",
    "    spot = round(len(y_test) *.5)\n",
    "    for i in range(0,days):\n",
    "        new= x_test[-1][1:-1]\n",
    "        new = np.append(new,y_test[-1])\n",
    "        new = np.append(new,new.mean())\n",
    "        x_test = np.vstack((x_test, new.reshape(1,seq_length+1,1)))\n",
    "        pred = model.predict(x_test)\n",
    "        y_test =np.append(y_test,pred[-1])\n",
    "    plt.figure(figsize = (10,6))\n",
    "    plt.plot(scalerY.inverse_transform(predicted[len(predicted)-spot+days:]), color = 'r', label = 'predicted')\n",
    "    plt.plot(scalerY.inverse_transform(y_test[len(y_test)-spot:]), color = 'g', label = 'true')\n",
    "    plt.axvline(spot-days-1, 0, 1, linestyle = '-.' , color ='black', label = 'april 27')\n",
    "    plt.legend()\n",
    "    plt.title(stock + \" Stock Price\\n5 Day Prediction\\nDay to Day accuracy: \"+str(stock_acc)+\"%\")\n",
    "    plt.savefig(\"../mod2/\" + stock +\".png\")"
   ]
  },
  {
   "cell_type": "code",
   "execution_count": null,
   "metadata": {},
   "outputs": [],
   "source": [
    "stock_list = set_stock_list()\n",
    "days = 5\n",
    "for stock in stock_list:\n",
    "    try:\n",
    "        predict_future_(days, seq_length, stock, scalerX, scalerY, model)\n",
    "    except:\n",
    "        print(\"not found\")"
   ]
  },
  {
   "cell_type": "code",
   "execution_count": null,
   "metadata": {},
   "outputs": [],
   "source": [
    "def predict_future(days, model , x_test, y_test, seq_len, stock):\n",
    "    #x_train, x_test, y_train,y_test, scalerX,scalerY= prepare_data(stock,seq_length, scalerX, scalerY )\n",
    "    predicted = predict_point_by_point(model, x_test)\n",
    "    correct, incorrect = accuracy(y_test,predicted)\n",
    "    stock_acc = round(float(correct/(correct+incorrect)*100))\n",
    "    predictions = predict_sequences_multiple(model, x_test, seq_length,days)\n",
    "    correct , incorrect= n_day_accuracy(days, y_test, predictions)\n",
    "    stock_acc_days = round(float(correct/(correct+incorrect)*100))\n",
    "    spot = round(len(y_test) *.5)\n",
    "    for i in range(0,days):\n",
    "        new= x_test[-1][1:]\n",
    "        new = np.append(new,y_test[-1])\n",
    "        #new = np.append(new,new.mean())\n",
    "        x_test = np.vstack((x_test, new.reshape(1,seq_length,1)))\n",
    "        pred = model.predict(x_test)\n",
    "        y_test =np.append(y_test,pred[-1])\n",
    "    plt.figure(figsize = (10,6))\n",
    "    plt.plot(scalerY.inverse_transform(predicted[len(predicted)-spot+days:]), color = 'r', label = 'predicted')\n",
    "    plt.plot(scalerY.inverse_transform(y_test[len(y_test)-spot:]), color = 'g', label = 'true')\n",
    "    plt.axvline(spot-days-1, 0, 1, linestyle = '-.' , color ='black', label = 'april 27')\n",
    "    plt.legend()\n",
    "    plt.title(stock + \" Normalized Stock Price 10 Day Prediction\\n Day to Day accuracy: \"+str(stock_acc)+\"%\\n\"+ str(days)+\" day accuracy: \"+str(stock_acc_days)+\"%\")\n",
    "    plt.savefig(\"../mod1/\" + stock +\".png\")"
   ]
  },
  {
   "cell_type": "code",
   "execution_count": null,
   "metadata": {},
   "outputs": [],
   "source": [
    "days = 10\n",
    "seq_length = 10"
   ]
  },
  {
   "cell_type": "code",
   "execution_count": null,
   "metadata": {},
   "outputs": [],
   "source": [
    "x_train, x_test, y_train,y_test, for_reverse, row = set_data('NVDA',seq_length)\n",
    "#x_train,x_test,y_train,y_test, scalerX, scalerY = scale( x_train,x_test,y_train,y_test, scalerX, scalerY)\n",
    "predictions = predict_sequences_multiple(model, x_test, seq_length,days)\n",
    "correct , incorrect= n_day_accuracy(days, y_test, predictions)\n",
    "stock_acc = round(float(correct/(correct+incorrect)*100))\n",
    "predict_future(days, model, x_test, y_test, seq_length, 'NVDA')"
   ]
  },
  {
   "cell_type": "code",
   "execution_count": null,
   "metadata": {},
   "outputs": [],
   "source": []
  },
  {
   "cell_type": "code",
   "execution_count": null,
   "metadata": {},
   "outputs": [],
   "source": [
    "spot = round(len(predicted) * .5)\n",
    "plt.figure(figsize = (10,5))\n",
    "plt.plot(predicted[len(predicted)-spot:], color = 'red', label = 'predicted')\n",
    "plt.plot(y_test[len(y_test)-spot+days:], color = 'g', label = 'true')\n",
    "plt.xlabel('days')\n",
    "plt.ylabel('normalized values')\n",
    "plt.title(\" NVDA Normalized Stock Price\\n 30 Day Prediction Accuracy: \" + str(stock_acc)+ \"%\\n 7 day prediction\")\n",
    "plt.axvline(spot-days-1, 0, 1, linestyle = '-.' , color ='black', label = 'april 9')\n",
    "plt.legend()\n",
    "plt.show()"
   ]
  },
  {
   "cell_type": "code",
   "execution_count": null,
   "metadata": {},
   "outputs": [],
   "source": [
    "stock_list2 = set_stock_list()"
   ]
  },
  {
   "cell_type": "code",
   "execution_count": null,
   "metadata": {},
   "outputs": [],
   "source": [
    "stock_list = ['AACG']\n"
   ]
  },
  {
   "cell_type": "code",
   "execution_count": null,
   "metadata": {
    "scrolled": true
   },
   "outputs": [],
   "source": [
    "for stock in stock_list2:\n",
    "    try:\n",
    "        x_train, x_test, y_train,y_test, for_reverse, row = set_data(stock,seq_length)\n",
    "        predict_future(days, model, x_test, y_test, seq_length, stock)\n",
    "    except:\n",
    "        print(\"not found\")"
   ]
  },
  {
   "cell_type": "code",
   "execution_count": null,
   "metadata": {},
   "outputs": [],
   "source": []
  }
 ],
 "metadata": {
  "kernelspec": {
   "display_name": "Python 3",
   "language": "python",
   "name": "python3"
  },
  "language_info": {
   "codemirror_mode": {
    "name": "ipython",
    "version": 3
   },
   "file_extension": ".py",
   "mimetype": "text/x-python",
   "name": "python",
   "nbconvert_exporter": "python",
   "pygments_lexer": "ipython3",
   "version": "3.7.4"
  }
 },
 "nbformat": 4,
 "nbformat_minor": 2
}
