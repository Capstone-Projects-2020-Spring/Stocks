{
 "cells": [
  {
   "cell_type": "code",
   "execution_count": 1,
   "metadata": {},
   "outputs": [
    {
     "name": "stderr",
     "output_type": "stream",
     "text": [
      "Using TensorFlow backend.\n"
     ]
    }
   ],
   "source": [
    "import numpy as np\n",
    "import matplotlib.pyplot as plt\n",
    "from matplotlib.colors import ListedColormap\n",
    "import matplotlib.cm as cm #allows us easy access to colormaps\n",
    "import matplotlib.pyplot as plt #sets up plotting under plt\n",
    "import pandas as pd #lets us handle data as dataframes\n",
    "from keras.layers.core import Dense, Activation, Dropout\n",
    "from keras.layers.recurrent import LSTM\n",
    "from keras.models import Sequential\n",
    "from numpy import newaxis\n",
    "\n",
    "import warnings\n",
    "warnings.filterwarnings(\"ignore\") #Hide messy Numpy warnings\n",
    "from sklearn.metrics import mean_squared_error as mse"
   ]
  },
  {
   "cell_type": "code",
   "execution_count": 2,
   "metadata": {},
   "outputs": [],
   "source": [
    "def normalise_windows(window_data):\n",
    "    normalised_data = []\n",
    "    normalised_window_0 = []\n",
    "    for window in window_data:\n",
    "        normalised_window = [((float(p) / float(window[0])) - 1) for p in window]\n",
    "        normalised_data.append(normalised_window)\n",
    "        normalised_window_0.append(window[0])\n",
    "    return (normalised_data,normalised_window_0)\n",
    "#divides each value "
   ]
  },
  {
   "cell_type": "code",
   "execution_count": 3,
   "metadata": {},
   "outputs": [],
   "source": [
    "def reverse_normalise(y, reverse, start_val):\n",
    "    normalised_data = []\n",
    "    i = start_val\n",
    "    for valuey in y:\n",
    "        value = ((float(valuey)+1) * float(reverse[i])) \n",
    "        normalised_data.append(value)\n",
    "        i = i+1\n",
    "    return normalised_data"
   ]
  },
  {
   "cell_type": "code",
   "execution_count": 50,
   "metadata": {},
   "outputs": [],
   "source": [
    "def set_data(stock, seq_len):\n",
    "        raw_seq = pd.read_csv(\"../Stock_CSV/\"+ stock +'.csv')['4. close']\n",
    "        sequence_length = seq_len + 1\n",
    "        seq = [ele for ele in reversed(raw_seq)] \n",
    "        seq = np.array(seq)\n",
    "        result = []\n",
    "        for index in range(len(seq) - sequence_length ):\n",
    "            result.append(seq[index: index + sequence_length])\n",
    "        \n",
    "        result, result_reverse = normalise_windows(result)\n",
    "        \n",
    "        result = np.array(result)\n",
    "\n",
    "        row = round(0.95 * len(result))\n",
    "        train = result[:int(row), :]\n",
    "        #np.random.shuffle(train)\n",
    "        x_train = train[:, :-1]\n",
    "        y_train = train[:, -1]\n",
    "        x_test = result[int(row):, :-1]\n",
    "        y_test = result[int(row):, -1]\n",
    "\n",
    "        x_train = np.reshape(x_train, (x_train.shape[0], x_train.shape[1], 1))\n",
    "        x_test = np.reshape(x_test, (x_test.shape[0], x_test.shape[1], 1))  \n",
    "\n",
    "        result.shape\n",
    "        return (x_train, x_test, y_train, y_test, result_reverse, row)\n",
    "    #except:\n",
    "        #print(\"file\" + stock + \".csv not found\")\n"
   ]
  },
  {
   "cell_type": "code",
   "execution_count": 5,
   "metadata": {},
   "outputs": [],
   "source": [
    "def set_data1(stock, seq_len):\n",
    "        raw_seq = pd.read_csv(\"../Stock_CSV/\"+ stock +'.csv')['4. close']\n",
    "        sequence_length = seq_len + 1\n",
    "        seq = [ele for ele in reversed(raw_seq)] \n",
    "        seq = np.array(seq)\n",
    "        result = []\n",
    "        for index in range(len(seq) - sequence_length ):\n",
    "            result.append(seq[index: index + sequence_length])\n",
    "        \n",
    "        result, result_reverse = normalise_windows(result)\n",
    "        \n",
    "        result = np.array(result)\n",
    "\n",
    "        row = round(0.4 * len(result))\n",
    "        train = result[:int(row), :]\n",
    "        #np.random.shuffle(train)\n",
    "        x_train = train[:, :-1]\n",
    "        y_train = train[:, -1]\n",
    "        x_test = result[int(row):, :-1]\n",
    "        y_test = result[int(row):, -1]\n",
    "\n",
    "        x_train = np.reshape(x_train, (x_train.shape[0], x_train.shape[1], 1))\n",
    "        x_test = np.reshape(x_test, (x_test.shape[0], x_test.shape[1], 1))  \n",
    "\n",
    "        result.shape\n",
    "        return (x_train, x_test, y_train, y_test, result_reverse, row)\n",
    "    #except:\n",
    "        #print(\"file\" + stock + \".csv not found\")\n"
   ]
  },
  {
   "cell_type": "code",
   "execution_count": 6,
   "metadata": {},
   "outputs": [],
   "source": [
    "def set_stock_list():\n",
    "    arr = []\n",
    "    with open(\"../NASDAQ.txt\", \"r\") as filestream:\n",
    "        for line in filestream:\n",
    "            currentline = line.split(',')\n",
    "            arr.append(currentline)\n",
    "    newarr = np.array(arr[0])\n",
    "    return newarr"
   ]
  },
  {
   "cell_type": "code",
   "execution_count": 7,
   "metadata": {},
   "outputs": [],
   "source": [
    "def predict_point_by_point(model, data):\n",
    "    #Predict each timestep given the last sequence of true data, in effect only predicting 1 step ahead each time\n",
    "    predicted = model.predict(data)\n",
    "    predicted = np.reshape(predicted, (predicted.size,))\n",
    "    return predicted"
   ]
  },
  {
   "cell_type": "code",
   "execution_count": 8,
   "metadata": {},
   "outputs": [],
   "source": [
    "def predict_sequence_full(model, data, window_size):\n",
    "    #Shift the window by 1 new prediction each time, re-run predictions on new window\n",
    "    curr_frame = data[0]\n",
    "    predicted = []\n",
    "    for i in range(len(data)):\n",
    "        predicted.append(model.predict(curr_frame[newaxis,:,:])[0,0])\n",
    "        curr_frame = curr_frame[1:]\n",
    "        curr_frame = np.insert(curr_frame, [window_size-1], predicted[-1], axis=0)\n",
    "    return predicted\n"
   ]
  },
  {
   "cell_type": "code",
   "execution_count": 9,
   "metadata": {},
   "outputs": [],
   "source": [
    "def predict_sequences_multiple(model, data, window_size, prediction_len):\n",
    "    #Predict sequence of 50 steps before shifting prediction run forward by 50 steps\n",
    "    prediction_seqs = []\n",
    "    for i in range(int(len(data)/prediction_len)):\n",
    "        curr_frame = data[i*prediction_len]\n",
    "        predicted = []\n",
    "        for j in range(prediction_len):\n",
    "            predicted.append(model.predict(curr_frame[newaxis,:,:])[0,0])\n",
    "            curr_frame = curr_frame[1:]\n",
    "            curr_frame = np.insert(curr_frame, [window_size-1], predicted[-1], axis=0)\n",
    "        prediction_seqs.append(predicted)\n",
    "    return prediction_seqs\n"
   ]
  },
  {
   "cell_type": "code",
   "execution_count": 10,
   "metadata": {},
   "outputs": [],
   "source": [
    "def plot_results_multiple(predicted_data, true_data, prediction_len, stock):\n",
    "    fig = plt.figure(facecolor='white',figsize = (14,4))\n",
    "    ax = fig.add_subplot(111)\n",
    "    ax.plot(true_data, label='True Data')\n",
    "    #Pad the list of predictions to shift it in the graph to it's correct start\n",
    "    for i, data in enumerate(predicted_data):\n",
    "        padding = [None for p in range(i * prediction_len)]\n",
    "        plt.plot(padding + data)\n",
    "        plt.title(stock + \" Closing Stock Price\")\n",
    "        plt.legend()\n",
    "    plt.show()"
   ]
  },
  {
   "cell_type": "code",
   "execution_count": 11,
   "metadata": {},
   "outputs": [],
   "source": [
    "from keras.models import load_model\n",
    "#model.save('stock_NN.h5')"
   ]
  },
  {
   "cell_type": "code",
   "execution_count": 12,
   "metadata": {},
   "outputs": [],
   "source": [
    "def accuracy(y_true, y_pred):\n",
    "    prev_true = y_true[0]\n",
    "    prev_pred = y_pred[0]\n",
    "    correct = 0\n",
    "    incorrect = 0\n",
    "    for i in range(1,len(y_pred)):\n",
    "        if prev_true < y_true[i] and prev_true < y_pred[i]:\n",
    "            correct = correct+1\n",
    "        elif prev_true > y_true[i] and prev_true > y_pred[i]:\n",
    "            correct = correct+1\n",
    "        else:\n",
    "            incorrect = incorrect+1\n",
    "        prev_true = y_true[i]\n",
    "        prev_pred = y_pred[i]        \n",
    "    return (correct, incorrect)"
   ]
  },
  {
   "cell_type": "code",
   "execution_count": 13,
   "metadata": {},
   "outputs": [],
   "source": [
    "def n_day_accuracy(days, y_true, pred):\n",
    "    y_pred = []\n",
    "    for nums in pred:\n",
    "        y_pred.append(nums[-1])\n",
    "    prev_true = y_true[0]\n",
    "    correct = 0\n",
    "    incorrect = 0\n",
    "    j = days-1\n",
    "    for i in range(0, len(y_pred)):\n",
    "        if prev_true < y_true[j] and prev_true < y_pred[i]:\n",
    "            correct = correct+1\n",
    "        elif prev_true > y_true[j] and prev_true > y_pred[i]:\n",
    "            correct = correct+1\n",
    "        else:\n",
    "            incorrect = incorrect+1\n",
    "        j = j+1\n",
    "        if j+1 > len(y_true)-1:\n",
    "            break\n",
    "        prev_true = y_true[j+1]\n",
    "        j = j + days\n",
    "        if j > len(y_true):\n",
    "            break\n",
    "    return (correct, incorrect)\n",
    "    "
   ]
  },
  {
   "cell_type": "code",
   "execution_count": 14,
   "metadata": {},
   "outputs": [],
   "source": [
    "def build_model(shape):\n",
    "    #act = keras.layers.advanced_activations.PReLU(init='zero', weights=None)\n",
    "    # The LSTM architecture\n",
    "    regressor = Sequential()\n",
    "    # First LSTM layer with Dropout regularisation\n",
    "    regressor.add(LSTM(units=50, return_sequences=True, input_shape=(shape,1)))\n",
    "    regressor.add(Dropout(0.4))\n",
    "    # Second LSTM layer\n",
    "    regressor.add(LSTM(units=50, return_sequences=True))\n",
    "    regressor.add(Dropout(0.4))\n",
    "    # Third LSTM layer\n",
    "    regressor.add(LSTM(units=50, return_sequences=True))\n",
    "    regressor.add(Dropout(0.5))\n",
    "    #model.add(Activation('sigmoid'))\n",
    "    # Fourth LSTM layer \n",
    "    regressor.add(LSTM(units=50))\n",
    "    regressor.add(Dropout(0.5))\n",
    "    # The output layer\n",
    "   \n",
    "    regressor.add(Dense(units=1))\n",
    "\n",
    "    # Compiling the RNN\n",
    "    regressor.compile(optimizer='adam', loss='mean_squared_error')\n",
    "    return regressor"
   ]
  },
  {
   "cell_type": "code",
   "execution_count": null,
   "metadata": {},
   "outputs": [],
   "source": []
  },
  {
   "cell_type": "code",
   "execution_count": 15,
   "metadata": {},
   "outputs": [],
   "source": [
    "seq_length = 200"
   ]
  },
  {
   "cell_type": "code",
   "execution_count": null,
   "metadata": {},
   "outputs": [],
   "source": [
    "model = build_model(seq_length)"
   ]
  },
  {
   "cell_type": "code",
   "execution_count": null,
   "metadata": {},
   "outputs": [],
   "source": [
    "model = load_model('stock_nn_1epochs_200best2.h5')"
   ]
  },
  {
   "cell_type": "code",
   "execution_count": null,
   "metadata": {},
   "outputs": [],
   "source": [
    "stock_list1 = ['AMZN', 'MSFT', 'GOOGL', 'CTSH', 'VIVO', 'IBM', 'CSCO', 'NVDA','AMD', 'NKTR', 'WMT']"
   ]
  },
  {
   "cell_type": "code",
   "execution_count": null,
   "metadata": {},
   "outputs": [],
   "source": [
    "stock_list = ['AMZN', 'MSFT', 'GOOGL', 'CTSH', 'VIVO', 'IBM', 'CSCO', 'NVDA','AMD', 'NKTR', 'WMT','AAPL','ABT','ACN','ADBE','AGN','AIG','ALL','AMGN','AXP','BA','BAC','BIIB','BK','BKNG',\n",
    "                'BLK','BMY','BRK.B','C','CAT','CL','CMCSA','COF','COST','CVS','CVX','DD','DHR','DIS',\n",
    "                'DUK','EMR','EXC','F','FB','FDX','GD','GE','GILD','GM','GOOG','GS','HD','HON',\n",
    "                'INTC','JNJ','JPM','KHC','KMI','KO','LLY','LMT','LOW','MA','MCD','MDLZ','MDT','MET','MMM','MO','MRK',\n",
    "                'MS','NEE','NFLX','NKE','ORCL','OXY','PEP','PFE','PG','PM','PYPL','QCOM','RTN','SBUX','SLB',\n",
    "              'SO','SPG','T','TGT','TMO','TXN','UNH','UNP','UPS','USB','UTX','V','VZ','WBA','WFC','XOM']"
   ]
  },
  {
   "cell_type": "code",
   "execution_count": null,
   "metadata": {},
   "outputs": [],
   "source": [
    "stock_list2 = set_stock_list()"
   ]
  },
  {
   "cell_type": "code",
   "execution_count": null,
   "metadata": {
    "scrolled": true
   },
   "outputs": [],
   "source": [
    "epochs = 1\n",
    "#stock_list = set_stock_list()\n",
    "for stock in stock_list:\n",
    "    print(stock)\n",
    "    try:\n",
    "        x_train,x_test,y_train,y_test, reverse, row = set_data(stock , seq_length)\n",
    "        hist = model.fit(\n",
    "                x_train,\n",
    "                y_train,\n",
    "                batch_size = 256,\n",
    "                nb_epoch=epochs,\n",
    "                validation_data=(x_test, y_test))\n",
    "    except:\n",
    "        print(\"not found\")\n",
    "\n"
   ]
  },
  {
   "cell_type": "code",
   "execution_count": null,
   "metadata": {},
   "outputs": [],
   "source": [
    "x_train, x_test, y_train,y_test, for_reverse, row = set_data('TCCO',seq_length)\n",
    "y_test_graph = reverse_normalise(y_test, for_reverse, row)"
   ]
  },
  {
   "cell_type": "code",
   "execution_count": null,
   "metadata": {},
   "outputs": [],
   "source": [
    "predicted = predict_point_by_point(model, x_test)\n",
    "predicted_graph = reverse_normalise(predicted, for_reverse, row)\n",
    "mse(y_test,predicted)"
   ]
  },
  {
   "cell_type": "code",
   "execution_count": null,
   "metadata": {},
   "outputs": [],
   "source": [
    "plt.plot(y_test[150:], label = \"test\")\n",
    "plt.plot(predicted[150:], label = \"predicted\")\n",
    "plt.legend()\n",
    "plt.show()"
   ]
  },
  {
   "cell_type": "code",
   "execution_count": null,
   "metadata": {},
   "outputs": [],
   "source": [
    "correct , incorrect= accuracy(y_test, predicted)\n",
    "print(\"number correct:\", correct)\n",
    "print(\"number incorrect\", incorrect)\n",
    "print(\"percetage correct:\", float(correct/(correct+incorrect)))"
   ]
  },
  {
   "cell_type": "code",
   "execution_count": null,
   "metadata": {},
   "outputs": [],
   "source": [
    "predictions = predict_sequences_multiple(model, x_test, seq_length,7)\n",
    "#plot_results_multiple(predictions, y_test, 10, 'TCCO') "
   ]
  },
  {
   "cell_type": "code",
   "execution_count": null,
   "metadata": {},
   "outputs": [],
   "source": [
    "correct , incorrect = n_day_accuracy(7, y_test, predictions)\n",
    "print(\"number correct:\", correct)\n",
    "print(\"number incorrect\", incorrect)\n",
    "print(\"percetage correct:\", float(correct/(correct+incorrect)))"
   ]
  },
  {
   "cell_type": "code",
   "execution_count": null,
   "metadata": {},
   "outputs": [],
   "source": []
  },
  {
   "cell_type": "code",
   "execution_count": null,
   "metadata": {},
   "outputs": [],
   "source": [
    "best = 0.0000001\n",
    "average = 0\n",
    "length = 0"
   ]
  },
  {
   "cell_type": "code",
   "execution_count": null,
   "metadata": {
    "scrolled": true
   },
   "outputs": [],
   "source": [
    "#10 works best\n",
    "for stock in stock_list2:\n",
    "    try:\n",
    "        x_train,x_test,y_train,y_test, for_reverse, row = set_data(stock , seq_length)\n",
    "        predicted = predict_point_by_point(model, x_test)        \n",
    "        correct , incorrect = accuracy(y_test, predicted)\n",
    "        new = []\n",
    "        new = x_test[-1][1:]\n",
    "        new = np.append(new, y_test[-1])\n",
    "        new = new.reshape(1,-1,1)\n",
    "        newPredicted = model.predict(new)\n",
    "        predicted = np.append(predicted,newPredicted)\n",
    "        shown_val = round(len(y_test) *.5)  \n",
    "        stock_acc = round(float(correct/(correct+incorrect))*100) \n",
    "        plt.figure(figsize = (10,5))\n",
    "        plt.plot(y_test[shown_val:], label = 'true')\n",
    "        plt.plot(predicted[shown_val:], label = 'predicted')\n",
    "        plt.axvline(len(y_test[shown_val:])-1, 0, 1, linestyle = '-.' , color ='black', label = 'april 9')\n",
    "        plt.xlabel('days')\n",
    "        plt.ylabel('normalized values')\n",
    "        plt.title(stock + \" Normalized Stock Price\\n Day to Day Accuracy: \" + str(stock_acc)+ \"%\")\n",
    "        plt.legend()\n",
    "        plt.savefig(\"../1dayPredictions/\" + stock +\".png\")\n",
    "        plt.clf()\n",
    "        average = average + float(correct/(correct+incorrect))\n",
    "        length = length + 1\n",
    "        if float(correct/(correct+incorrect)) > best:\n",
    "            best = float(correct/(correct+incorrect))\n",
    "            best_stock = stock\n",
    "            \n",
    "    except:\n",
    "        print(\"not found\")\n",
    "print(\"best stock:\",best_stock)\n",
    "print(\"score: \",best)\n",
    "print(\"average: \", float(average/length))"
   ]
  },
  {
   "cell_type": "code",
   "execution_count": null,
   "metadata": {},
   "outputs": [],
   "source": [
    "stock_list1 = ['AMZN', 'MSFT', 'GOOGL', 'CTSH', 'VIVO', 'IBM', 'CSCO', 'NVDA','AMD', 'NKTR', 'WMT']"
   ]
  },
  {
   "cell_type": "code",
   "execution_count": null,
   "metadata": {},
   "outputs": [],
   "source": []
  },
  {
   "cell_type": "code",
   "execution_count": null,
   "metadata": {
    "scrolled": true
   },
   "outputs": [],
   "source": [
    "for stock in stock_list1:\n",
    "    x_train,x_test,y_train,y_test, result, row = set_data(stock , seq_length)\n",
    "    predictions = predict_sequences_multiple(model, x_test, seq_length,15)\n",
    "    plot_results_multiple(predictions, y_test, 15, stock) \n",
    "    correct , incorrect= n_day_accuracy(15, y_test, predictions)\n",
    "    print(stock)\n",
    "    print(\"number correct:\", correct)\n",
    "    print(\"number incorrect\", incorrect)\n",
    "    print(\"percetage correct:\", float(correct/(correct+incorrect)))"
   ]
  },
  {
   "cell_type": "code",
   "execution_count": null,
   "metadata": {},
   "outputs": [],
   "source": []
  },
  {
   "cell_type": "code",
   "execution_count": 16,
   "metadata": {},
   "outputs": [
    {
     "ename": "NameError",
     "evalue": "name 'model' is not defined",
     "output_type": "error",
     "traceback": [
      "\u001b[1;31m---------------------------------------------------------------------------\u001b[0m",
      "\u001b[1;31mNameError\u001b[0m                                 Traceback (most recent call last)",
      "\u001b[1;32m<ipython-input-16-36b2e538ed14>\u001b[0m in \u001b[0;36m<module>\u001b[1;34m\u001b[0m\n\u001b[1;32m----> 1\u001b[1;33m \u001b[0mmodel\u001b[0m\u001b[1;33m.\u001b[0m\u001b[0msave\u001b[0m\u001b[1;33m(\u001b[0m\u001b[1;34m'stock_nn_'\u001b[0m\u001b[1;33m+\u001b[0m \u001b[0mstr\u001b[0m\u001b[1;33m(\u001b[0m\u001b[0mepochs\u001b[0m\u001b[1;33m)\u001b[0m\u001b[1;33m+\u001b[0m\u001b[1;34m'epochs_'\u001b[0m\u001b[1;33m+\u001b[0m\u001b[0mstr\u001b[0m\u001b[1;33m(\u001b[0m\u001b[0mseq_length\u001b[0m\u001b[1;33m)\u001b[0m\u001b[1;33m+\u001b[0m\u001b[1;34m'best4.h5'\u001b[0m\u001b[1;33m)\u001b[0m\u001b[1;33m\u001b[0m\u001b[1;33m\u001b[0m\u001b[0m\n\u001b[0m",
      "\u001b[1;31mNameError\u001b[0m: name 'model' is not defined"
     ]
    }
   ],
   "source": [
    "model.save('stock_nn_'+ str(epochs)+'epochs_'+str(seq_length)+'best4.h5')"
   ]
  },
  {
   "cell_type": "code",
   "execution_count": 37,
   "metadata": {},
   "outputs": [],
   "source": [
    "model = load_model('stock_nn_1epochs_200best.h5')\n"
   ]
  },
  {
   "cell_type": "code",
   "execution_count": 38,
   "metadata": {},
   "outputs": [],
   "source": [
    "def predict_future(days, model , x_test, y_test):\n",
    "        prev_predicted = predict_point_by_point(model, x_test)\n",
    "        new = x_test[-1][1:]\n",
    "        new = np.append(new, y_test[-1])\n",
    "        new = new.reshape(1,-1,1)\n",
    "        newPredicted = model.predict(new)\n",
    "        prev_predicted = np.append(prev_predicted,newPredicted)\n",
    "        for i in range(2,days+1):\n",
    "            new = x_test[-1][i:]\n",
    "            new = np.append(new, prev_predicted[len(prev_predicted)-i:])\n",
    "            new = new.reshape(1,-1,1)\n",
    "            newPredicted = model.predict(new)\n",
    "            prev_predicted = np.append(prev_predicted,newPredicted)\n",
    "        return (y_test, prev_predicted)"
   ]
  },
  {
   "cell_type": "code",
   "execution_count": 39,
   "metadata": {},
   "outputs": [],
   "source": [
    "days = 10"
   ]
  },
  {
   "cell_type": "code",
   "execution_count": 73,
   "metadata": {},
   "outputs": [],
   "source": [
    "x_train, x_test, y_train,y_test, for_reverse, row = set_data('NVDA',seq_length)"
   ]
  },
  {
   "cell_type": "code",
   "execution_count": 74,
   "metadata": {},
   "outputs": [
    {
     "data": {
      "text/plain": [
       "[<matplotlib.lines.Line2D at 0x2f0f30c9a88>]"
      ]
     },
     "execution_count": 74,
     "metadata": {},
     "output_type": "execute_result"
    },
    {
     "data": {
      "image/png": "[encoded data removed]",
      "text/plain": [
       "<Figure size 432x288 with 1 Axes>"
      ]
     },
     "metadata": {
      "needs_background": "light"
     },
     "output_type": "display_data"
    }
   ],
   "source": [
    "plt.plot(y_test)"
   ]
  },
  {
   "cell_type": "code",
   "execution_count": 48,
   "metadata": {},
   "outputs": [],
   "source": [
    "x_train, x_test, y_train,y_test, for_reverse, row = set_data('IBM',seq_length)\n",
    "predictions = predict_sequences_multiple(model, x_test, seq_length,10)\n",
    "correct , incorrect= n_day_accuracy(10, y_test, predictions)\n",
    "stock_acc = round(float(correct/(correct+incorrect)*100))\n",
    "y_test, predicted = predict_future(days, model, x_test, y_test)"
   ]
  },
  {
   "cell_type": "code",
   "execution_count": 49,
   "metadata": {},
   "outputs": [
    {
     "data": {
      "image/png": "[encoded data removed]",
      "text/plain": [
       "<Figure size 720x360 with 1 Axes>"
      ]
     },
     "metadata": {
      "needs_background": "light"
     },
     "output_type": "display_data"
    }
   ],
   "source": [
    "spot = round(len(predicted) * .5)\n",
    "plt.figure(figsize = (10,5))\n",
    "plt.plot(predicted[len(predicted)-spot:], color = 'red', label = 'predicted')\n",
    "plt.plot(y_test[len(y_test)-spot+days:], color = 'g', label = 'true')\n",
    "plt.xlabel('days')\n",
    "plt.ylabel('normalized values')\n",
    "plt.title(\" NVDA Normalized Stock Price\\n 7 Day Prediction Accuracy: \" + str(stock_acc)+ \"%\\n 7 day prediction\")\n",
    "plt.axvline(spot-days-1, 0, 1, linestyle = '-.' , color ='black', label = 'april 9')\n",
    "plt.legend()\n",
    "plt.show()"
   ]
  },
  {
   "cell_type": "code",
   "execution_count": null,
   "metadata": {},
   "outputs": [],
   "source": [
    "stock_list2 = set_stock_list()"
   ]
  },
  {
   "cell_type": "code",
   "execution_count": 45,
   "metadata": {},
   "outputs": [
    {
     "data": {
      "text/plain": [
       "[<matplotlib.lines.Line2D at 0x2f0e61c6c48>]"
      ]
     },
     "execution_count": 45,
     "metadata": {},
     "output_type": "execute_result"
    },
    {
     "data": {
      "image/png": "[encoded data removed]",
      "text/plain": [
       "<Figure size 432x288 with 1 Axes>"
      ]
     },
     "metadata": {
      "needs_background": "light"
     },
     "output_type": "display_data"
    }
   ],
   "source": [
    "\n"
   ]
  },
  {
   "cell_type": "code",
   "execution_count": null,
   "metadata": {
    "scrolled": true
   },
   "outputs": [],
   "source": [
    "for stock in stock_list2:\n",
    "    try:\n",
    "        if stock in stock_list:\n",
    "            x_train, x_test, y_train,y_test, for_reverse, row = set_data(stock,seq_length)\n",
    "            spot = round(len(y_test) * .5)\n",
    "        else:\n",
    "            x_train, x_test, y_train,y_test, for_reverse, row = set_data1(stock,seq_length)\n",
    "            if len(y_test) > 500 :\n",
    "                spot = 100\n",
    "                x_test = x_test[round(len(x_test)*.7):]\n",
    "            else:\n",
    "                spot = round(len(y_test) * .6)\n",
    "        #predictions = predict_sequences_multiple(model, x_test, seq_length,days)\n",
    "        #correct , incorrect= n_day_accuracy(days, y_test, predictions)\n",
    "        #stock_acc = round(float(correct/(correct+incorrect)*100))\n",
    "        y_test, predicted = predict_future(days, model, x_test, y_test)\n",
    "        plt.figure(figsize = (10,5))\n",
    "        plt.plot(predicted[len(predicted)-spot:], color = 'red', label = 'predicted')\n",
    "        plt.plot(y_test[len(y_test)-spot+days:], color = 'g', label = 'true')\n",
    "        plt.xlabel('Days')\n",
    "        plt.ylabel('Normalized Values')\n",
    "        plt.title(stock + \" Normalized Stock Price\\n 10 Day Prediction\")\n",
    "        plt.axvline(spot-days-1, 0, 1, linestyle = '-.' , color ='black', label = 'april 9')\n",
    "        plt.legend()\n",
    "        plt.savefig(\"../next_n_days/\" + stock +\".png\")\n",
    "    except:\n",
    "        print(\"not found\")"
   ]
  },
  {
   "cell_type": "code",
   "execution_count": null,
   "metadata": {},
   "outputs": [],
   "source": []
  }
 ],
 "metadata": {
  "kernelspec": {
   "display_name": "Python 3",
   "language": "python",
   "name": "python3"
  },
  "language_info": {
   "codemirror_mode": {
    "name": "ipython",
    "version": 3
   },
   "file_extension": ".py",
   "mimetype": "text/x-python",
   "name": "python",
   "nbconvert_exporter": "python",
   "pygments_lexer": "ipython3",
   "version": "3.7.4"
  }
 },
 "nbformat": 4,
 "nbformat_minor": 2
}
