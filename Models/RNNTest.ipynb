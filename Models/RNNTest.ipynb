{
 "cells": [
  {
   "cell_type": "code",
   "execution_count": 1,
   "metadata": {},
   "outputs": [
    {
     "name": "stderr",
     "output_type": "stream",
     "text": [
      "Using TensorFlow backend.\n"
     ]
    }
   ],
   "source": [
    "import numpy as np\n",
    "import matplotlib.pyplot as plt\n",
    "from matplotlib.colors import ListedColormap\n",
    "from sklearn import neighbors\n",
    "from sklearn.model_selection import train_test_split\n",
    "import matplotlib as mpl # this actually imports matplotlib\n",
    "import matplotlib.cm as cm #allows us easy access to colormaps\n",
    "import matplotlib.pyplot as plt #sets up plotting under plt\n",
    "import pandas as pd #lets us handle data as dataframes\n",
    "from keras.layers.core import Dense, Activation, Dropout\n",
    "import keras\n",
    "from keras.layers.recurrent import LSTM\n",
    "from keras.models import Sequential\n",
    "from sklearn.linear_model import LinearRegression\n",
    "import time\n",
    "from numpy import newaxis\n",
    "import warnings\n",
    "warnings.filterwarnings(\"ignore\") #Hide messy Numpy warnings\n",
    "import tensorflow as tf\n",
    "from sklearn import preprocessing\n",
    "from sklearn.metrics import mean_squared_error as mse"
   ]
  },
  {
   "cell_type": "code",
   "execution_count": 21,
   "metadata": {},
   "outputs": [],
   "source": [
    "def normalise_windows(window_data):\n",
    "    normalised_data = []\n",
    "    normalised_window_0 = []\n",
    "    for window in window_data:\n",
    "        normalised_window = [((float(p) / float(window[0])) - 1) for p in window]\n",
    "        normalised_data.append(normalised_window)\n",
    "        normalised_window_0.append(window[0])\n",
    "    return (normalised_data,normalised_window_0)\n",
    "#divides each value "
   ]
  },
  {
   "cell_type": "code",
   "execution_count": 3,
   "metadata": {},
   "outputs": [],
   "source": [
    "def reverse_normalise(y, reverse, start_val):\n",
    "    normalised_data = []\n",
    "    i = start_val\n",
    "    for valuey in y:\n",
    "        value = ((float(valuey)+1) * float(reverse[i])) \n",
    "        normalised_data.append(value)\n",
    "        i = i+1\n",
    "    return normalised_data"
   ]
  },
  {
   "cell_type": "code",
   "execution_count": 4,
   "metadata": {},
   "outputs": [],
   "source": [
    "def set_data(stock, seq_len):\n",
    "        raw_seq = pd.read_csv(\"../Stock_CSV/\"+ stock +'.csv')['4. close']\n",
    "        sequence_length = seq_len + 1\n",
    "        seq = [ele for ele in reversed(raw_seq)] \n",
    "        seq = np.array(seq)\n",
    "        result = []\n",
    "        for index in range(len(seq) - sequence_length ):\n",
    "            result.append(seq[index: index + sequence_length])\n",
    "        \n",
    "        result, result_reverse = normalise_windows(result)\n",
    "        \n",
    "        result = np.array(result)\n",
    "\n",
    "        row = round(0.95 * len(result))\n",
    "        train = result[:int(row), :]\n",
    "        x_train = train[:, :-1]\n",
    "        y_train = train[:, -1]\n",
    "        x_test = result[int(row):, :-1]\n",
    "        y_test = result[int(row):, -1]\n",
    "\n",
    "        x_train = np.reshape(x_train, (x_train.shape[0], x_train.shape[1], 1))\n",
    "        x_test = np.reshape(x_test, (x_test.shape[0], x_test.shape[1], 1))  \n",
    "\n",
    "        result.shape\n",
    "        return (x_train, x_test, y_train, y_test, result_reverse, row)\n",
    "    #except:\n",
    "        #print(\"file\" + stock + \".csv not found\")\n"
   ]
  },
  {
   "cell_type": "code",
   "execution_count": 5,
   "metadata": {},
   "outputs": [],
   "source": [
    "def get_test_data(ticker, seq_len):\n",
    "        raw_seq = pd.read_csv(\"../Stock_CSV/\"+ ticker +'.csv')['4. close']\n",
    "        sequence_length = seq_len + 1\n",
    "        seq = [ele for ele in reversed(raw_seq)] \n",
    "        seq = np.array(seq)\n",
    "        result = []\n",
    "        for index in range(len(seq) - sequence_length):\n",
    "            result.append(seq[index: index + sequence_length])\n",
    "    \n",
    "        result = normalise_windows(result)\n",
    "        result = np.array(result)\n",
    "\n",
    "        row = round(0.95 * len(result))\n",
    "        train = result[:int(row), :]\n",
    "        np.random.shuffle(train)\n",
    "        x_test = result[int(row):, :-1]\n",
    "        y_test = result[int(row):, -1]\n",
    "\n",
    "        x_test = np.reshape(x_test, (x_test.shape[0], x_test.shape[1], 1))  \n",
    "\n",
    "        return (x_test, y_test)\n",
    "\n",
    "\n",
    "    "
   ]
  },
  {
   "cell_type": "code",
   "execution_count": 6,
   "metadata": {},
   "outputs": [],
   "source": [
    "def set_stock_list():\n",
    "    arr = []\n",
    "    with open(\"../NASDAQ.txt\", \"r\") as filestream:\n",
    "        for line in filestream:\n",
    "            currentline = line.split(',')\n",
    "            arr.append(currentline)\n",
    "    newarr = np.array(arr[0])\n",
    "    return newarr"
   ]
  },
  {
   "cell_type": "code",
   "execution_count": 7,
   "metadata": {},
   "outputs": [],
   "source": [
    "def predict_point_by_point(model, data):\n",
    "    #Predict each timestep given the last sequence of true data, in effect only predicting 1 step ahead each time\n",
    "    predicted = model.predict(data)\n",
    "    predicted = np.reshape(predicted, (predicted.size,))\n",
    "    return predicted"
   ]
  },
  {
   "cell_type": "code",
   "execution_count": 8,
   "metadata": {},
   "outputs": [],
   "source": [
    "def predict_sequence_full(model, data, window_size):\n",
    "    #Shift the window by 1 new prediction each time, re-run predictions on new window\n",
    "    curr_frame = data[0]\n",
    "    predicted = []\n",
    "    for i in range(len(data)):\n",
    "        predicted.append(model.predict(curr_frame[newaxis,:,:])[0,0])\n",
    "        curr_frame = curr_frame[1:]\n",
    "        curr_frame = np.insert(curr_frame, [window_size-1], predicted[-1], axis=0)\n",
    "    return predicted\n"
   ]
  },
  {
   "cell_type": "code",
   "execution_count": 9,
   "metadata": {},
   "outputs": [],
   "source": [
    "def predict_sequences_multiple(model, data, window_size, prediction_len):\n",
    "    #Predict sequence of 50 steps before shifting prediction run forward by 50 steps\n",
    "    prediction_seqs = []\n",
    "    for i in range(int(len(data)/prediction_len)):\n",
    "        curr_frame = data[i*prediction_len]\n",
    "        predicted = []\n",
    "        for j in range(prediction_len):\n",
    "            predicted.append(model.predict(curr_frame[newaxis,:,:])[0,0])\n",
    "            curr_frame = curr_frame[1:]\n",
    "            curr_frame = np.insert(curr_frame, [window_size-1], predicted[-1], axis=0)\n",
    "        prediction_seqs.append(predicted)\n",
    "    return prediction_seqs\n"
   ]
  },
  {
   "cell_type": "code",
   "execution_count": 10,
   "metadata": {},
   "outputs": [],
   "source": [
    "def plot_results_multiple(predicted_data, true_data, prediction_len, stock):\n",
    "    fig = plt.figure(facecolor='white',figsize = (14,4))\n",
    "    ax = fig.add_subplot(111)\n",
    "    ax.plot(true_data, label='True Data')\n",
    "    #Pad the list of predictions to shift it in the graph to it's correct start\n",
    "    for i, data in enumerate(predicted_data):\n",
    "        padding = [None for p in range(i * prediction_len)]\n",
    "        plt.plot(padding + data)\n",
    "        plt.title(stock + \" Closing Stock Price\")\n",
    "        plt.legend()\n",
    "    plt.show()"
   ]
  },
  {
   "cell_type": "code",
   "execution_count": 11,
   "metadata": {},
   "outputs": [],
   "source": [
    "from keras.models import load_model\n",
    "#model.save('stock_NN.h5')"
   ]
  },
  {
   "cell_type": "code",
   "execution_count": 115,
   "metadata": {},
   "outputs": [],
   "source": [
    "def accuracy(y_true, y_pred):\n",
    "    prev_true = y_true[0]\n",
    "    prev_pred = y_pred[0]\n",
    "    correct = 0\n",
    "    incorrect = 0\n",
    "    for i in range(1,len(predicted)):\n",
    "        if prev_true < y_true[i] and prev_true < y_pred[i]:\n",
    "            correct = correct+1\n",
    "        elif prev_true > y_true[i] and prev_true > y_pred[i]:\n",
    "            correct = correct+1\n",
    "        else:\n",
    "            incorrect = incorrect+1\n",
    "        prev_true = y_true[i]\n",
    "        prev_pred = y_pred[i]        \n",
    "    return (correct, incorrect)"
   ]
  },
  {
   "cell_type": "code",
   "execution_count": 531,
   "metadata": {},
   "outputs": [],
   "source": [
    "def build_model(shape):\n",
    "    #act = keras.layers.advanced_activations.PReLU(init='zero', weights=None)\n",
    "    # The LSTM architecture\n",
    "    regressor = Sequential()\n",
    "    # First LSTM layer with Dropout regularisation\n",
    "    regressor.add(LSTM(units=50, return_sequences=True, input_shape=(shape,1)))\n",
    "    regressor.add(Dropout(0.4))\n",
    "    # Second LSTM layer\n",
    "    regressor.add(LSTM(units=50, return_sequences=True))\n",
    "    regressor.add(Dropout(0.4))\n",
    "    # Third LSTM layer\n",
    "    regressor.add(LSTM(units=50, return_sequences=True))\n",
    "    regressor.add(Dropout(0.5))\n",
    "    #model.add(Activation('sigmoid'))\n",
    "    # Fourth LSTM layer \n",
    "    regressor.add(LSTM(units=50))\n",
    "    regressor.add(Dropout(0.5))\n",
    "    # The output layer\n",
    "   \n",
    "    regressor.add(Dense(units=1))\n",
    "\n",
    "    # Compiling the RNN\n",
    "    regressor.compile(optimizer='adam', loss='mean_squared_error')\n",
    "    return regressor"
   ]
  },
  {
   "cell_type": "code",
   "execution_count": null,
   "metadata": {},
   "outputs": [],
   "source": []
  },
  {
   "cell_type": "code",
   "execution_count": 775,
   "metadata": {},
   "outputs": [],
   "source": [
    "seq_length = 300"
   ]
  },
  {
   "cell_type": "code",
   "execution_count": 776,
   "metadata": {},
   "outputs": [],
   "source": [
    "model = build_model(seq_length)"
   ]
  },
  {
   "cell_type": "code",
   "execution_count": 777,
   "metadata": {},
   "outputs": [],
   "source": [
    "stock_list = ['AMZN', 'MSFT', 'GOOGL', 'CTSH', 'VIVO', 'IBM', 'CSCO', 'NVDA','AMD', 'NKTR', 'WMT']"
   ]
  },
  {
   "cell_type": "code",
   "execution_count": 778,
   "metadata": {},
   "outputs": [],
   "source": [
    "stock_list = ['AMZN', 'MSFT', 'GOOGL', 'CTSH', 'VIVO', 'IBM', 'CSCO', 'NVDA','AMD', 'NKTR', 'WMT','AAPL','ABT','ACN','ADBE','AGN','AIG','ALL','AMGN','AXP','BA','BAC','BIIB','BK','BKNG',\n",
    "                'BLK','BMY','BRK.B','C','CAT','CL','CMCSA','COF','COST','CVS','CVX','DD','DHR','DIS',\n",
    "                'DUK','EMR','EXC','F','FB','FDX','GD','GE','GILD','GM','GOOG','GS','HD','HON',\n",
    "                'INTC','JNJ','JPM','KHC','KMI','KO','LLY','LMT','LOW','MA','MCD','MDLZ','MDT','MET','MMM','MO','MRK',\n",
    "                'MS','NEE','NFLX','NKE','ORCL','OXY','PEP','PFE','PG','PM','PYPL','QCOM','RTN','SBUX','SLB',\n",
    "              'SO','SPG','T','TGT','TMO','TXN','UNH','UNP','UPS','USB','UTX','V','VZ','WBA','WFC','XOM']"
   ]
  },
  {
   "cell_type": "code",
   "execution_count": null,
   "metadata": {
    "scrolled": true
   },
   "outputs": [
    {
     "name": "stdout",
     "output_type": "stream",
     "text": [
      "AMZN\n",
      "Train on 4494 samples, validate on 237 samples\n",
      "Epoch 1/2\n",
      "4494/4494 [==============================] - 12s 3ms/step - loss: 0.1996 - val_loss: 0.0042\n",
      "Epoch 2/2\n",
      "4494/4494 [==============================] - 10s 2ms/step - loss: 0.0579 - val_loss: 0.0054\n",
      "MSFT\n",
      "Train on 4494 samples, validate on 237 samples\n",
      "Epoch 1/2\n",
      "4494/4494 [==============================] - 10s 2ms/step - loss: 0.0072 - val_loss: 0.0095\n",
      "Epoch 2/2\n",
      "4494/4494 [==============================] - 10s 2ms/step - loss: 0.0061 - val_loss: 0.0089\n",
      "GOOGL\n",
      "Train on 3448 samples, validate on 182 samples\n",
      "Epoch 1/2\n",
      "3448/3448 [==============================] - 8s 2ms/step - loss: 0.0199 - val_loss: 0.0062\n",
      "Epoch 2/2\n",
      "3448/3448 [==============================] - 8s 2ms/step - loss: 0.0175 - val_loss: 0.0058\n",
      "CTSH\n",
      "Train on 4494 samples, validate on 237 samples\n",
      "Epoch 1/2\n",
      "4494/4494 [==============================] - 10s 2ms/step - loss: 0.0243 - val_loss: 0.0057\n",
      "Epoch 2/2\n",
      "4494/4494 [==============================] - 10s 2ms/step - loss: 0.0225 - val_loss: 0.0055\n",
      "VIVO\n",
      "Train on 4494 samples, validate on 237 samples\n",
      "Epoch 1/2\n",
      "4494/4494 [==============================] - 10s 2ms/step - loss: 0.0110 - val_loss: 0.0028\n",
      "Epoch 2/2\n",
      "4494/4494 [==============================] - 10s 2ms/step - loss: 0.0107 - val_loss: 0.0028\n",
      "IBM\n",
      "Train on 4495 samples, validate on 237 samples\n",
      "Epoch 1/2\n",
      "4495/4495 [==============================] - 10s 2ms/step - loss: 0.0031 - val_loss: 0.0055\n",
      "Epoch 2/2\n",
      "4495/4495 [==============================] - 10s 2ms/step - loss: 0.0030 - val_loss: 0.0052\n",
      "CSCO\n",
      "Train on 4494 samples, validate on 237 samples\n",
      "Epoch 1/2\n",
      "4494/4494 [==============================] - 10s 2ms/step - loss: 0.0067 - val_loss: 0.0037\n",
      "Epoch 2/2\n",
      "4494/4494 [==============================] - 11s 2ms/step - loss: 0.0070 - val_loss: 0.0038\n",
      "NVDA\n",
      "Train on 4494 samples, validate on 237 samples\n",
      "Epoch 1/2\n",
      "4494/4494 [==============================] - 11s 2ms/step - loss: 0.0466 - val_loss: 0.0123\n",
      "Epoch 2/2\n",
      "4494/4494 [==============================] - 11s 2ms/step - loss: 0.0516 - val_loss: 0.0123\n",
      "AMD\n",
      "Train on 4494 samples, validate on 237 samples\n",
      "Epoch 1/2\n",
      "4494/4494 [==============================] - 10s 2ms/step - loss: 0.0899 - val_loss: 0.0421\n",
      "Epoch 2/2\n",
      "4494/4494 [==============================] - 10s 2ms/step - loss: 0.0724 - val_loss: 0.0281\n",
      "NKTR\n",
      "Train on 4494 samples, validate on 237 samples\n",
      "Epoch 1/2\n",
      "4494/4494 [==============================] - 10s 2ms/step - loss: 0.0693 - val_loss: 0.0049\n",
      "Epoch 2/2\n",
      "4494/4494 [==============================] - 10s 2ms/step - loss: 0.0631 - val_loss: 0.0027\n",
      "WMT\n",
      "Train on 4495 samples, validate on 237 samples\n",
      "Epoch 1/2\n",
      "4495/4495 [==============================] - 10s 2ms/step - loss: 0.0026 - val_loss: 8.6243e-04\n",
      "Epoch 2/2\n",
      "4495/4495 [==============================] - 10s 2ms/step - loss: 0.0018 - val_loss: 0.0016\n",
      "AAPL\n",
      "Train on 4494 samples, validate on 237 samples\n",
      "Epoch 1/2\n",
      "4494/4494 [==============================] - 10s 2ms/step - loss: 0.0281 - val_loss: 0.0047\n",
      "Epoch 2/2\n",
      "4494/4494 [==============================] - 10s 2ms/step - loss: 0.0278 - val_loss: 0.0047\n",
      "ABT\n",
      "Train on 4495 samples, validate on 237 samples\n",
      "Epoch 1/2\n",
      "4495/4495 [==============================] - 10s 2ms/step - loss: 0.0032 - val_loss: 0.0018\n",
      "Epoch 2/2\n",
      "4495/4495 [==============================] - 10s 2ms/step - loss: 0.0030 - val_loss: 0.0018\n",
      "ACN\n",
      "Train on 4181 samples, validate on 220 samples\n",
      "Epoch 1/2\n",
      "4181/4181 [==============================] - 10s 2ms/step - loss: 0.0033 - val_loss: 0.0024\n",
      "Epoch 2/2\n",
      "4181/4181 [==============================] - 10s 2ms/step - loss: 0.0032 - val_loss: 0.0024\n",
      "ADBE\n",
      "Train on 4494 samples, validate on 237 samples\n",
      "Epoch 1/2\n",
      "4494/4494 [==============================] - 10s 2ms/step - loss: 0.0089 - val_loss: 0.0027\n",
      "Epoch 2/2\n",
      "4494/4494 [==============================] - 11s 2ms/step - loss: 0.0086 - val_loss: 0.0025\n",
      "AGN\n",
      "Train on 4495 samples, validate on 237 samples\n",
      "Epoch 1/2\n",
      "4495/4495 [==============================] - 10s 2ms/step - loss: 0.0084 - val_loss: 0.0031\n",
      "Epoch 2/2\n",
      "4495/4495 [==============================] - 10s 2ms/step - loss: 0.0082 - val_loss: 0.0034\n",
      "AIG\n",
      "Train on 4495 samples, validate on 237 samples\n",
      "Epoch 1/2\n",
      "4495/4495 [==============================] - 10s 2ms/step - loss: 32.4611 - val_loss: 0.0111\n",
      "Epoch 2/2\n",
      "4495/4495 [==============================] - 11s 2ms/step - loss: 27.5956 - val_loss: 0.0057\n",
      "ALL\n",
      "Train on 4495 samples, validate on 237 samples\n",
      "Epoch 1/2\n",
      "4495/4495 [==============================] - 11s 2ms/step - loss: 0.0140 - val_loss: 0.0023\n",
      "Epoch 2/2\n",
      "4495/4495 [==============================] - 11s 2ms/step - loss: 0.0099 - val_loss: 0.0021\n",
      "AMGN\n",
      "Train on 4494 samples, validate on 237 samples\n",
      "Epoch 1/2\n",
      "4494/4494 [==============================] - 11s 2ms/step - loss: 0.0065 - val_loss: 0.0011\n",
      "Epoch 2/2\n",
      "4494/4494 [==============================] - 11s 2ms/step - loss: 0.0058 - val_loss: 0.0012\n",
      "AXP\n",
      "not found\n",
      "BA\n",
      "Train on 4495 samples, validate on 237 samples\n",
      "Epoch 1/2\n",
      "4495/4495 [==============================] - 11s 2ms/step - loss: 0.0137 - val_loss: 0.0062\n",
      "Epoch 2/2\n",
      "4495/4495 [==============================] - 10s 2ms/step - loss: 0.0117 - val_loss: 0.0076\n",
      "BAC\n",
      "Train on 4495 samples, validate on 237 samples\n",
      "Epoch 1/2\n",
      "4495/4495 [==============================] - 10s 2ms/step - loss: 0.0249 - val_loss: 0.0071\n",
      "Epoch 2/2\n",
      "4495/4495 [==============================] - 10s 2ms/step - loss: 0.0198 - val_loss: 0.0040\n",
      "BIIB\n",
      "Train on 4494 samples, validate on 237 samples\n",
      "Epoch 1/2\n",
      "4494/4494 [==============================] - 10s 2ms/step - loss: 0.0145 - val_loss: 0.0025\n",
      "Epoch 2/2\n",
      "4494/4494 [==============================] - 11s 2ms/step - loss: 0.0125 - val_loss: 0.0020\n",
      "BK\n",
      "Train on 4495 samples, validate on 237 samples\n",
      "Epoch 1/2\n",
      "4495/4495 [==============================] - 10s 2ms/step - loss: 0.0051 - val_loss: 0.0031\n",
      "Epoch 2/2\n",
      "4495/4495 [==============================] - 11s 2ms/step - loss: 0.0048 - val_loss: 0.0025\n",
      "BKNG\n",
      "Train on 4495 samples, validate on 237 samples\n",
      "Epoch 1/2\n",
      "4495/4495 [==============================] - 11s 2ms/step - loss: 0.7395 - val_loss: 0.0044\n",
      "Epoch 2/2\n",
      "4495/4495 [==============================] - 10s 2ms/step - loss: 0.6809 - val_loss: 0.0150\n",
      "BLK\n",
      "not found\n",
      "BMY\n",
      "Train on 4495 samples, validate on 237 samples\n",
      "Epoch 1/2\n",
      "4495/4495 [==============================] - 10s 2ms/step - loss: 0.0205 - val_loss: 0.0035\n",
      "Epoch 2/2\n",
      "4495/4495 [==============================] - 10s 2ms/step - loss: 0.0097 - val_loss: 0.0017\n",
      "BRK.B\n",
      "Train on 4495 samples, validate on 237 samples\n",
      "Epoch 1/2\n",
      "4495/4495 [==============================] - 11s 2ms/step - loss: 0.0104 - val_loss: 0.0015\n",
      "Epoch 2/2\n",
      "4495/4495 [==============================] - 11s 2ms/step - loss: 0.0095 - val_loss: 0.0014\n",
      "C\n",
      "Train on 4495 samples, validate on 237 samples\n",
      "Epoch 1/2\n",
      "4495/4495 [==============================] - 10s 2ms/step - loss: 0.4794 - val_loss: 0.0092\n",
      "Epoch 2/2\n",
      "4495/4495 [==============================] - 10s 2ms/step - loss: 0.2343 - val_loss: 0.0087\n",
      "CAT\n",
      "Train on 4495 samples, validate on 237 samples\n",
      "Epoch 1/2\n",
      "4495/4495 [==============================] - 10s 2ms/step - loss: 0.0169 - val_loss: 0.0036\n",
      "Epoch 2/2\n",
      "4495/4495 [==============================] - 11s 2ms/step - loss: 0.0129 - val_loss: 0.0038\n",
      "CL\n",
      "not found\n",
      "CMCSA\n",
      "Train on 4495 samples, validate on 237 samples\n",
      "Epoch 1/2\n",
      "4495/4495 [==============================] - 11s 2ms/step - loss: 0.0092 - val_loss: 0.0019\n",
      "Epoch 2/2\n",
      "4495/4495 [==============================] - 10s 2ms/step - loss: 0.0088 - val_loss: 0.0019\n",
      "COF\n",
      "Train on 4495 samples, validate on 237 samples\n",
      "Epoch 1/2\n",
      "4495/4495 [==============================] - 10s 2ms/step - loss: 0.0166 - val_loss: 0.0060\n",
      "Epoch 2/2\n",
      "4495/4495 [==============================] - 10s 2ms/step - loss: 0.0139 - val_loss: 0.0064\n",
      "COST\n",
      "Train on 4494 samples, validate on 237 samples\n",
      "Epoch 1/2\n",
      "4494/4494 [==============================] - 10s 2ms/step - loss: 0.0039 - val_loss: 0.0013\n",
      "Epoch 2/2\n",
      "4494/4494 [==============================] - 11s 2ms/step - loss: 0.0038 - val_loss: 0.0013\n",
      "CVS\n",
      "Train on 4495 samples, validate on 237 samples\n",
      "Epoch 1/2\n",
      "4495/4495 [==============================] - 10s 2ms/step - loss: 0.0071 - val_loss: 0.0015\n",
      "Epoch 2/2\n"
     ]
    },
    {
     "name": "stdout",
     "output_type": "stream",
     "text": [
      "4495/4495 [==============================] - 11s 2ms/step - loss: 0.0069 - val_loss: 0.0015\n",
      "CVX\n",
      "not found\n",
      "DD\n",
      "not found\n",
      "DHR\n",
      "Train on 4495 samples, validate on 237 samples\n",
      "Epoch 1/2\n",
      "4495/4495 [==============================] - 11s 2ms/step - loss: 0.0058 - val_loss: 0.0023\n",
      "Epoch 2/2\n",
      "4495/4495 [==============================] - 10s 2ms/step - loss: 0.0057 - val_loss: 0.0022\n",
      "DIS\n",
      "Train on 4495 samples, validate on 237 samples\n",
      "Epoch 1/2\n",
      "4495/4495 [==============================] - 10s 2ms/step - loss: 0.0057 - val_loss: 0.0034\n",
      "Epoch 2/2\n",
      "4495/4495 [==============================] - 11s 2ms/step - loss: 0.0055 - val_loss: 0.0034\n",
      "DUK\n",
      "Train on 4495 samples, validate on 237 samples\n",
      "Epoch 1/2\n",
      "4495/4495 [==============================] - 10s 2ms/step - loss: 0.0294 - val_loss: 0.0026\n",
      "Epoch 2/2\n",
      "4495/4495 [==============================] - 11s 2ms/step - loss: 0.0287 - val_loss: 0.0021\n",
      "EMR\n",
      "not found\n",
      "EXC\n",
      "Train on 4494 samples, validate on 237 samples\n",
      "Epoch 1/2\n",
      "4494/4494 [==============================] - 11s 2ms/step - loss: 0.0062 - val_loss: 0.0025\n",
      "Epoch 2/2\n",
      "4494/4494 [==============================] - 11s 2ms/step - loss: 0.0058 - val_loss: 0.0027\n",
      "F\n",
      "Train on 4495 samples, validate on 237 samples\n",
      "Epoch 1/2\n",
      "4495/4495 [==============================] - 11s 2ms/step - loss: 0.0549 - val_loss: 0.0060\n",
      "Epoch 2/2\n",
      "4495/4495 [==============================] - 11s 2ms/step - loss: 0.0419 - val_loss: 0.0031\n",
      "FB\n",
      "Train on 1592 samples, validate on 84 samples\n",
      "Epoch 1/2\n",
      "1592/1592 [==============================] - 4s 3ms/step - loss: 0.0292 - val_loss: 0.0066\n",
      "Epoch 2/2\n",
      "1592/1592 [==============================] - 4s 3ms/step - loss: 0.0194 - val_loss: 0.0099\n",
      "FDX\n",
      "Train on 4495 samples, validate on 237 samples\n",
      "Epoch 1/2\n",
      "4495/4495 [==============================] - 11s 2ms/step - loss: 0.0060 - val_loss: 0.0031\n",
      "Epoch 2/2\n",
      "4495/4495 [==============================] - 11s 2ms/step - loss: 0.0047 - val_loss: 0.0026\n",
      "GD\n",
      "Train on 4495 samples, validate on 237 samples\n",
      "Epoch 1/2\n",
      "4495/4495 [==============================] - 11s 2ms/step - loss: 0.0054 - val_loss: 0.0023\n",
      "Epoch 2/2\n",
      "4495/4495 [==============================] - 11s 2ms/step - loss: 0.0052 - val_loss: 0.0028\n",
      "GE\n",
      "not found\n",
      "GILD\n",
      "Train on 4494 samples, validate on 237 samples\n",
      "Epoch 1/2\n",
      "4494/4494 [==============================] - 11s 2ms/step - loss: 0.0102 - val_loss: 8.4846e-04\n",
      "Epoch 2/2\n",
      "4494/4494 [==============================] - 11s 2ms/step - loss: 0.0103 - val_loss: 9.8039e-04\n",
      "GM\n",
      "Train on 1950 samples, validate on 103 samples\n",
      "Epoch 1/2\n",
      "1950/1950 [==============================] - 5s 2ms/step - loss: 0.0046 - val_loss: 0.0066\n",
      "Epoch 2/2\n",
      "1950/1950 [==============================] - 5s 2ms/step - loss: 0.0049 - val_loss: 0.0068\n",
      "GOOG\n",
      "Train on 1152 samples, validate on 61 samples\n",
      "Epoch 1/2\n",
      "1152/1152 [==============================] - 3s 3ms/step - loss: 0.0025 - val_loss: 0.0064\n",
      "Epoch 2/2\n",
      "1152/1152 [==============================] - 3s 3ms/step - loss: 0.0025 - val_loss: 0.0060\n",
      "GS\n",
      "Train on 4495 samples, validate on 237 samples\n",
      "Epoch 1/2\n",
      "3584/4495 [======================>.......] - ETA: 2s - loss: 0.0064"
     ]
    }
   ],
   "source": [
    "epochs = 2\n",
    "#stock_list = set_stock_list()\n",
    "for stock in stock_list:\n",
    "    print(stock)\n",
    "    try:\n",
    "        x_train,x_test,y_train,y_test, reverse, row = set_data(stock , seq_length)\n",
    "        hist = model.fit(\n",
    "                x_train,\n",
    "                y_train,\n",
    "                batch_size = 256,\n",
    "                nb_epoch=epochs,\n",
    "                validation_data=(x_test, y_test))\n",
    "    except:\n",
    "        print(\"not found\")\n",
    "\n"
   ]
  },
  {
   "cell_type": "code",
   "execution_count": null,
   "metadata": {},
   "outputs": [],
   "source": [
    "x_train, x_test, y_train,y_test, for_reverse, row = set_data('TCCO',seq_length)\n",
    "y_test_graph = reverse_normalise(y_test, for_reverse, row)"
   ]
  },
  {
   "cell_type": "code",
   "execution_count": null,
   "metadata": {},
   "outputs": [],
   "source": [
    "predicted = predict_point_by_point(model, x_test)\n",
    "predicted_graph = reverse_normalise(predicted, for_reverse, row)\n",
    "mse(y_test,predicted)"
   ]
  },
  {
   "cell_type": "code",
   "execution_count": null,
   "metadata": {},
   "outputs": [],
   "source": [
    "plt.plot(y_test[150:])\n",
    "plt.plot(predicted[150:])\n"
   ]
  },
  {
   "cell_type": "code",
   "execution_count": null,
   "metadata": {},
   "outputs": [],
   "source": [
    "correct , incorrect= accuracy(y_test, predicted)\n",
    "print(\"number correct:\", correct)\n",
    "print(\"number incorrect\", incorrect)\n",
    "print(\"percetage correct:\", float(correct/(correct+incorrect)))"
   ]
  },
  {
   "cell_type": "code",
   "execution_count": null,
   "metadata": {},
   "outputs": [],
   "source": [
    "predictions = predict_sequences_multiple(model, x_test, seq_length,10)\n",
    "plot_results_multiple(predictions, y_test, 10, 'TCCO') "
   ]
  },
  {
   "cell_type": "code",
   "execution_count": null,
   "metadata": {},
   "outputs": [],
   "source": [
    "best = 0.0000001\n",
    "average = 0"
   ]
  },
  {
   "cell_type": "code",
   "execution_count": null,
   "metadata": {
    "scrolled": true
   },
   "outputs": [],
   "source": [
    "#10 works best\n",
    "for stock in stock_list:\n",
    "    try:\n",
    "        x_train,x_test,y_train,y_test, for_reverse, row = set_data(stock , seq_length)\n",
    "        predicted = predict_point_by_point(model, x_test)\n",
    "        y_test_graph = reverse_normalise(y_test, for_reverse, row)\n",
    "        predicted_graph = reverse_normalise(predicted, for_reverse, row)\n",
    "        plt.plot(y_test[150:])\n",
    "        plt.plot(predicted[150:])\n",
    "        plt.title(stock + \" Closing Stock Price day to day\")\n",
    "        plt.show()\n",
    "        correct , incorrect = accuracy(y_test, predicted)\n",
    "        print(stock, \" number correct:\", correct)\n",
    "        print(stock,\" number incorrect\", incorrect)\n",
    "        print(stock,\" percetage correct:\", float(correct/(correct+incorrect)))\n",
    "        average = average + float(correct/(correct+incorrect))\n",
    "        if float(correct/(correct+incorrect)) > best:\n",
    "            best = float(correct/(correct+incorrect))\n",
    "            best_stock = stock\n",
    "    except:\n",
    "        print(\"not found\")\n",
    "print(\"best stock:\",best_stock)\n",
    "print(\"score: \",best)\n",
    "print(\"average: \", float(average/(len(stock_list))))"
   ]
  },
  {
   "cell_type": "code",
   "execution_count": null,
   "metadata": {},
   "outputs": [],
   "source": [
    "stock_list = ['AMZN', 'MSFT', 'GOOGL', 'CTSH', 'VIVO', 'IBM', 'CSCO', 'NVDA','AMD', 'NKTR', 'WMT']"
   ]
  },
  {
   "cell_type": "code",
   "execution_count": null,
   "metadata": {
    "scrolled": true
   },
   "outputs": [],
   "source": [
    "for stock in stock_list:\n",
    "    x_train,x_test,y_train,y_test, result, row = set_data(stock , seq_length)\n",
    "    predictions = predict_sequences_multiple(model, x_test, seq_length,7)\n",
    "    plot_results_multiple(predictions, y_test, 7, stock) "
   ]
  },
  {
   "cell_type": "code",
   "execution_count": null,
   "metadata": {},
   "outputs": [],
   "source": []
  },
  {
   "cell_type": "code",
   "execution_count": 761,
   "metadata": {},
   "outputs": [],
   "source": [
    "model.save('stock_nn_'+ str(epochs)+'epochs_'+str(seq_length)+'best2.h5')"
   ]
  },
  {
   "cell_type": "code",
   "execution_count": 743,
   "metadata": {},
   "outputs": [],
   "source": [
    "model = load_model('stock_nn_1epochs_200best.h5')"
   ]
  },
  {
   "cell_type": "code",
   "execution_count": 692,
   "metadata": {},
   "outputs": [],
   "source": [
    "def predict_future(stock, days, model):\n",
    "        x_train,x_test,y_train,y_test, for_reverse, row = set_data(stock , seq_length)\n",
    "        prev_predicted = predict_point_by_point(model, x_test)\n",
    "        new = x_test[-1][1:]\n",
    "        new = np.append(new, y_test[-1])\n",
    "        new = new.reshape(1,-1,1)\n",
    "        newPredicted = model.predict(new)\n",
    "        prev_predicted = np.append(prev_predicted,newPredicted)\n",
    "        for i in range(2,days+1):\n",
    "            new = x_test[-1][i:]\n",
    "            new = np.append(new, prev_predicted[len(prev_predicted)-i:])\n",
    "            new = new.reshape(1,-1,1)\n",
    "            newPredicted = model.predict(new)\n",
    "            prev_predicted = np.append(prev_predicted,newPredicted)\n",
    "        return (y_test, prev_predicted)"
   ]
  },
  {
   "cell_type": "code",
   "execution_count": 693,
   "metadata": {},
   "outputs": [],
   "source": [
    "days = 7"
   ]
  },
  {
   "cell_type": "code",
   "execution_count": 741,
   "metadata": {},
   "outputs": [],
   "source": [
    "y_test , predicted = predict_future('IBM', days, model)"
   ]
  },
  {
   "cell_type": "code",
   "execution_count": 742,
   "metadata": {},
   "outputs": [
    {
     "data": {
      "text/plain": [
       "<matplotlib.lines.Line2D at 0x23251666dc8>"
      ]
     },
     "execution_count": 742,
     "metadata": {},
     "output_type": "execute_result"
    },
    {
     "data": {
      "image/png": "[encoded data removed]",
      "text/plain": [
       "<Figure size 1080x504 with 1 Axes>"
      ]
     },
     "metadata": {
      "needs_background": "light"
     },
     "output_type": "display_data"
    }
   ],
   "source": [
    "plt.figure(figsize = (15,7))\n",
    "plt.plot(predicted[len(predicted)-100:], color = 'red')\n",
    "plt.plot(y_test[len(y_test)-100+days:], color = 'g')\n",
    "plt.axvline(100-days-1, 0, 1, linestyle = '-.' , color ='black')"
   ]
  },
  {
   "cell_type": "code",
   "execution_count": 337,
   "metadata": {},
   "outputs": [
    {
     "data": {
      "text/plain": [
       "[<matplotlib.lines.Line2D at 0x2320e23e348>]"
      ]
     },
     "execution_count": 337,
     "metadata": {},
     "output_type": "execute_result"
    },
    {
     "data": {
      "image/png": "[encoded data removed]",
      "text/plain": [
       "<Figure size 432x288 with 1 Axes>"
      ]
     },
     "metadata": {
      "needs_background": "light"
     },
     "output_type": "display_data"
    }
   ],
   "source": []
  },
  {
   "cell_type": "code",
   "execution_count": null,
   "metadata": {},
   "outputs": [],
   "source": []
  }
 ],
 "metadata": {
  "kernelspec": {
   "display_name": "Python 3",
   "language": "python",
   "name": "python3"
  },
  "language_info": {
   "codemirror_mode": {
    "name": "ipython",
    "version": 3
   },
   "file_extension": ".py",
   "mimetype": "text/x-python",
   "name": "python",
   "nbconvert_exporter": "python",
   "pygments_lexer": "ipython3",
   "version": "3.7.4"
  }
 },
 "nbformat": 4,
 "nbformat_minor": 2
}
