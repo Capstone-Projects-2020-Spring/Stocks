{
 "cells": [
  {
   "cell_type": "code",
   "execution_count": 54,
   "metadata": {},
   "outputs": [],
   "source": [
    "import pandas as pd\n",
    "import numpy as np\n",
    "from sklearn.preprocessing import MinMaxScaler\n",
    "from keras.models import Sequential\n",
    "from keras.layers import Dense\n",
    "from keras.layers import LSTM\n",
    "from keras.layers import Dropout\n",
    "import matplotlib.pyplot as plt"
   ]
  },
  {
   "cell_type": "code",
   "execution_count": 63,
   "metadata": {},
   "outputs": [],
   "source": [
    "df = pd.read_csv(\"../Stocks/StockCSV/AAPL.csv\", parse_dates = True)\n"
   ]
  },
  {
   "cell_type": "code",
   "execution_count": 60,
   "metadata": {},
   "outputs": [
    {
     "data": {
      "text/plain": [
       "[<matplotlib.lines.Line2D at 0x1134a8350>]"
      ]
     },
     "execution_count": 60,
     "metadata": {},
     "output_type": "execute_result"
    },
    {
     "data": {
      "image/png": "[encoded data removed]",
      "text/plain": [
       "<Figure size 432x288 with 1 Axes>"
      ]
     },
     "metadata": {
      "needs_background": "light"
     },
     "output_type": "display_data"
    }
   ],
   "source": [
    "training = df[500:][\"4. close\"].values\n",
    "test = df[:500][\"4. close\"].values\n",
    "scaled = MinMaxScaler(feature_range = (0,1))\n",
    "#scaled_training = scaled.fit_transform(training)\n",
    "training = training.reshape(-1,1)\n",
    "training_scaled = scaled.fit_transform(training)\n",
    "training_scaled"
   ]
  },
  {
   "cell_type": "code",
   "execution_count": 61,
   "metadata": {},
   "outputs": [
    {
     "data": {
      "text/plain": [
       "4533"
      ]
     },
     "execution_count": 61,
     "metadata": {},
     "output_type": "execute_result"
    }
   ],
   "source": [
    "X_train = []\n",
    "y_train = []\n",
    "for i in range(20,len(training_scaled)):\n",
    "    y_train.append(training_scaled)\n",
    "    for j in range(0,i):\n",
    "        X_train.append\n"
   ]
  },
  {
   "cell_type": "code",
   "execution_count": 46,
   "metadata": {},
   "outputs": [],
   "source": [
    "import numpy as np\n",
    "X_train = []\n",
    "y_train = []\n",
    "for i in range(60,4533):\n",
    "    X_train.append(training_set_scaled[i-60:i, 0])\n",
    "    y_train.append(training_set_scaled[i,0])\n",
    "X_train, y_train = np.array(X_train), np.array(y_train)\n",
    "\n",
    "X_train = np.reshape(X_train, (X_train.shape[0], X_train.shape[1], 1))"
   ]
  },
  {
   "cell_type": "code",
   "execution_count": 48,
   "metadata": {},
   "outputs": [
    {
     "data": {
      "text/plain": [
       "array([0.23503815, 0.23482057, 0.23300746, ..., 0.14886426, 0.15698703,\n",
       "       0.15829248])"
      ]
     },
     "execution_count": 48,
     "metadata": {},
     "output_type": "execute_result"
    }
   ],
   "source": [
    "y_train"
   ]
  },
  {
   "cell_type": "code",
   "execution_count": 50,
   "metadata": {},
   "outputs": [],
   "source": [
    "from keras.models import Sequential\n",
    "from keras.layers import Dense\n",
    "from keras.layers import LSTM\n",
    "from keras.layers import Dropout"
   ]
  },
  {
   "cell_type": "code",
   "execution_count": null,
   "metadata": {},
   "outputs": [
    {
     "name": "stdout",
     "output_type": "stream",
     "text": [
      "Epoch 1/100\n",
      "4473/4473 [==============================] - 89s 20ms/step - loss: 0.0067\n",
      "Epoch 2/100\n",
      "4473/4473 [==============================] - 78s 18ms/step - loss: 0.0026\n",
      "Epoch 3/100\n",
      "4473/4473 [==============================] - 77s 17ms/step - loss: 0.0025\n",
      "Epoch 4/100\n",
      "4473/4473 [==============================] - 89s 20ms/step - loss: 0.0022\n",
      "Epoch 5/100\n",
      "4473/4473 [==============================] - 84s 19ms/step - loss: 0.0020\n",
      "Epoch 6/100\n",
      "4473/4473 [==============================] - 90s 20ms/step - loss: 0.0019\n",
      "Epoch 7/100\n",
      "4473/4473 [==============================] - 96s 21ms/step - loss: 0.0017\n",
      "Epoch 8/100\n",
      "4473/4473 [==============================] - 100s 22ms/step - loss: 0.0016\n",
      "Epoch 9/100\n",
      "4473/4473 [==============================] - 91s 20ms/step - loss: 0.0015\n",
      "Epoch 10/100\n",
      "4473/4473 [==============================] - 81s 18ms/step - loss: 0.0016\n",
      "Epoch 11/100\n",
      "4473/4473 [==============================] - 81s 18ms/step - loss: 0.0013\n",
      "Epoch 12/100\n",
      "4473/4473 [==============================] - 79s 18ms/step - loss: 0.0013\n",
      "Epoch 13/100\n",
      "4473/4473 [==============================] - 85s 19ms/step - loss: 0.0014\n",
      "Epoch 14/100\n",
      "4473/4473 [==============================] - 101s 23ms/step - loss: 0.0013\n",
      "Epoch 15/100\n",
      "4473/4473 [==============================] - 95s 21ms/step - loss: 0.0012\n",
      "Epoch 16/100\n",
      "4473/4473 [==============================] - 81s 18ms/step - loss: 0.0011\n",
      "Epoch 17/100\n",
      "4473/4473 [==============================] - 91s 20ms/step - loss: 0.0010\n",
      "Epoch 18/100\n",
      "4473/4473 [==============================] - 96s 22ms/step - loss: 0.0010\n",
      "Epoch 19/100\n",
      "4473/4473 [==============================] - 94s 21ms/step - loss: 0.0010\n",
      "Epoch 20/100\n",
      "4473/4473 [==============================] - 88s 20ms/step - loss: 9.6590e-04\n",
      "Epoch 21/100\n",
      "4473/4473 [==============================] - 115s 26ms/step - loss: 0.0010\n",
      "Epoch 22/100\n",
      "4473/4473 [==============================] - 107s 24ms/step - loss: 9.7803e-04\n",
      "Epoch 23/100\n",
      "4473/4473 [==============================] - 102s 23ms/step - loss: 9.2458e-04\n",
      "Epoch 24/100\n",
      "4473/4473 [==============================] - 141s 32ms/step - loss: 9.3359e-04\n",
      "Epoch 25/100\n",
      "3264/4473 [====================>.........] - ETA: 30s - loss: 9.1372e-04"
     ]
    }
   ],
   "source": [
    "regressor = Sequential()\n",
    "\n",
    "regressor.add(LSTM(units = 50, return_sequences = True, input_shape = (X_train.shape[1], 1)))\n",
    "regressor.add(Dropout(0.2))\n",
    "\n",
    "regressor.add(LSTM(units = 50, return_sequences = True))\n",
    "regressor.add(Dropout(0.2))\n",
    "\n",
    "regressor.add(LSTM(units = 50, return_sequences = True))\n",
    "regressor.add(Dropout(0.2))\n",
    "\n",
    "regressor.add(LSTM(units = 50))\n",
    "regressor.add(Dropout(0.2))\n",
    "\n",
    "regressor.add(Dense(units = 1))\n",
    "\n",
    "regressor.compile(optimizer = 'adam', loss = 'mean_squared_error')\n",
    "\n",
    "regressor.fit(X_train, y_train, epochs = 100, batch_size = 32)"
   ]
  },
  {
   "cell_type": "code",
   "execution_count": null,
   "metadata": {},
   "outputs": [],
   "source": []
  }
 ],
 "metadata": {
  "kernelspec": {
   "display_name": "Python 3",
   "language": "python",
   "name": "python3"
  },
  "language_info": {
   "codemirror_mode": {
    "name": "ipython",
    "version": 3
   },
   "file_extension": ".py",
   "mimetype": "text/x-python",
   "name": "python",
   "nbconvert_exporter": "python",
   "pygments_lexer": "ipython3",
   "version": "3.7.4"
  }
 },
 "nbformat": 4,
 "nbformat_minor": 2
}
